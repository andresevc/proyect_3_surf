{
 "cells": [
  {
   "cell_type": "markdown",
   "metadata": {
    "id": "3rYiDeEH0q0f"
   },
   "source": [
    "# ¿Cuál es la mejor tarifa?\n",
    "\n",
    "Trabajas como analista para el operador de telecomunicaciones Megaline. La empresa ofrece a sus clientes dos tarifas de prepago, Surf y Ultimate. El departamento comercial quiere saber cuál de las tarifas genera más ingresos para poder ajustar el presupuesto de publicidad.\n",
    "\n",
    "Vas a realizar un análisis preliminar de las tarifas basado en una selección de clientes relativamente pequeña. Tendrás los datos de 500 clientes de Megaline: quiénes son los clientes, de dónde son, qué tarifa usan, así como la cantidad de llamadas que hicieron y los mensajes de texto que enviaron en 2018. Tu trabajo es analizar el comportamiento de los clientes y determinar qué tarifa de prepago genera más ingresos."
   ]
  },
  {
   "cell_type": "markdown",
   "metadata": {
    "id": "MQi4IPy70q0y"
   },
   "source": [
    "## Inicialización"
   ]
  },
  {
   "cell_type": "code",
   "execution_count": 2,
   "metadata": {
    "id": "MtYIuBxu0q0z"
   },
   "outputs": [],
   "source": [
    "# Cargar todas las librerías\n",
    "import pandas as pd\n",
    "import numpy as np \n",
    "from matplotlib import pyplot as plt\n",
    "from scipy import stats as st \n",
    "import seaborn as sns\n",
    "import math \n",
    "\n"
   ]
  },
  {
   "cell_type": "markdown",
   "metadata": {
    "id": "4ysWWC5i0q00"
   },
   "source": [
    "## Cargar datos"
   ]
  },
  {
   "cell_type": "code",
   "execution_count": 8,
   "metadata": {
    "id": "CCqPW7rS0q01"
   },
   "outputs": [],
   "source": [
    "# Carga los archivos de datos en diferentes DataFrames\n",
    "df_calls = pd.read_csv('C:/Users/andre/Documents/TRIPLETEN ANALISIS DE DATOS/Proyectos/Proyecto_3/megaline_calls.csv')#carga la tabla de llamadas\n",
    "df_internet=pd.read_csv('C:/Users/andre/Documents/TRIPLETEN ANALISIS DE DATOS/Proyectos/Proyecto_3/megaline_internet.csv')# carga la tabla de internet\n",
    "df_messages=pd.read_csv('C:/Users/andre/Documents/TRIPLETEN ANALISIS DE DATOS/Proyectos/Proyecto_3/megaline_messages.csv')# carga la tabla de mensajes\n",
    "df_plans=pd.read_csv('C:/Users/andre/Documents/TRIPLETEN ANALISIS DE DATOS/Proyectos/Proyecto_3/megaline_plans.csv')#carga la tabla de planes\n",
    "df_users=pd.read_csv('C:/Users/andre/Documents/TRIPLETEN ANALISIS DE DATOS/Proyectos/Proyecto_3/megaline_users.csv')#carga la tabla de usuarios \n",
    "\n"
   ]
  },
  {
   "cell_type": "markdown",
   "metadata": {
    "id": "69qqoJ3r0q01"
   },
   "source": [
    "## Preparar los datos"
   ]
  },
  {
   "cell_type": "markdown",
   "metadata": {
    "id": "vUuZw80S0q01"
   },
   "source": [
    "\n",
    "Se hizo la revision de todas las tablas , todas estan correctas , una pequena observacion que en todas las tablas el user_id esta como un tipo de dato entero y este deberia ser de tipo objeto ya que es un identificador y no un numero en el cual se realizaran operaciones. De igual manera en la tabla de usuarios se encuentra en churn_date algunos valores ausentes. "
   ]
  },
  {
   "cell_type": "markdown",
   "metadata": {
    "id": "ohBhimvH0q01"
   },
   "source": [
    "## Tarifas"
   ]
  },
  {
   "cell_type": "code",
   "execution_count": 3,
   "metadata": {
    "id": "GptqP3Q40q02"
   },
   "outputs": [
    {
     "name": "stdout",
     "output_type": "stream",
     "text": [
      "<class 'pandas.core.frame.DataFrame'>\n",
      "RangeIndex: 2 entries, 0 to 1\n",
      "Data columns (total 8 columns):\n",
      " #   Column                 Non-Null Count  Dtype  \n",
      "---  ------                 --------------  -----  \n",
      " 0   messages_included      2 non-null      int64  \n",
      " 1   mb_per_month_included  2 non-null      int64  \n",
      " 2   minutes_included       2 non-null      int64  \n",
      " 3   usd_monthly_pay        2 non-null      int64  \n",
      " 4   usd_per_gb             2 non-null      int64  \n",
      " 5   usd_per_message        2 non-null      float64\n",
      " 6   usd_per_minute         2 non-null      float64\n",
      " 7   plan_name              2 non-null      object \n",
      "dtypes: float64(2), int64(5), object(1)\n",
      "memory usage: 256.0+ bytes\n"
     ]
    }
   ],
   "source": [
    "# Se imprime la información general/resumida sobre el DataFrame de las tarifas\n",
    "df_plans.info()\n"
   ]
  },
  {
   "cell_type": "code",
   "execution_count": 4,
   "metadata": {
    "id": "64xzjwL70q02"
   },
   "outputs": [
    {
     "data": {
      "text/html": [
       "<div>\n",
       "<style scoped>\n",
       "    .dataframe tbody tr th:only-of-type {\n",
       "        vertical-align: middle;\n",
       "    }\n",
       "\n",
       "    .dataframe tbody tr th {\n",
       "        vertical-align: top;\n",
       "    }\n",
       "\n",
       "    .dataframe thead th {\n",
       "        text-align: right;\n",
       "    }\n",
       "</style>\n",
       "<table border=\"1\" class=\"dataframe\">\n",
       "  <thead>\n",
       "    <tr style=\"text-align: right;\">\n",
       "      <th></th>\n",
       "      <th>messages_included</th>\n",
       "      <th>mb_per_month_included</th>\n",
       "      <th>minutes_included</th>\n",
       "      <th>usd_monthly_pay</th>\n",
       "      <th>usd_per_gb</th>\n",
       "      <th>usd_per_message</th>\n",
       "      <th>usd_per_minute</th>\n",
       "      <th>plan_name</th>\n",
       "    </tr>\n",
       "  </thead>\n",
       "  <tbody>\n",
       "    <tr>\n",
       "      <th>0</th>\n",
       "      <td>50</td>\n",
       "      <td>15360</td>\n",
       "      <td>500</td>\n",
       "      <td>20</td>\n",
       "      <td>10</td>\n",
       "      <td>0.03</td>\n",
       "      <td>0.03</td>\n",
       "      <td>surf</td>\n",
       "    </tr>\n",
       "    <tr>\n",
       "      <th>1</th>\n",
       "      <td>1000</td>\n",
       "      <td>30720</td>\n",
       "      <td>3000</td>\n",
       "      <td>70</td>\n",
       "      <td>7</td>\n",
       "      <td>0.01</td>\n",
       "      <td>0.01</td>\n",
       "      <td>ultimate</td>\n",
       "    </tr>\n",
       "  </tbody>\n",
       "</table>\n",
       "</div>"
      ],
      "text/plain": [
       "   messages_included  mb_per_month_included  minutes_included  \\\n",
       "0                 50                  15360               500   \n",
       "1               1000                  30720              3000   \n",
       "\n",
       "   usd_monthly_pay  usd_per_gb  usd_per_message  usd_per_minute plan_name  \n",
       "0               20          10             0.03            0.03      surf  \n",
       "1               70           7             0.01            0.01  ultimate  "
      ]
     },
     "execution_count": 4,
     "metadata": {},
     "output_type": "execute_result"
    }
   ],
   "source": [
    "# Se imprime una muestra de los datos para las tarifas\n",
    "df_plans\n"
   ]
  },
  {
   "cell_type": "markdown",
   "metadata": {
    "id": "mEc_3_hs0q02"
   },
   "source": [
    "\n",
    "En este caso en un comienzo se establece que se va a trabjar por minutos como unidad de tiempo , y en GB con respecto al plan , se tiene una columna que indica mb por mes , pero se lo va a transformar a gb para tener la informacion bien. "
   ]
  },
  {
   "cell_type": "markdown",
   "metadata": {
    "id": "R3C05i1l0q03"
   },
   "source": [
    "## Corregir datos"
   ]
  },
  {
   "cell_type": "markdown",
   "metadata": {
    "id": "bIi8StZI0q03"
   },
   "source": [
    "[Corrige los problemas obvios con los datos basándote en las observaciones iniciales.]"
   ]
  },
  {
   "cell_type": "code",
   "execution_count": 5,
   "metadata": {
    "id": "Y7SVmjGn0q03"
   },
   "outputs": [
    {
     "data": {
      "text/html": [
       "<div>\n",
       "<style scoped>\n",
       "    .dataframe tbody tr th:only-of-type {\n",
       "        vertical-align: middle;\n",
       "    }\n",
       "\n",
       "    .dataframe tbody tr th {\n",
       "        vertical-align: top;\n",
       "    }\n",
       "\n",
       "    .dataframe thead th {\n",
       "        text-align: right;\n",
       "    }\n",
       "</style>\n",
       "<table border=\"1\" class=\"dataframe\">\n",
       "  <thead>\n",
       "    <tr style=\"text-align: right;\">\n",
       "      <th></th>\n",
       "      <th>messages_included</th>\n",
       "      <th>gb_per_month_included</th>\n",
       "      <th>minutes_included</th>\n",
       "      <th>usd_monthly_pay</th>\n",
       "      <th>usd_per_gb</th>\n",
       "      <th>usd_per_message</th>\n",
       "      <th>usd_per_minute</th>\n",
       "      <th>plan_name</th>\n",
       "    </tr>\n",
       "  </thead>\n",
       "  <tbody>\n",
       "    <tr>\n",
       "      <th>0</th>\n",
       "      <td>50</td>\n",
       "      <td>15.0</td>\n",
       "      <td>500</td>\n",
       "      <td>20</td>\n",
       "      <td>10</td>\n",
       "      <td>0.03</td>\n",
       "      <td>0.03</td>\n",
       "      <td>surf</td>\n",
       "    </tr>\n",
       "    <tr>\n",
       "      <th>1</th>\n",
       "      <td>1000</td>\n",
       "      <td>30.0</td>\n",
       "      <td>3000</td>\n",
       "      <td>70</td>\n",
       "      <td>7</td>\n",
       "      <td>0.01</td>\n",
       "      <td>0.01</td>\n",
       "      <td>ultimate</td>\n",
       "    </tr>\n",
       "  </tbody>\n",
       "</table>\n",
       "</div>"
      ],
      "text/plain": [
       "   messages_included  gb_per_month_included  minutes_included  \\\n",
       "0                 50                   15.0               500   \n",
       "1               1000                   30.0              3000   \n",
       "\n",
       "   usd_monthly_pay  usd_per_gb  usd_per_message  usd_per_minute plan_name  \n",
       "0               20          10             0.03            0.03      surf  \n",
       "1               70           7             0.01            0.01  ultimate  "
      ]
     },
     "execution_count": 5,
     "metadata": {},
     "output_type": "execute_result"
    }
   ],
   "source": [
    "#se cammbia el nombre de la columna a por GB\n",
    "df_plans.rename(columns={'mb_per_month_included':'gb_per_month_included'},inplace=True)\n",
    "#se tiene la columna con los gbs correspondientes en este caso se observa que existen con 15 gb y con 30 gb\n",
    "df_plans['gb_per_month_included']=df_plans['gb_per_month_included']/1024\n",
    "df_plans"
   ]
  },
  {
   "cell_type": "markdown",
   "metadata": {
    "id": "1n2X6WXf0q04"
   },
   "source": [
    "## Usuarios/as"
   ]
  },
  {
   "cell_type": "code",
   "execution_count": 6,
   "metadata": {
    "id": "2NgjWFqx0q05"
   },
   "outputs": [
    {
     "name": "stdout",
     "output_type": "stream",
     "text": [
      "<class 'pandas.core.frame.DataFrame'>\n",
      "RangeIndex: 500 entries, 0 to 499\n",
      "Data columns (total 8 columns):\n",
      " #   Column      Non-Null Count  Dtype \n",
      "---  ------      --------------  ----- \n",
      " 0   user_id     500 non-null    int64 \n",
      " 1   first_name  500 non-null    object\n",
      " 2   last_name   500 non-null    object\n",
      " 3   age         500 non-null    int64 \n",
      " 4   city        500 non-null    object\n",
      " 5   reg_date    500 non-null    object\n",
      " 6   plan        500 non-null    object\n",
      " 7   churn_date  34 non-null     object\n",
      "dtypes: int64(2), object(6)\n",
      "memory usage: 31.4+ KB\n"
     ]
    }
   ],
   "source": [
    "# Se imprime la información general/resumida sobre el DataFrame de usuarios\n",
    "df_users.info()"
   ]
  },
  {
   "cell_type": "code",
   "execution_count": 7,
   "metadata": {
    "id": "1IN1L9uh0q05"
   },
   "outputs": [
    {
     "data": {
      "text/html": [
       "<div>\n",
       "<style scoped>\n",
       "    .dataframe tbody tr th:only-of-type {\n",
       "        vertical-align: middle;\n",
       "    }\n",
       "\n",
       "    .dataframe tbody tr th {\n",
       "        vertical-align: top;\n",
       "    }\n",
       "\n",
       "    .dataframe thead th {\n",
       "        text-align: right;\n",
       "    }\n",
       "</style>\n",
       "<table border=\"1\" class=\"dataframe\">\n",
       "  <thead>\n",
       "    <tr style=\"text-align: right;\">\n",
       "      <th></th>\n",
       "      <th>user_id</th>\n",
       "      <th>first_name</th>\n",
       "      <th>last_name</th>\n",
       "      <th>age</th>\n",
       "      <th>city</th>\n",
       "      <th>reg_date</th>\n",
       "      <th>plan</th>\n",
       "      <th>churn_date</th>\n",
       "    </tr>\n",
       "  </thead>\n",
       "  <tbody>\n",
       "    <tr>\n",
       "      <th>0</th>\n",
       "      <td>1000</td>\n",
       "      <td>Anamaria</td>\n",
       "      <td>Bauer</td>\n",
       "      <td>45</td>\n",
       "      <td>Atlanta-Sandy Springs-Roswell, GA MSA</td>\n",
       "      <td>2018-12-24</td>\n",
       "      <td>ultimate</td>\n",
       "      <td>NaN</td>\n",
       "    </tr>\n",
       "    <tr>\n",
       "      <th>1</th>\n",
       "      <td>1001</td>\n",
       "      <td>Mickey</td>\n",
       "      <td>Wilkerson</td>\n",
       "      <td>28</td>\n",
       "      <td>Seattle-Tacoma-Bellevue, WA MSA</td>\n",
       "      <td>2018-08-13</td>\n",
       "      <td>surf</td>\n",
       "      <td>NaN</td>\n",
       "    </tr>\n",
       "    <tr>\n",
       "      <th>2</th>\n",
       "      <td>1002</td>\n",
       "      <td>Carlee</td>\n",
       "      <td>Hoffman</td>\n",
       "      <td>36</td>\n",
       "      <td>Las Vegas-Henderson-Paradise, NV MSA</td>\n",
       "      <td>2018-10-21</td>\n",
       "      <td>surf</td>\n",
       "      <td>NaN</td>\n",
       "    </tr>\n",
       "    <tr>\n",
       "      <th>3</th>\n",
       "      <td>1003</td>\n",
       "      <td>Reynaldo</td>\n",
       "      <td>Jenkins</td>\n",
       "      <td>52</td>\n",
       "      <td>Tulsa, OK MSA</td>\n",
       "      <td>2018-01-28</td>\n",
       "      <td>surf</td>\n",
       "      <td>NaN</td>\n",
       "    </tr>\n",
       "    <tr>\n",
       "      <th>4</th>\n",
       "      <td>1004</td>\n",
       "      <td>Leonila</td>\n",
       "      <td>Thompson</td>\n",
       "      <td>40</td>\n",
       "      <td>Seattle-Tacoma-Bellevue, WA MSA</td>\n",
       "      <td>2018-05-23</td>\n",
       "      <td>surf</td>\n",
       "      <td>NaN</td>\n",
       "    </tr>\n",
       "    <tr>\n",
       "      <th>...</th>\n",
       "      <td>...</td>\n",
       "      <td>...</td>\n",
       "      <td>...</td>\n",
       "      <td>...</td>\n",
       "      <td>...</td>\n",
       "      <td>...</td>\n",
       "      <td>...</td>\n",
       "      <td>...</td>\n",
       "    </tr>\n",
       "    <tr>\n",
       "      <th>495</th>\n",
       "      <td>1495</td>\n",
       "      <td>Fidel</td>\n",
       "      <td>Sharpe</td>\n",
       "      <td>67</td>\n",
       "      <td>New York-Newark-Jersey City, NY-NJ-PA MSA</td>\n",
       "      <td>2018-09-04</td>\n",
       "      <td>surf</td>\n",
       "      <td>NaN</td>\n",
       "    </tr>\n",
       "    <tr>\n",
       "      <th>496</th>\n",
       "      <td>1496</td>\n",
       "      <td>Ariel</td>\n",
       "      <td>Shepherd</td>\n",
       "      <td>49</td>\n",
       "      <td>New Orleans-Metairie, LA MSA</td>\n",
       "      <td>2018-02-20</td>\n",
       "      <td>surf</td>\n",
       "      <td>NaN</td>\n",
       "    </tr>\n",
       "    <tr>\n",
       "      <th>497</th>\n",
       "      <td>1497</td>\n",
       "      <td>Donte</td>\n",
       "      <td>Barrera</td>\n",
       "      <td>49</td>\n",
       "      <td>Los Angeles-Long Beach-Anaheim, CA MSA</td>\n",
       "      <td>2018-12-10</td>\n",
       "      <td>ultimate</td>\n",
       "      <td>NaN</td>\n",
       "    </tr>\n",
       "    <tr>\n",
       "      <th>498</th>\n",
       "      <td>1498</td>\n",
       "      <td>Scot</td>\n",
       "      <td>Williamson</td>\n",
       "      <td>51</td>\n",
       "      <td>New York-Newark-Jersey City, NY-NJ-PA MSA</td>\n",
       "      <td>2018-02-04</td>\n",
       "      <td>surf</td>\n",
       "      <td>NaN</td>\n",
       "    </tr>\n",
       "    <tr>\n",
       "      <th>499</th>\n",
       "      <td>1499</td>\n",
       "      <td>Shena</td>\n",
       "      <td>Dickson</td>\n",
       "      <td>37</td>\n",
       "      <td>Orlando-Kissimmee-Sanford, FL MSA</td>\n",
       "      <td>2018-05-06</td>\n",
       "      <td>surf</td>\n",
       "      <td>NaN</td>\n",
       "    </tr>\n",
       "  </tbody>\n",
       "</table>\n",
       "<p>500 rows × 8 columns</p>\n",
       "</div>"
      ],
      "text/plain": [
       "     user_id first_name   last_name  age  \\\n",
       "0       1000   Anamaria       Bauer   45   \n",
       "1       1001     Mickey   Wilkerson   28   \n",
       "2       1002     Carlee     Hoffman   36   \n",
       "3       1003   Reynaldo     Jenkins   52   \n",
       "4       1004    Leonila    Thompson   40   \n",
       "..       ...        ...         ...  ...   \n",
       "495     1495      Fidel      Sharpe   67   \n",
       "496     1496      Ariel    Shepherd   49   \n",
       "497     1497      Donte     Barrera   49   \n",
       "498     1498       Scot  Williamson   51   \n",
       "499     1499      Shena     Dickson   37   \n",
       "\n",
       "                                          city    reg_date      plan  \\\n",
       "0        Atlanta-Sandy Springs-Roswell, GA MSA  2018-12-24  ultimate   \n",
       "1              Seattle-Tacoma-Bellevue, WA MSA  2018-08-13      surf   \n",
       "2         Las Vegas-Henderson-Paradise, NV MSA  2018-10-21      surf   \n",
       "3                                Tulsa, OK MSA  2018-01-28      surf   \n",
       "4              Seattle-Tacoma-Bellevue, WA MSA  2018-05-23      surf   \n",
       "..                                         ...         ...       ...   \n",
       "495  New York-Newark-Jersey City, NY-NJ-PA MSA  2018-09-04      surf   \n",
       "496               New Orleans-Metairie, LA MSA  2018-02-20      surf   \n",
       "497     Los Angeles-Long Beach-Anaheim, CA MSA  2018-12-10  ultimate   \n",
       "498  New York-Newark-Jersey City, NY-NJ-PA MSA  2018-02-04      surf   \n",
       "499          Orlando-Kissimmee-Sanford, FL MSA  2018-05-06      surf   \n",
       "\n",
       "    churn_date  \n",
       "0          NaN  \n",
       "1          NaN  \n",
       "2          NaN  \n",
       "3          NaN  \n",
       "4          NaN  \n",
       "..         ...  \n",
       "495        NaN  \n",
       "496        NaN  \n",
       "497        NaN  \n",
       "498        NaN  \n",
       "499        NaN  \n",
       "\n",
       "[500 rows x 8 columns]"
      ]
     },
     "execution_count": 7,
     "metadata": {},
     "output_type": "execute_result"
    }
   ],
   "source": [
    "# Se imprime una muestra de datos para usuarios\n",
    "df_users\n"
   ]
  },
  {
   "cell_type": "markdown",
   "metadata": {
    "id": "dCZoUq4f0q06"
   },
   "source": [
    "\n",
    "En este caso se puede ver que los datos de churn_date tiene alguns valores nulos y de igual panera el reg_date tiene en su formato de objeto , hay que transformarlo a de tipo date-time."
   ]
  },
  {
   "cell_type": "markdown",
   "metadata": {
    "id": "BX5FQh_I0q06"
   },
   "source": [
    "### Corregir los datos"
   ]
  },
  {
   "cell_type": "markdown",
   "metadata": {
    "id": "8OdKMwJv0q06"
   },
   "source": [
    "[Corrige los problemas obvios con los datos basándote en las observaciones iniciales.]"
   ]
  },
  {
   "cell_type": "code",
   "execution_count": 8,
   "metadata": {
    "id": "yUqX-K0C0q07"
   },
   "outputs": [],
   "source": [
    "#Se transforma el tipo de dato a datetime\n",
    "df_users['reg_date']=pd.to_datetime(df_users['reg_date'],format='%Y-%m-%d')\n",
    "#La columna de churn date tenia valores ausentes que representaban que los usuarios seguian usando las lineas,\n",
    "#por eso se rellenaron esos valores con Activo.\n",
    "df_users['churn_date'].fillna('Activo',inplace=True)\n"
   ]
  },
  {
   "cell_type": "markdown",
   "metadata": {
    "id": "o7MeKCid0q08"
   },
   "source": [
    "## Llamadas"
   ]
  },
  {
   "cell_type": "code",
   "execution_count": 9,
   "metadata": {
    "id": "6dDlnoDm0q08"
   },
   "outputs": [
    {
     "name": "stdout",
     "output_type": "stream",
     "text": [
      "<class 'pandas.core.frame.DataFrame'>\n",
      "RangeIndex: 137735 entries, 0 to 137734\n",
      "Data columns (total 4 columns):\n",
      " #   Column     Non-Null Count   Dtype  \n",
      "---  ------     --------------   -----  \n",
      " 0   id         137735 non-null  object \n",
      " 1   user_id    137735 non-null  int64  \n",
      " 2   call_date  137735 non-null  object \n",
      " 3   duration   137735 non-null  float64\n",
      "dtypes: float64(1), int64(1), object(2)\n",
      "memory usage: 4.2+ MB\n"
     ]
    }
   ],
   "source": [
    "# Se imprime la información general/resumida sobre el DataFrame de las llamadas\n",
    "df_calls.info()\n"
   ]
  },
  {
   "cell_type": "code",
   "execution_count": 10,
   "metadata": {
    "id": "kuh1vlNB0q09"
   },
   "outputs": [
    {
     "data": {
      "text/html": [
       "<div>\n",
       "<style scoped>\n",
       "    .dataframe tbody tr th:only-of-type {\n",
       "        vertical-align: middle;\n",
       "    }\n",
       "\n",
       "    .dataframe tbody tr th {\n",
       "        vertical-align: top;\n",
       "    }\n",
       "\n",
       "    .dataframe thead th {\n",
       "        text-align: right;\n",
       "    }\n",
       "</style>\n",
       "<table border=\"1\" class=\"dataframe\">\n",
       "  <thead>\n",
       "    <tr style=\"text-align: right;\">\n",
       "      <th></th>\n",
       "      <th>id</th>\n",
       "      <th>user_id</th>\n",
       "      <th>call_date</th>\n",
       "      <th>duration</th>\n",
       "    </tr>\n",
       "  </thead>\n",
       "  <tbody>\n",
       "    <tr>\n",
       "      <th>0</th>\n",
       "      <td>1000_93</td>\n",
       "      <td>1000</td>\n",
       "      <td>2018-12-27</td>\n",
       "      <td>8.52</td>\n",
       "    </tr>\n",
       "    <tr>\n",
       "      <th>1</th>\n",
       "      <td>1000_145</td>\n",
       "      <td>1000</td>\n",
       "      <td>2018-12-27</td>\n",
       "      <td>13.66</td>\n",
       "    </tr>\n",
       "    <tr>\n",
       "      <th>2</th>\n",
       "      <td>1000_247</td>\n",
       "      <td>1000</td>\n",
       "      <td>2018-12-27</td>\n",
       "      <td>14.48</td>\n",
       "    </tr>\n",
       "    <tr>\n",
       "      <th>3</th>\n",
       "      <td>1000_309</td>\n",
       "      <td>1000</td>\n",
       "      <td>2018-12-28</td>\n",
       "      <td>5.76</td>\n",
       "    </tr>\n",
       "    <tr>\n",
       "      <th>4</th>\n",
       "      <td>1000_380</td>\n",
       "      <td>1000</td>\n",
       "      <td>2018-12-30</td>\n",
       "      <td>4.22</td>\n",
       "    </tr>\n",
       "    <tr>\n",
       "      <th>...</th>\n",
       "      <td>...</td>\n",
       "      <td>...</td>\n",
       "      <td>...</td>\n",
       "      <td>...</td>\n",
       "    </tr>\n",
       "    <tr>\n",
       "      <th>137730</th>\n",
       "      <td>1499_199</td>\n",
       "      <td>1499</td>\n",
       "      <td>2018-11-21</td>\n",
       "      <td>8.72</td>\n",
       "    </tr>\n",
       "    <tr>\n",
       "      <th>137731</th>\n",
       "      <td>1499_200</td>\n",
       "      <td>1499</td>\n",
       "      <td>2018-10-20</td>\n",
       "      <td>10.89</td>\n",
       "    </tr>\n",
       "    <tr>\n",
       "      <th>137732</th>\n",
       "      <td>1499_201</td>\n",
       "      <td>1499</td>\n",
       "      <td>2018-09-21</td>\n",
       "      <td>8.12</td>\n",
       "    </tr>\n",
       "    <tr>\n",
       "      <th>137733</th>\n",
       "      <td>1499_202</td>\n",
       "      <td>1499</td>\n",
       "      <td>2018-10-10</td>\n",
       "      <td>0.37</td>\n",
       "    </tr>\n",
       "    <tr>\n",
       "      <th>137734</th>\n",
       "      <td>1499_203</td>\n",
       "      <td>1499</td>\n",
       "      <td>2018-12-29</td>\n",
       "      <td>13.86</td>\n",
       "    </tr>\n",
       "  </tbody>\n",
       "</table>\n",
       "<p>137735 rows × 4 columns</p>\n",
       "</div>"
      ],
      "text/plain": [
       "              id  user_id   call_date  duration\n",
       "0        1000_93     1000  2018-12-27      8.52\n",
       "1       1000_145     1000  2018-12-27     13.66\n",
       "2       1000_247     1000  2018-12-27     14.48\n",
       "3       1000_309     1000  2018-12-28      5.76\n",
       "4       1000_380     1000  2018-12-30      4.22\n",
       "...          ...      ...         ...       ...\n",
       "137730  1499_199     1499  2018-11-21      8.72\n",
       "137731  1499_200     1499  2018-10-20     10.89\n",
       "137732  1499_201     1499  2018-09-21      8.12\n",
       "137733  1499_202     1499  2018-10-10      0.37\n",
       "137734  1499_203     1499  2018-12-29     13.86\n",
       "\n",
       "[137735 rows x 4 columns]"
      ]
     },
     "execution_count": 10,
     "metadata": {},
     "output_type": "execute_result"
    }
   ],
   "source": [
    "# Se imprime una muestra de datos para las llamadas\n",
    "df_calls\n"
   ]
  },
  {
   "cell_type": "markdown",
   "metadata": {
    "id": "DOAxYJSx0q09"
   },
   "source": [
    "\n",
    "En este caso la fecha nuevamente esta en un formato de objeto el cual se necesita cambiar a un formato de fecha. Los demas datos estan bien. "
   ]
  },
  {
   "cell_type": "markdown",
   "metadata": {
    "id": "S7hzxmbX0q0-"
   },
   "source": [
    "### Corregir los datos"
   ]
  },
  {
   "cell_type": "code",
   "execution_count": 41,
   "metadata": {
    "id": "S2r8xA4f0q0-"
   },
   "outputs": [
    {
     "data": {
      "text/html": [
       "<div>\n",
       "<style scoped>\n",
       "    .dataframe tbody tr th:only-of-type {\n",
       "        vertical-align: middle;\n",
       "    }\n",
       "\n",
       "    .dataframe tbody tr th {\n",
       "        vertical-align: top;\n",
       "    }\n",
       "\n",
       "    .dataframe thead th {\n",
       "        text-align: right;\n",
       "    }\n",
       "</style>\n",
       "<table border=\"1\" class=\"dataframe\">\n",
       "  <thead>\n",
       "    <tr style=\"text-align: right;\">\n",
       "      <th></th>\n",
       "      <th>id</th>\n",
       "      <th>user_id</th>\n",
       "      <th>call_date</th>\n",
       "      <th>duration</th>\n",
       "      <th>year_month</th>\n",
       "    </tr>\n",
       "  </thead>\n",
       "  <tbody>\n",
       "    <tr>\n",
       "      <th>0</th>\n",
       "      <td>1000_93</td>\n",
       "      <td>1000</td>\n",
       "      <td>2018-12-27</td>\n",
       "      <td>9.0</td>\n",
       "      <td>2018-12</td>\n",
       "    </tr>\n",
       "    <tr>\n",
       "      <th>1</th>\n",
       "      <td>1000_145</td>\n",
       "      <td>1000</td>\n",
       "      <td>2018-12-27</td>\n",
       "      <td>14.0</td>\n",
       "      <td>2018-12</td>\n",
       "    </tr>\n",
       "    <tr>\n",
       "      <th>2</th>\n",
       "      <td>1000_247</td>\n",
       "      <td>1000</td>\n",
       "      <td>2018-12-27</td>\n",
       "      <td>15.0</td>\n",
       "      <td>2018-12</td>\n",
       "    </tr>\n",
       "    <tr>\n",
       "      <th>3</th>\n",
       "      <td>1000_309</td>\n",
       "      <td>1000</td>\n",
       "      <td>2018-12-28</td>\n",
       "      <td>6.0</td>\n",
       "      <td>2018-12</td>\n",
       "    </tr>\n",
       "    <tr>\n",
       "      <th>4</th>\n",
       "      <td>1000_380</td>\n",
       "      <td>1000</td>\n",
       "      <td>2018-12-30</td>\n",
       "      <td>5.0</td>\n",
       "      <td>2018-12</td>\n",
       "    </tr>\n",
       "    <tr>\n",
       "      <th>...</th>\n",
       "      <td>...</td>\n",
       "      <td>...</td>\n",
       "      <td>...</td>\n",
       "      <td>...</td>\n",
       "      <td>...</td>\n",
       "    </tr>\n",
       "    <tr>\n",
       "      <th>137730</th>\n",
       "      <td>1499_199</td>\n",
       "      <td>1499</td>\n",
       "      <td>2018-11-21</td>\n",
       "      <td>9.0</td>\n",
       "      <td>2018-11</td>\n",
       "    </tr>\n",
       "    <tr>\n",
       "      <th>137731</th>\n",
       "      <td>1499_200</td>\n",
       "      <td>1499</td>\n",
       "      <td>2018-10-20</td>\n",
       "      <td>11.0</td>\n",
       "      <td>2018-10</td>\n",
       "    </tr>\n",
       "    <tr>\n",
       "      <th>137732</th>\n",
       "      <td>1499_201</td>\n",
       "      <td>1499</td>\n",
       "      <td>2018-09-21</td>\n",
       "      <td>9.0</td>\n",
       "      <td>2018-09</td>\n",
       "    </tr>\n",
       "    <tr>\n",
       "      <th>137733</th>\n",
       "      <td>1499_202</td>\n",
       "      <td>1499</td>\n",
       "      <td>2018-10-10</td>\n",
       "      <td>1.0</td>\n",
       "      <td>2018-10</td>\n",
       "    </tr>\n",
       "    <tr>\n",
       "      <th>137734</th>\n",
       "      <td>1499_203</td>\n",
       "      <td>1499</td>\n",
       "      <td>2018-12-29</td>\n",
       "      <td>14.0</td>\n",
       "      <td>2018-12</td>\n",
       "    </tr>\n",
       "  </tbody>\n",
       "</table>\n",
       "<p>137735 rows × 5 columns</p>\n",
       "</div>"
      ],
      "text/plain": [
       "              id  user_id  call_date  duration year_month\n",
       "0        1000_93     1000 2018-12-27       9.0    2018-12\n",
       "1       1000_145     1000 2018-12-27      14.0    2018-12\n",
       "2       1000_247     1000 2018-12-27      15.0    2018-12\n",
       "3       1000_309     1000 2018-12-28       6.0    2018-12\n",
       "4       1000_380     1000 2018-12-30       5.0    2018-12\n",
       "...          ...      ...        ...       ...        ...\n",
       "137730  1499_199     1499 2018-11-21       9.0    2018-11\n",
       "137731  1499_200     1499 2018-10-20      11.0    2018-10\n",
       "137732  1499_201     1499 2018-09-21       9.0    2018-09\n",
       "137733  1499_202     1499 2018-10-10       1.0    2018-10\n",
       "137734  1499_203     1499 2018-12-29      14.0    2018-12\n",
       "\n",
       "[137735 rows x 5 columns]"
      ]
     },
     "execution_count": 41,
     "metadata": {},
     "output_type": "execute_result"
    }
   ],
   "source": [
    "df_calls['call_date']=pd.to_datetime(df_calls['call_date'],format='%Y-%m-%d')\n",
    "#Se redondea al minuto mas cercano de la llamada.\n",
    "df_calls['duration']=np.ceil(df_calls['duration'])\n",
    "df_calls"
   ]
  },
  {
   "cell_type": "markdown",
   "metadata": {
    "id": "a9MbmEvE0q0_"
   },
   "source": [
    "En este caso para las llamadas 0 pueden significar multiples factores ,errores de registro , datos incompletos , o llamadas no realizadas."
   ]
  },
  {
   "cell_type": "markdown",
   "metadata": {
    "id": "mOUZSi180q0_"
   },
   "source": [
    "## Mensajes"
   ]
  },
  {
   "cell_type": "code",
   "execution_count": 12,
   "metadata": {
    "id": "R-bYJpdV0q1A"
   },
   "outputs": [
    {
     "name": "stdout",
     "output_type": "stream",
     "text": [
      "<class 'pandas.core.frame.DataFrame'>\n",
      "RangeIndex: 76051 entries, 0 to 76050\n",
      "Data columns (total 3 columns):\n",
      " #   Column        Non-Null Count  Dtype \n",
      "---  ------        --------------  ----- \n",
      " 0   id            76051 non-null  object\n",
      " 1   user_id       76051 non-null  int64 \n",
      " 2   message_date  76051 non-null  object\n",
      "dtypes: int64(1), object(2)\n",
      "memory usage: 1.7+ MB\n"
     ]
    }
   ],
   "source": [
    "# Se imprime la información general/resumida sobre el DataFrame de los mensajes\n",
    "df_messages.info()"
   ]
  },
  {
   "cell_type": "code",
   "execution_count": 13,
   "metadata": {
    "id": "mCEl2iGE0q1A"
   },
   "outputs": [
    {
     "data": {
      "text/html": [
       "<div>\n",
       "<style scoped>\n",
       "    .dataframe tbody tr th:only-of-type {\n",
       "        vertical-align: middle;\n",
       "    }\n",
       "\n",
       "    .dataframe tbody tr th {\n",
       "        vertical-align: top;\n",
       "    }\n",
       "\n",
       "    .dataframe thead th {\n",
       "        text-align: right;\n",
       "    }\n",
       "</style>\n",
       "<table border=\"1\" class=\"dataframe\">\n",
       "  <thead>\n",
       "    <tr style=\"text-align: right;\">\n",
       "      <th></th>\n",
       "      <th>id</th>\n",
       "      <th>user_id</th>\n",
       "      <th>message_date</th>\n",
       "    </tr>\n",
       "  </thead>\n",
       "  <tbody>\n",
       "    <tr>\n",
       "      <th>0</th>\n",
       "      <td>1000_125</td>\n",
       "      <td>1000</td>\n",
       "      <td>2018-12-27</td>\n",
       "    </tr>\n",
       "    <tr>\n",
       "      <th>1</th>\n",
       "      <td>1000_160</td>\n",
       "      <td>1000</td>\n",
       "      <td>2018-12-31</td>\n",
       "    </tr>\n",
       "    <tr>\n",
       "      <th>2</th>\n",
       "      <td>1000_223</td>\n",
       "      <td>1000</td>\n",
       "      <td>2018-12-31</td>\n",
       "    </tr>\n",
       "    <tr>\n",
       "      <th>3</th>\n",
       "      <td>1000_251</td>\n",
       "      <td>1000</td>\n",
       "      <td>2018-12-27</td>\n",
       "    </tr>\n",
       "    <tr>\n",
       "      <th>4</th>\n",
       "      <td>1000_255</td>\n",
       "      <td>1000</td>\n",
       "      <td>2018-12-26</td>\n",
       "    </tr>\n",
       "    <tr>\n",
       "      <th>...</th>\n",
       "      <td>...</td>\n",
       "      <td>...</td>\n",
       "      <td>...</td>\n",
       "    </tr>\n",
       "    <tr>\n",
       "      <th>76046</th>\n",
       "      <td>1497_526</td>\n",
       "      <td>1497</td>\n",
       "      <td>2018-12-24</td>\n",
       "    </tr>\n",
       "    <tr>\n",
       "      <th>76047</th>\n",
       "      <td>1497_536</td>\n",
       "      <td>1497</td>\n",
       "      <td>2018-12-24</td>\n",
       "    </tr>\n",
       "    <tr>\n",
       "      <th>76048</th>\n",
       "      <td>1497_547</td>\n",
       "      <td>1497</td>\n",
       "      <td>2018-12-31</td>\n",
       "    </tr>\n",
       "    <tr>\n",
       "      <th>76049</th>\n",
       "      <td>1497_558</td>\n",
       "      <td>1497</td>\n",
       "      <td>2018-12-24</td>\n",
       "    </tr>\n",
       "    <tr>\n",
       "      <th>76050</th>\n",
       "      <td>1497_613</td>\n",
       "      <td>1497</td>\n",
       "      <td>2018-12-23</td>\n",
       "    </tr>\n",
       "  </tbody>\n",
       "</table>\n",
       "<p>76051 rows × 3 columns</p>\n",
       "</div>"
      ],
      "text/plain": [
       "             id  user_id message_date\n",
       "0      1000_125     1000   2018-12-27\n",
       "1      1000_160     1000   2018-12-31\n",
       "2      1000_223     1000   2018-12-31\n",
       "3      1000_251     1000   2018-12-27\n",
       "4      1000_255     1000   2018-12-26\n",
       "...         ...      ...          ...\n",
       "76046  1497_526     1497   2018-12-24\n",
       "76047  1497_536     1497   2018-12-24\n",
       "76048  1497_547     1497   2018-12-31\n",
       "76049  1497_558     1497   2018-12-24\n",
       "76050  1497_613     1497   2018-12-23\n",
       "\n",
       "[76051 rows x 3 columns]"
      ]
     },
     "execution_count": 13,
     "metadata": {},
     "output_type": "execute_result"
    }
   ],
   "source": [
    "# Imprime una muestra de datos para los mensajes\n",
    "df_messages"
   ]
  },
  {
   "cell_type": "markdown",
   "metadata": {
    "id": "04xDj7KH0q1A"
   },
   "source": [
    "\n",
    "El message_date tiene un formato erroneo , el cual se procedera a cambiarlo para dejarlo en un formato de fecha adecuado."
   ]
  },
  {
   "cell_type": "markdown",
   "metadata": {
    "id": "Sprfak900q1B"
   },
   "source": [
    "### Corregir los datos"
   ]
  },
  {
   "cell_type": "markdown",
   "metadata": {
    "id": "eGw7d9j10q1B"
   },
   "source": [
    "[Corrige los problemas obvios con los datos basándote en las observaciones iniciales.]"
   ]
  },
  {
   "cell_type": "code",
   "execution_count": 14,
   "metadata": {
    "id": "vsllvkoa0q1B"
   },
   "outputs": [
    {
     "name": "stdout",
     "output_type": "stream",
     "text": [
      "<class 'pandas.core.frame.DataFrame'>\n",
      "RangeIndex: 76051 entries, 0 to 76050\n",
      "Data columns (total 3 columns):\n",
      " #   Column        Non-Null Count  Dtype         \n",
      "---  ------        --------------  -----         \n",
      " 0   id            76051 non-null  object        \n",
      " 1   user_id       76051 non-null  int64         \n",
      " 2   message_date  76051 non-null  datetime64[ns]\n",
      "dtypes: datetime64[ns](1), int64(1), object(1)\n",
      "memory usage: 1.7+ MB\n"
     ]
    }
   ],
   "source": [
    "df_messages['message_date']=pd.to_datetime(df_messages['message_date'],format='%Y-%m-%d')\n",
    "df_messages.info()"
   ]
  },
  {
   "cell_type": "markdown",
   "metadata": {
    "id": "bStkaxn40q1C"
   },
   "source": [
    "## Internet"
   ]
  },
  {
   "cell_type": "code",
   "execution_count": 15,
   "metadata": {
    "id": "e-Uz5qyn0q1C"
   },
   "outputs": [
    {
     "name": "stdout",
     "output_type": "stream",
     "text": [
      "<class 'pandas.core.frame.DataFrame'>\n",
      "RangeIndex: 104825 entries, 0 to 104824\n",
      "Data columns (total 4 columns):\n",
      " #   Column        Non-Null Count   Dtype  \n",
      "---  ------        --------------   -----  \n",
      " 0   id            104825 non-null  object \n",
      " 1   user_id       104825 non-null  int64  \n",
      " 2   session_date  104825 non-null  object \n",
      " 3   mb_used       104825 non-null  float64\n",
      "dtypes: float64(1), int64(1), object(2)\n",
      "memory usage: 3.2+ MB\n"
     ]
    }
   ],
   "source": [
    "# Se imprime la información general/resumida sobre el DataFrame de internet\n",
    "df_internet.info()\n"
   ]
  },
  {
   "cell_type": "code",
   "execution_count": 16,
   "metadata": {
    "id": "9r3x_XLw0q1C"
   },
   "outputs": [
    {
     "data": {
      "text/html": [
       "<div>\n",
       "<style scoped>\n",
       "    .dataframe tbody tr th:only-of-type {\n",
       "        vertical-align: middle;\n",
       "    }\n",
       "\n",
       "    .dataframe tbody tr th {\n",
       "        vertical-align: top;\n",
       "    }\n",
       "\n",
       "    .dataframe thead th {\n",
       "        text-align: right;\n",
       "    }\n",
       "</style>\n",
       "<table border=\"1\" class=\"dataframe\">\n",
       "  <thead>\n",
       "    <tr style=\"text-align: right;\">\n",
       "      <th></th>\n",
       "      <th>id</th>\n",
       "      <th>user_id</th>\n",
       "      <th>session_date</th>\n",
       "      <th>mb_used</th>\n",
       "    </tr>\n",
       "  </thead>\n",
       "  <tbody>\n",
       "    <tr>\n",
       "      <th>0</th>\n",
       "      <td>1000_13</td>\n",
       "      <td>1000</td>\n",
       "      <td>2018-12-29</td>\n",
       "      <td>89.86</td>\n",
       "    </tr>\n",
       "    <tr>\n",
       "      <th>1</th>\n",
       "      <td>1000_204</td>\n",
       "      <td>1000</td>\n",
       "      <td>2018-12-31</td>\n",
       "      <td>0.00</td>\n",
       "    </tr>\n",
       "    <tr>\n",
       "      <th>2</th>\n",
       "      <td>1000_379</td>\n",
       "      <td>1000</td>\n",
       "      <td>2018-12-28</td>\n",
       "      <td>660.40</td>\n",
       "    </tr>\n",
       "    <tr>\n",
       "      <th>3</th>\n",
       "      <td>1000_413</td>\n",
       "      <td>1000</td>\n",
       "      <td>2018-12-26</td>\n",
       "      <td>270.99</td>\n",
       "    </tr>\n",
       "    <tr>\n",
       "      <th>4</th>\n",
       "      <td>1000_442</td>\n",
       "      <td>1000</td>\n",
       "      <td>2018-12-27</td>\n",
       "      <td>880.22</td>\n",
       "    </tr>\n",
       "    <tr>\n",
       "      <th>...</th>\n",
       "      <td>...</td>\n",
       "      <td>...</td>\n",
       "      <td>...</td>\n",
       "      <td>...</td>\n",
       "    </tr>\n",
       "    <tr>\n",
       "      <th>104820</th>\n",
       "      <td>1499_215</td>\n",
       "      <td>1499</td>\n",
       "      <td>2018-10-20</td>\n",
       "      <td>218.06</td>\n",
       "    </tr>\n",
       "    <tr>\n",
       "      <th>104821</th>\n",
       "      <td>1499_216</td>\n",
       "      <td>1499</td>\n",
       "      <td>2018-12-30</td>\n",
       "      <td>304.72</td>\n",
       "    </tr>\n",
       "    <tr>\n",
       "      <th>104822</th>\n",
       "      <td>1499_217</td>\n",
       "      <td>1499</td>\n",
       "      <td>2018-09-22</td>\n",
       "      <td>292.75</td>\n",
       "    </tr>\n",
       "    <tr>\n",
       "      <th>104823</th>\n",
       "      <td>1499_218</td>\n",
       "      <td>1499</td>\n",
       "      <td>2018-12-07</td>\n",
       "      <td>0.00</td>\n",
       "    </tr>\n",
       "    <tr>\n",
       "      <th>104824</th>\n",
       "      <td>1499_219</td>\n",
       "      <td>1499</td>\n",
       "      <td>2018-12-24</td>\n",
       "      <td>758.31</td>\n",
       "    </tr>\n",
       "  </tbody>\n",
       "</table>\n",
       "<p>104825 rows × 4 columns</p>\n",
       "</div>"
      ],
      "text/plain": [
       "              id  user_id session_date  mb_used\n",
       "0        1000_13     1000   2018-12-29    89.86\n",
       "1       1000_204     1000   2018-12-31     0.00\n",
       "2       1000_379     1000   2018-12-28   660.40\n",
       "3       1000_413     1000   2018-12-26   270.99\n",
       "4       1000_442     1000   2018-12-27   880.22\n",
       "...          ...      ...          ...      ...\n",
       "104820  1499_215     1499   2018-10-20   218.06\n",
       "104821  1499_216     1499   2018-12-30   304.72\n",
       "104822  1499_217     1499   2018-09-22   292.75\n",
       "104823  1499_218     1499   2018-12-07     0.00\n",
       "104824  1499_219     1499   2018-12-24   758.31\n",
       "\n",
       "[104825 rows x 4 columns]"
      ]
     },
     "execution_count": 16,
     "metadata": {},
     "output_type": "execute_result"
    }
   ],
   "source": [
    "# Se imprime una muestra de datos para el tráfico de internet\n",
    "df_internet\n"
   ]
  },
  {
   "cell_type": "markdown",
   "metadata": {
    "id": "EzOG5ik30q1D"
   },
   "source": [
    "\n",
    "Este caso se va a cambiar el formato de session date a un formato de fecha y ademas se va a cambiar el mb_used a gb_used al igual que todos los valores correspondientes a esta columna. "
   ]
  },
  {
   "cell_type": "markdown",
   "metadata": {
    "id": "yA0tkPFg0q1D"
   },
   "source": [
    "### Corregir los datos"
   ]
  },
  {
   "cell_type": "markdown",
   "metadata": {
    "id": "zlZMuIEK0q1D"
   },
   "source": [
    "[Corrige los problemas obvios con los datos basándote en las observaciones iniciales.]"
   ]
  },
  {
   "cell_type": "code",
   "execution_count": 17,
   "metadata": {
    "id": "zVeanzdd0q1E"
   },
   "outputs": [
    {
     "data": {
      "text/html": [
       "<div>\n",
       "<style scoped>\n",
       "    .dataframe tbody tr th:only-of-type {\n",
       "        vertical-align: middle;\n",
       "    }\n",
       "\n",
       "    .dataframe tbody tr th {\n",
       "        vertical-align: top;\n",
       "    }\n",
       "\n",
       "    .dataframe thead th {\n",
       "        text-align: right;\n",
       "    }\n",
       "</style>\n",
       "<table border=\"1\" class=\"dataframe\">\n",
       "  <thead>\n",
       "    <tr style=\"text-align: right;\">\n",
       "      <th></th>\n",
       "      <th>id</th>\n",
       "      <th>user_id</th>\n",
       "      <th>session_date</th>\n",
       "      <th>gb_used</th>\n",
       "    </tr>\n",
       "  </thead>\n",
       "  <tbody>\n",
       "    <tr>\n",
       "      <th>0</th>\n",
       "      <td>1000_13</td>\n",
       "      <td>1000</td>\n",
       "      <td>2018-12-29</td>\n",
       "      <td>1.0</td>\n",
       "    </tr>\n",
       "    <tr>\n",
       "      <th>1</th>\n",
       "      <td>1000_204</td>\n",
       "      <td>1000</td>\n",
       "      <td>2018-12-31</td>\n",
       "      <td>0.0</td>\n",
       "    </tr>\n",
       "    <tr>\n",
       "      <th>2</th>\n",
       "      <td>1000_379</td>\n",
       "      <td>1000</td>\n",
       "      <td>2018-12-28</td>\n",
       "      <td>1.0</td>\n",
       "    </tr>\n",
       "    <tr>\n",
       "      <th>3</th>\n",
       "      <td>1000_413</td>\n",
       "      <td>1000</td>\n",
       "      <td>2018-12-26</td>\n",
       "      <td>1.0</td>\n",
       "    </tr>\n",
       "    <tr>\n",
       "      <th>4</th>\n",
       "      <td>1000_442</td>\n",
       "      <td>1000</td>\n",
       "      <td>2018-12-27</td>\n",
       "      <td>1.0</td>\n",
       "    </tr>\n",
       "    <tr>\n",
       "      <th>...</th>\n",
       "      <td>...</td>\n",
       "      <td>...</td>\n",
       "      <td>...</td>\n",
       "      <td>...</td>\n",
       "    </tr>\n",
       "    <tr>\n",
       "      <th>104820</th>\n",
       "      <td>1499_215</td>\n",
       "      <td>1499</td>\n",
       "      <td>2018-10-20</td>\n",
       "      <td>1.0</td>\n",
       "    </tr>\n",
       "    <tr>\n",
       "      <th>104821</th>\n",
       "      <td>1499_216</td>\n",
       "      <td>1499</td>\n",
       "      <td>2018-12-30</td>\n",
       "      <td>1.0</td>\n",
       "    </tr>\n",
       "    <tr>\n",
       "      <th>104822</th>\n",
       "      <td>1499_217</td>\n",
       "      <td>1499</td>\n",
       "      <td>2018-09-22</td>\n",
       "      <td>1.0</td>\n",
       "    </tr>\n",
       "    <tr>\n",
       "      <th>104823</th>\n",
       "      <td>1499_218</td>\n",
       "      <td>1499</td>\n",
       "      <td>2018-12-07</td>\n",
       "      <td>0.0</td>\n",
       "    </tr>\n",
       "    <tr>\n",
       "      <th>104824</th>\n",
       "      <td>1499_219</td>\n",
       "      <td>1499</td>\n",
       "      <td>2018-12-24</td>\n",
       "      <td>1.0</td>\n",
       "    </tr>\n",
       "  </tbody>\n",
       "</table>\n",
       "<p>104825 rows × 4 columns</p>\n",
       "</div>"
      ],
      "text/plain": [
       "              id  user_id session_date  gb_used\n",
       "0        1000_13     1000   2018-12-29      1.0\n",
       "1       1000_204     1000   2018-12-31      0.0\n",
       "2       1000_379     1000   2018-12-28      1.0\n",
       "3       1000_413     1000   2018-12-26      1.0\n",
       "4       1000_442     1000   2018-12-27      1.0\n",
       "...          ...      ...          ...      ...\n",
       "104820  1499_215     1499   2018-10-20      1.0\n",
       "104821  1499_216     1499   2018-12-30      1.0\n",
       "104822  1499_217     1499   2018-09-22      1.0\n",
       "104823  1499_218     1499   2018-12-07      0.0\n",
       "104824  1499_219     1499   2018-12-24      1.0\n",
       "\n",
       "[104825 rows x 4 columns]"
      ]
     },
     "execution_count": 17,
     "metadata": {},
     "output_type": "execute_result"
    }
   ],
   "source": [
    "#Se le cambia el nombre  a la columna de mb por gb\n",
    "df_internet.rename(columns={'mb_used':'gb_used'},inplace=True )\n",
    "#Se cambian los valores de mb por gb \n",
    "df_internet['gb_used']=np.ceil(df_internet['gb_used']/1024)\n",
    "#se cambia el formato de fecha  \n",
    "df_internet['session_date']=pd.to_datetime(df_internet['session_date'],format='%Y-%m-%d')\n",
    "df_internet"
   ]
  },
  {
   "cell_type": "markdown",
   "metadata": {
    "id": "3UA2cqIW0q1E"
   },
   "source": [
    "## Estudiar las condiciones de las tarifas"
   ]
  },
  {
   "cell_type": "markdown",
   "metadata": {
    "id": "T86Sqltq0q1F"
   },
   "source": [
    "[Es sumamente importante entender cómo funcionan las tarifas, cómo se les cobra a los usuarios en función de su plan de suscripción. Así que te sugerimos imprimir la información de la tarifa para ver una vez más sus condiciones.]"
   ]
  },
  {
   "cell_type": "code",
   "execution_count": 18,
   "metadata": {
    "id": "i409op8p0q1F"
   },
   "outputs": [
    {
     "data": {
      "text/html": [
       "<div>\n",
       "<style scoped>\n",
       "    .dataframe tbody tr th:only-of-type {\n",
       "        vertical-align: middle;\n",
       "    }\n",
       "\n",
       "    .dataframe tbody tr th {\n",
       "        vertical-align: top;\n",
       "    }\n",
       "\n",
       "    .dataframe thead th {\n",
       "        text-align: right;\n",
       "    }\n",
       "</style>\n",
       "<table border=\"1\" class=\"dataframe\">\n",
       "  <thead>\n",
       "    <tr style=\"text-align: right;\">\n",
       "      <th></th>\n",
       "      <th>messages_included</th>\n",
       "      <th>gb_per_month_included</th>\n",
       "      <th>minutes_included</th>\n",
       "      <th>usd_monthly_pay</th>\n",
       "      <th>usd_per_gb</th>\n",
       "      <th>usd_per_message</th>\n",
       "      <th>usd_per_minute</th>\n",
       "      <th>plan_name</th>\n",
       "    </tr>\n",
       "  </thead>\n",
       "  <tbody>\n",
       "    <tr>\n",
       "      <th>0</th>\n",
       "      <td>50</td>\n",
       "      <td>15.0</td>\n",
       "      <td>500</td>\n",
       "      <td>20</td>\n",
       "      <td>10</td>\n",
       "      <td>0.03</td>\n",
       "      <td>0.03</td>\n",
       "      <td>surf</td>\n",
       "    </tr>\n",
       "    <tr>\n",
       "      <th>1</th>\n",
       "      <td>1000</td>\n",
       "      <td>30.0</td>\n",
       "      <td>3000</td>\n",
       "      <td>70</td>\n",
       "      <td>7</td>\n",
       "      <td>0.01</td>\n",
       "      <td>0.01</td>\n",
       "      <td>ultimate</td>\n",
       "    </tr>\n",
       "  </tbody>\n",
       "</table>\n",
       "</div>"
      ],
      "text/plain": [
       "   messages_included  gb_per_month_included  minutes_included  \\\n",
       "0                 50                   15.0               500   \n",
       "1               1000                   30.0              3000   \n",
       "\n",
       "   usd_monthly_pay  usd_per_gb  usd_per_message  usd_per_minute plan_name  \n",
       "0               20          10             0.03            0.03      surf  \n",
       "1               70           7             0.01            0.01  ultimate  "
      ]
     },
     "execution_count": 18,
     "metadata": {},
     "output_type": "execute_result"
    }
   ],
   "source": [
    "# Se mprime las condiciones de la tarifa para tenerlas clara para el analisis.\n",
    "df_plans\n",
    "\n"
   ]
  },
  {
   "cell_type": "markdown",
   "metadata": {
    "id": "hMR1tP5d0q1F"
   },
   "source": [
    "## Agregar datos por usuario\n",
    "\n",
    "[Ahora que los datos están limpios, se agrega los datos por usuario y por periodo para que solo haya un registro por usuario y por periodo. Esto facilitará mucho el análisis posterior.]"
   ]
  },
  {
   "cell_type": "code",
   "execution_count": 19,
   "metadata": {
    "id": "A332cedB0q1G"
   },
   "outputs": [
    {
     "data": {
      "text/html": [
       "<div>\n",
       "<style scoped>\n",
       "    .dataframe tbody tr th:only-of-type {\n",
       "        vertical-align: middle;\n",
       "    }\n",
       "\n",
       "    .dataframe tbody tr th {\n",
       "        vertical-align: top;\n",
       "    }\n",
       "\n",
       "    .dataframe thead th {\n",
       "        text-align: right;\n",
       "    }\n",
       "</style>\n",
       "<table border=\"1\" class=\"dataframe\">\n",
       "  <thead>\n",
       "    <tr style=\"text-align: right;\">\n",
       "      <th></th>\n",
       "      <th>user_id</th>\n",
       "      <th>year_month</th>\n",
       "      <th>total_calls</th>\n",
       "    </tr>\n",
       "  </thead>\n",
       "  <tbody>\n",
       "    <tr>\n",
       "      <th>0</th>\n",
       "      <td>1000</td>\n",
       "      <td>2018-12</td>\n",
       "      <td>16</td>\n",
       "    </tr>\n",
       "    <tr>\n",
       "      <th>1</th>\n",
       "      <td>1001</td>\n",
       "      <td>2018-08</td>\n",
       "      <td>27</td>\n",
       "    </tr>\n",
       "    <tr>\n",
       "      <th>2</th>\n",
       "      <td>1001</td>\n",
       "      <td>2018-09</td>\n",
       "      <td>49</td>\n",
       "    </tr>\n",
       "    <tr>\n",
       "      <th>3</th>\n",
       "      <td>1001</td>\n",
       "      <td>2018-10</td>\n",
       "      <td>65</td>\n",
       "    </tr>\n",
       "    <tr>\n",
       "      <th>4</th>\n",
       "      <td>1001</td>\n",
       "      <td>2018-11</td>\n",
       "      <td>64</td>\n",
       "    </tr>\n",
       "    <tr>\n",
       "      <th>...</th>\n",
       "      <td>...</td>\n",
       "      <td>...</td>\n",
       "      <td>...</td>\n",
       "    </tr>\n",
       "    <tr>\n",
       "      <th>2253</th>\n",
       "      <td>1498</td>\n",
       "      <td>2018-12</td>\n",
       "      <td>39</td>\n",
       "    </tr>\n",
       "    <tr>\n",
       "      <th>2254</th>\n",
       "      <td>1499</td>\n",
       "      <td>2018-09</td>\n",
       "      <td>41</td>\n",
       "    </tr>\n",
       "    <tr>\n",
       "      <th>2255</th>\n",
       "      <td>1499</td>\n",
       "      <td>2018-10</td>\n",
       "      <td>53</td>\n",
       "    </tr>\n",
       "    <tr>\n",
       "      <th>2256</th>\n",
       "      <td>1499</td>\n",
       "      <td>2018-11</td>\n",
       "      <td>45</td>\n",
       "    </tr>\n",
       "    <tr>\n",
       "      <th>2257</th>\n",
       "      <td>1499</td>\n",
       "      <td>2018-12</td>\n",
       "      <td>65</td>\n",
       "    </tr>\n",
       "  </tbody>\n",
       "</table>\n",
       "<p>2258 rows × 3 columns</p>\n",
       "</div>"
      ],
      "text/plain": [
       "      user_id year_month  total_calls\n",
       "0        1000    2018-12           16\n",
       "1        1001    2018-08           27\n",
       "2        1001    2018-09           49\n",
       "3        1001    2018-10           65\n",
       "4        1001    2018-11           64\n",
       "...       ...        ...          ...\n",
       "2253     1498    2018-12           39\n",
       "2254     1499    2018-09           41\n",
       "2255     1499    2018-10           53\n",
       "2256     1499    2018-11           45\n",
       "2257     1499    2018-12           65\n",
       "\n",
       "[2258 rows x 3 columns]"
      ]
     },
     "execution_count": 19,
     "metadata": {},
     "output_type": "execute_result"
    }
   ],
   "source": [
    "# Calcula el número de llamadas hechas por cada usuario al mes. Guarda el resultado.\n",
    "#vamos a crear una nueva columna donde solo almacenaremos el mes \n",
    "df_calls['year_month'] = df_calls['call_date'].dt.to_period('M')\n",
    "#agrupamos y mostramos el resultado \n",
    "df_calls_user=df_calls.groupby(['user_id','year_month'])['call_date'].count().reset_index(name='total_calls')\n",
    "df_calls_user\n"
   ]
  },
  {
   "cell_type": "code",
   "execution_count": 20,
   "metadata": {
    "id": "aw2cmuql0q1G"
   },
   "outputs": [
    {
     "data": {
      "text/html": [
       "<div>\n",
       "<style scoped>\n",
       "    .dataframe tbody tr th:only-of-type {\n",
       "        vertical-align: middle;\n",
       "    }\n",
       "\n",
       "    .dataframe tbody tr th {\n",
       "        vertical-align: top;\n",
       "    }\n",
       "\n",
       "    .dataframe thead th {\n",
       "        text-align: right;\n",
       "    }\n",
       "</style>\n",
       "<table border=\"1\" class=\"dataframe\">\n",
       "  <thead>\n",
       "    <tr style=\"text-align: right;\">\n",
       "      <th></th>\n",
       "      <th>user_id</th>\n",
       "      <th>year_month</th>\n",
       "      <th>total_min</th>\n",
       "    </tr>\n",
       "  </thead>\n",
       "  <tbody>\n",
       "    <tr>\n",
       "      <th>0</th>\n",
       "      <td>1000</td>\n",
       "      <td>2018-12</td>\n",
       "      <td>124.0</td>\n",
       "    </tr>\n",
       "    <tr>\n",
       "      <th>1</th>\n",
       "      <td>1001</td>\n",
       "      <td>2018-08</td>\n",
       "      <td>182.0</td>\n",
       "    </tr>\n",
       "    <tr>\n",
       "      <th>2</th>\n",
       "      <td>1001</td>\n",
       "      <td>2018-09</td>\n",
       "      <td>315.0</td>\n",
       "    </tr>\n",
       "    <tr>\n",
       "      <th>3</th>\n",
       "      <td>1001</td>\n",
       "      <td>2018-10</td>\n",
       "      <td>393.0</td>\n",
       "    </tr>\n",
       "    <tr>\n",
       "      <th>4</th>\n",
       "      <td>1001</td>\n",
       "      <td>2018-11</td>\n",
       "      <td>426.0</td>\n",
       "    </tr>\n",
       "    <tr>\n",
       "      <th>...</th>\n",
       "      <td>...</td>\n",
       "      <td>...</td>\n",
       "      <td>...</td>\n",
       "    </tr>\n",
       "    <tr>\n",
       "      <th>2253</th>\n",
       "      <td>1498</td>\n",
       "      <td>2018-12</td>\n",
       "      <td>339.0</td>\n",
       "    </tr>\n",
       "    <tr>\n",
       "      <th>2254</th>\n",
       "      <td>1499</td>\n",
       "      <td>2018-09</td>\n",
       "      <td>346.0</td>\n",
       "    </tr>\n",
       "    <tr>\n",
       "      <th>2255</th>\n",
       "      <td>1499</td>\n",
       "      <td>2018-10</td>\n",
       "      <td>385.0</td>\n",
       "    </tr>\n",
       "    <tr>\n",
       "      <th>2256</th>\n",
       "      <td>1499</td>\n",
       "      <td>2018-11</td>\n",
       "      <td>308.0</td>\n",
       "    </tr>\n",
       "    <tr>\n",
       "      <th>2257</th>\n",
       "      <td>1499</td>\n",
       "      <td>2018-12</td>\n",
       "      <td>496.0</td>\n",
       "    </tr>\n",
       "  </tbody>\n",
       "</table>\n",
       "<p>2258 rows × 3 columns</p>\n",
       "</div>"
      ],
      "text/plain": [
       "      user_id year_month  total_min\n",
       "0        1000    2018-12      124.0\n",
       "1        1001    2018-08      182.0\n",
       "2        1001    2018-09      315.0\n",
       "3        1001    2018-10      393.0\n",
       "4        1001    2018-11      426.0\n",
       "...       ...        ...        ...\n",
       "2253     1498    2018-12      339.0\n",
       "2254     1499    2018-09      346.0\n",
       "2255     1499    2018-10      385.0\n",
       "2256     1499    2018-11      308.0\n",
       "2257     1499    2018-12      496.0\n",
       "\n",
       "[2258 rows x 3 columns]"
      ]
     },
     "execution_count": 20,
     "metadata": {},
     "output_type": "execute_result"
    }
   ],
   "source": [
    "# Calcula la cantidad de minutos usados por cada usuario al mes. Guarda el resultado.\n",
    "df_calls_min=df_calls.groupby(['user_id','year_month'])['duration'].sum().reset_index(name='total_min')\n",
    "df_calls_min"
   ]
  },
  {
   "cell_type": "code",
   "execution_count": 21,
   "metadata": {
    "id": "CcQvNHn60q1G"
   },
   "outputs": [
    {
     "data": {
      "text/html": [
       "<div>\n",
       "<style scoped>\n",
       "    .dataframe tbody tr th:only-of-type {\n",
       "        vertical-align: middle;\n",
       "    }\n",
       "\n",
       "    .dataframe tbody tr th {\n",
       "        vertical-align: top;\n",
       "    }\n",
       "\n",
       "    .dataframe thead th {\n",
       "        text-align: right;\n",
       "    }\n",
       "</style>\n",
       "<table border=\"1\" class=\"dataframe\">\n",
       "  <thead>\n",
       "    <tr style=\"text-align: right;\">\n",
       "      <th></th>\n",
       "      <th>user_id</th>\n",
       "      <th>year_month</th>\n",
       "      <th>number_message</th>\n",
       "    </tr>\n",
       "  </thead>\n",
       "  <tbody>\n",
       "    <tr>\n",
       "      <th>0</th>\n",
       "      <td>1000</td>\n",
       "      <td>2018-12</td>\n",
       "      <td>11</td>\n",
       "    </tr>\n",
       "    <tr>\n",
       "      <th>1</th>\n",
       "      <td>1001</td>\n",
       "      <td>2018-08</td>\n",
       "      <td>30</td>\n",
       "    </tr>\n",
       "    <tr>\n",
       "      <th>2</th>\n",
       "      <td>1001</td>\n",
       "      <td>2018-09</td>\n",
       "      <td>44</td>\n",
       "    </tr>\n",
       "    <tr>\n",
       "      <th>3</th>\n",
       "      <td>1001</td>\n",
       "      <td>2018-10</td>\n",
       "      <td>53</td>\n",
       "    </tr>\n",
       "    <tr>\n",
       "      <th>4</th>\n",
       "      <td>1001</td>\n",
       "      <td>2018-11</td>\n",
       "      <td>36</td>\n",
       "    </tr>\n",
       "    <tr>\n",
       "      <th>...</th>\n",
       "      <td>...</td>\n",
       "      <td>...</td>\n",
       "      <td>...</td>\n",
       "    </tr>\n",
       "    <tr>\n",
       "      <th>1801</th>\n",
       "      <td>1496</td>\n",
       "      <td>2018-09</td>\n",
       "      <td>21</td>\n",
       "    </tr>\n",
       "    <tr>\n",
       "      <th>1802</th>\n",
       "      <td>1496</td>\n",
       "      <td>2018-10</td>\n",
       "      <td>18</td>\n",
       "    </tr>\n",
       "    <tr>\n",
       "      <th>1803</th>\n",
       "      <td>1496</td>\n",
       "      <td>2018-11</td>\n",
       "      <td>13</td>\n",
       "    </tr>\n",
       "    <tr>\n",
       "      <th>1804</th>\n",
       "      <td>1496</td>\n",
       "      <td>2018-12</td>\n",
       "      <td>11</td>\n",
       "    </tr>\n",
       "    <tr>\n",
       "      <th>1805</th>\n",
       "      <td>1497</td>\n",
       "      <td>2018-12</td>\n",
       "      <td>50</td>\n",
       "    </tr>\n",
       "  </tbody>\n",
       "</table>\n",
       "<p>1806 rows × 3 columns</p>\n",
       "</div>"
      ],
      "text/plain": [
       "      user_id year_month  number_message\n",
       "0        1000    2018-12              11\n",
       "1        1001    2018-08              30\n",
       "2        1001    2018-09              44\n",
       "3        1001    2018-10              53\n",
       "4        1001    2018-11              36\n",
       "...       ...        ...             ...\n",
       "1801     1496    2018-09              21\n",
       "1802     1496    2018-10              18\n",
       "1803     1496    2018-11              13\n",
       "1804     1496    2018-12              11\n",
       "1805     1497    2018-12              50\n",
       "\n",
       "[1806 rows x 3 columns]"
      ]
     },
     "execution_count": 21,
     "metadata": {},
     "output_type": "execute_result"
    }
   ],
   "source": [
    "# Calcula el número de mensajes enviados por cada usuario al mes. Guarda el resultado.\n",
    "#se creara una nueva columna el cual se especificara solo el mes\n",
    "df_messages['year_month']=df_messages['message_date'].dt.to_period('M')\n",
    "#se agrupara el usuario id , con el mes y lyego el id que contiene el identificador unico de mensaje se lo contara ,\n",
    "#para saber cuantos mensajes se envian\n",
    "df_messages_month=df_messages.groupby(['user_id','year_month'])['id'].count().reset_index(name='number_message')\n",
    "df_messages_month"
   ]
  },
  {
   "cell_type": "code",
   "execution_count": 22,
   "metadata": {
    "id": "H1AqN2eG0q1H"
   },
   "outputs": [
    {
     "data": {
      "text/html": [
       "<div>\n",
       "<style scoped>\n",
       "    .dataframe tbody tr th:only-of-type {\n",
       "        vertical-align: middle;\n",
       "    }\n",
       "\n",
       "    .dataframe tbody tr th {\n",
       "        vertical-align: top;\n",
       "    }\n",
       "\n",
       "    .dataframe thead th {\n",
       "        text-align: right;\n",
       "    }\n",
       "</style>\n",
       "<table border=\"1\" class=\"dataframe\">\n",
       "  <thead>\n",
       "    <tr style=\"text-align: right;\">\n",
       "      <th></th>\n",
       "      <th>user_id</th>\n",
       "      <th>year_month</th>\n",
       "      <th>volumen/gb</th>\n",
       "    </tr>\n",
       "  </thead>\n",
       "  <tbody>\n",
       "    <tr>\n",
       "      <th>0</th>\n",
       "      <td>1000</td>\n",
       "      <td>2018-12</td>\n",
       "      <td>4.0</td>\n",
       "    </tr>\n",
       "    <tr>\n",
       "      <th>1</th>\n",
       "      <td>1001</td>\n",
       "      <td>2018-08</td>\n",
       "      <td>21.0</td>\n",
       "    </tr>\n",
       "    <tr>\n",
       "      <th>2</th>\n",
       "      <td>1001</td>\n",
       "      <td>2018-09</td>\n",
       "      <td>41.0</td>\n",
       "    </tr>\n",
       "    <tr>\n",
       "      <th>3</th>\n",
       "      <td>1001</td>\n",
       "      <td>2018-10</td>\n",
       "      <td>50.0</td>\n",
       "    </tr>\n",
       "    <tr>\n",
       "      <th>4</th>\n",
       "      <td>1001</td>\n",
       "      <td>2018-11</td>\n",
       "      <td>49.0</td>\n",
       "    </tr>\n",
       "    <tr>\n",
       "      <th>...</th>\n",
       "      <td>...</td>\n",
       "      <td>...</td>\n",
       "      <td>...</td>\n",
       "    </tr>\n",
       "    <tr>\n",
       "      <th>2272</th>\n",
       "      <td>1498</td>\n",
       "      <td>2018-12</td>\n",
       "      <td>56.0</td>\n",
       "    </tr>\n",
       "    <tr>\n",
       "      <th>2273</th>\n",
       "      <td>1499</td>\n",
       "      <td>2018-09</td>\n",
       "      <td>37.0</td>\n",
       "    </tr>\n",
       "    <tr>\n",
       "      <th>2274</th>\n",
       "      <td>1499</td>\n",
       "      <td>2018-10</td>\n",
       "      <td>52.0</td>\n",
       "    </tr>\n",
       "    <tr>\n",
       "      <th>2275</th>\n",
       "      <td>1499</td>\n",
       "      <td>2018-11</td>\n",
       "      <td>43.0</td>\n",
       "    </tr>\n",
       "    <tr>\n",
       "      <th>2276</th>\n",
       "      <td>1499</td>\n",
       "      <td>2018-12</td>\n",
       "      <td>58.0</td>\n",
       "    </tr>\n",
       "  </tbody>\n",
       "</table>\n",
       "<p>2277 rows × 3 columns</p>\n",
       "</div>"
      ],
      "text/plain": [
       "      user_id year_month  volumen/gb\n",
       "0        1000    2018-12         4.0\n",
       "1        1001    2018-08        21.0\n",
       "2        1001    2018-09        41.0\n",
       "3        1001    2018-10        50.0\n",
       "4        1001    2018-11        49.0\n",
       "...       ...        ...         ...\n",
       "2272     1498    2018-12        56.0\n",
       "2273     1499    2018-09        37.0\n",
       "2274     1499    2018-10        52.0\n",
       "2275     1499    2018-11        43.0\n",
       "2276     1499    2018-12        58.0\n",
       "\n",
       "[2277 rows x 3 columns]"
      ]
     },
     "execution_count": 22,
     "metadata": {},
     "output_type": "execute_result"
    }
   ],
   "source": [
    "# Calcula el volumen del tráfico de Internet usado por cada usuario al mes. Guarda el resultado.\n",
    "#se creara una nueva columna para poder tener el mes\n",
    "df_internet['year_month']=df_internet['session_date'].dt.to_period('M')\n",
    "df_internet_volumen=df_internet.groupby(['user_id','year_month'])['gb_used'].sum().reset_index(name='volumen/gb')\n",
    "df_internet_volumen"
   ]
  },
  {
   "cell_type": "markdown",
   "metadata": {
    "id": "VDfYXnj80q1H"
   },
   "source": [
    "[Junta los datos agregados en un DataFrame para que haya un registro que represente lo que consumió un usuario único en un mes determinado.]"
   ]
  },
  {
   "cell_type": "code",
   "execution_count": 23,
   "metadata": {
    "id": "FW99ykyf0q1H"
   },
   "outputs": [
    {
     "data": {
      "text/html": [
       "<div>\n",
       "<style scoped>\n",
       "    .dataframe tbody tr th:only-of-type {\n",
       "        vertical-align: middle;\n",
       "    }\n",
       "\n",
       "    .dataframe tbody tr th {\n",
       "        vertical-align: top;\n",
       "    }\n",
       "\n",
       "    .dataframe thead th {\n",
       "        text-align: right;\n",
       "    }\n",
       "</style>\n",
       "<table border=\"1\" class=\"dataframe\">\n",
       "  <thead>\n",
       "    <tr style=\"text-align: right;\">\n",
       "      <th></th>\n",
       "      <th>user_id</th>\n",
       "      <th>year_month</th>\n",
       "      <th>total_min</th>\n",
       "      <th>number_message</th>\n",
       "      <th>volumen/gb</th>\n",
       "    </tr>\n",
       "  </thead>\n",
       "  <tbody>\n",
       "    <tr>\n",
       "      <th>0</th>\n",
       "      <td>1000</td>\n",
       "      <td>2018-12</td>\n",
       "      <td>124.0</td>\n",
       "      <td>11</td>\n",
       "      <td>4.0</td>\n",
       "    </tr>\n",
       "    <tr>\n",
       "      <th>1</th>\n",
       "      <td>1001</td>\n",
       "      <td>2018-08</td>\n",
       "      <td>182.0</td>\n",
       "      <td>30</td>\n",
       "      <td>21.0</td>\n",
       "    </tr>\n",
       "    <tr>\n",
       "      <th>2</th>\n",
       "      <td>1001</td>\n",
       "      <td>2018-09</td>\n",
       "      <td>315.0</td>\n",
       "      <td>44</td>\n",
       "      <td>41.0</td>\n",
       "    </tr>\n",
       "    <tr>\n",
       "      <th>3</th>\n",
       "      <td>1001</td>\n",
       "      <td>2018-10</td>\n",
       "      <td>393.0</td>\n",
       "      <td>53</td>\n",
       "      <td>50.0</td>\n",
       "    </tr>\n",
       "    <tr>\n",
       "      <th>4</th>\n",
       "      <td>1001</td>\n",
       "      <td>2018-11</td>\n",
       "      <td>426.0</td>\n",
       "      <td>36</td>\n",
       "      <td>49.0</td>\n",
       "    </tr>\n",
       "    <tr>\n",
       "      <th>...</th>\n",
       "      <td>...</td>\n",
       "      <td>...</td>\n",
       "      <td>...</td>\n",
       "      <td>...</td>\n",
       "      <td>...</td>\n",
       "    </tr>\n",
       "    <tr>\n",
       "      <th>1754</th>\n",
       "      <td>1496</td>\n",
       "      <td>2018-09</td>\n",
       "      <td>414.0</td>\n",
       "      <td>21</td>\n",
       "      <td>42.0</td>\n",
       "    </tr>\n",
       "    <tr>\n",
       "      <th>1755</th>\n",
       "      <td>1496</td>\n",
       "      <td>2018-10</td>\n",
       "      <td>317.0</td>\n",
       "      <td>18</td>\n",
       "      <td>41.0</td>\n",
       "    </tr>\n",
       "    <tr>\n",
       "      <th>1756</th>\n",
       "      <td>1496</td>\n",
       "      <td>2018-11</td>\n",
       "      <td>308.0</td>\n",
       "      <td>13</td>\n",
       "      <td>27.0</td>\n",
       "    </tr>\n",
       "    <tr>\n",
       "      <th>1757</th>\n",
       "      <td>1496</td>\n",
       "      <td>2018-12</td>\n",
       "      <td>294.0</td>\n",
       "      <td>11</td>\n",
       "      <td>41.0</td>\n",
       "    </tr>\n",
       "    <tr>\n",
       "      <th>1758</th>\n",
       "      <td>1497</td>\n",
       "      <td>2018-12</td>\n",
       "      <td>300.0</td>\n",
       "      <td>50</td>\n",
       "      <td>28.0</td>\n",
       "    </tr>\n",
       "  </tbody>\n",
       "</table>\n",
       "<p>1759 rows × 5 columns</p>\n",
       "</div>"
      ],
      "text/plain": [
       "      user_id year_month  total_min  number_message  volumen/gb\n",
       "0        1000    2018-12      124.0              11         4.0\n",
       "1        1001    2018-08      182.0              30        21.0\n",
       "2        1001    2018-09      315.0              44        41.0\n",
       "3        1001    2018-10      393.0              53        50.0\n",
       "4        1001    2018-11      426.0              36        49.0\n",
       "...       ...        ...        ...             ...         ...\n",
       "1754     1496    2018-09      414.0              21        42.0\n",
       "1755     1496    2018-10      317.0              18        41.0\n",
       "1756     1496    2018-11      308.0              13        27.0\n",
       "1757     1496    2018-12      294.0              11        41.0\n",
       "1758     1497    2018-12      300.0              50        28.0\n",
       "\n",
       "[1759 rows x 5 columns]"
      ]
     },
     "execution_count": 23,
     "metadata": {},
     "output_type": "execute_result"
    }
   ],
   "source": [
    "# Fusiona los datos de llamadas, minutos, mensajes e Internet con base en user_id y month\n",
    "#Unimos las tablas que hemos filtrado con anterioridad, en la primera union la de minutos de llamadas con los mensajes\n",
    "df_calls_messages=df_calls_min.merge(df_messages_month,on=['user_id','year_month'])\n",
    "#en la siguiente tabla unimos la anterior creada con el volumen de datos de internet.\n",
    "df_calls_messages_internet=df_calls_messages.merge(df_internet_volumen,on=['user_id','year_month'])\n",
    "df_calls_messages_internet\n"
   ]
  },
  {
   "cell_type": "code",
   "execution_count": 24,
   "metadata": {
    "id": "0dNOXHag0q1H"
   },
   "outputs": [
    {
     "data": {
      "text/html": [
       "<div>\n",
       "<style scoped>\n",
       "    .dataframe tbody tr th:only-of-type {\n",
       "        vertical-align: middle;\n",
       "    }\n",
       "\n",
       "    .dataframe tbody tr th {\n",
       "        vertical-align: top;\n",
       "    }\n",
       "\n",
       "    .dataframe thead th {\n",
       "        text-align: right;\n",
       "    }\n",
       "</style>\n",
       "<table border=\"1\" class=\"dataframe\">\n",
       "  <thead>\n",
       "    <tr style=\"text-align: right;\">\n",
       "      <th></th>\n",
       "      <th>user_id</th>\n",
       "      <th>plan</th>\n",
       "      <th>year_month</th>\n",
       "      <th>total_min</th>\n",
       "      <th>number_message</th>\n",
       "      <th>volumen/gb</th>\n",
       "    </tr>\n",
       "  </thead>\n",
       "  <tbody>\n",
       "    <tr>\n",
       "      <th>0</th>\n",
       "      <td>1000</td>\n",
       "      <td>ultimate</td>\n",
       "      <td>2018-12</td>\n",
       "      <td>124.0</td>\n",
       "      <td>11</td>\n",
       "      <td>4.0</td>\n",
       "    </tr>\n",
       "    <tr>\n",
       "      <th>1</th>\n",
       "      <td>1001</td>\n",
       "      <td>surf</td>\n",
       "      <td>2018-08</td>\n",
       "      <td>182.0</td>\n",
       "      <td>30</td>\n",
       "      <td>21.0</td>\n",
       "    </tr>\n",
       "    <tr>\n",
       "      <th>2</th>\n",
       "      <td>1001</td>\n",
       "      <td>surf</td>\n",
       "      <td>2018-09</td>\n",
       "      <td>315.0</td>\n",
       "      <td>44</td>\n",
       "      <td>41.0</td>\n",
       "    </tr>\n",
       "    <tr>\n",
       "      <th>3</th>\n",
       "      <td>1001</td>\n",
       "      <td>surf</td>\n",
       "      <td>2018-10</td>\n",
       "      <td>393.0</td>\n",
       "      <td>53</td>\n",
       "      <td>50.0</td>\n",
       "    </tr>\n",
       "    <tr>\n",
       "      <th>4</th>\n",
       "      <td>1001</td>\n",
       "      <td>surf</td>\n",
       "      <td>2018-11</td>\n",
       "      <td>426.0</td>\n",
       "      <td>36</td>\n",
       "      <td>49.0</td>\n",
       "    </tr>\n",
       "    <tr>\n",
       "      <th>...</th>\n",
       "      <td>...</td>\n",
       "      <td>...</td>\n",
       "      <td>...</td>\n",
       "      <td>...</td>\n",
       "      <td>...</td>\n",
       "      <td>...</td>\n",
       "    </tr>\n",
       "    <tr>\n",
       "      <th>1754</th>\n",
       "      <td>1496</td>\n",
       "      <td>surf</td>\n",
       "      <td>2018-09</td>\n",
       "      <td>414.0</td>\n",
       "      <td>21</td>\n",
       "      <td>42.0</td>\n",
       "    </tr>\n",
       "    <tr>\n",
       "      <th>1755</th>\n",
       "      <td>1496</td>\n",
       "      <td>surf</td>\n",
       "      <td>2018-10</td>\n",
       "      <td>317.0</td>\n",
       "      <td>18</td>\n",
       "      <td>41.0</td>\n",
       "    </tr>\n",
       "    <tr>\n",
       "      <th>1756</th>\n",
       "      <td>1496</td>\n",
       "      <td>surf</td>\n",
       "      <td>2018-11</td>\n",
       "      <td>308.0</td>\n",
       "      <td>13</td>\n",
       "      <td>27.0</td>\n",
       "    </tr>\n",
       "    <tr>\n",
       "      <th>1757</th>\n",
       "      <td>1496</td>\n",
       "      <td>surf</td>\n",
       "      <td>2018-12</td>\n",
       "      <td>294.0</td>\n",
       "      <td>11</td>\n",
       "      <td>41.0</td>\n",
       "    </tr>\n",
       "    <tr>\n",
       "      <th>1758</th>\n",
       "      <td>1497</td>\n",
       "      <td>ultimate</td>\n",
       "      <td>2018-12</td>\n",
       "      <td>300.0</td>\n",
       "      <td>50</td>\n",
       "      <td>28.0</td>\n",
       "    </tr>\n",
       "  </tbody>\n",
       "</table>\n",
       "<p>1759 rows × 6 columns</p>\n",
       "</div>"
      ],
      "text/plain": [
       "      user_id      plan year_month  total_min  number_message  volumen/gb\n",
       "0        1000  ultimate    2018-12      124.0              11         4.0\n",
       "1        1001      surf    2018-08      182.0              30        21.0\n",
       "2        1001      surf    2018-09      315.0              44        41.0\n",
       "3        1001      surf    2018-10      393.0              53        50.0\n",
       "4        1001      surf    2018-11      426.0              36        49.0\n",
       "...       ...       ...        ...        ...             ...         ...\n",
       "1754     1496      surf    2018-09      414.0              21        42.0\n",
       "1755     1496      surf    2018-10      317.0              18        41.0\n",
       "1756     1496      surf    2018-11      308.0              13        27.0\n",
       "1757     1496      surf    2018-12      294.0              11        41.0\n",
       "1758     1497  ultimate    2018-12      300.0              50        28.0\n",
       "\n",
       "[1759 rows x 6 columns]"
      ]
     },
     "execution_count": 24,
     "metadata": {},
     "output_type": "execute_result"
    }
   ],
   "source": [
    "# Añade la información de la tarifa\n",
    "#separo de la tabla users , las columnas user_id y el plan para luego unirlas\n",
    "df_users_tari=df_users[['user_id','plan']]\n",
    "#uno la tabla anterior con la que tenia asignado.\n",
    "df_all=df_users_tari.merge(df_calls_messages_internet,on='user_id')\n",
    "df_all"
   ]
  },
  {
   "cell_type": "markdown",
   "metadata": {
    "id": "1IwGo4wg0q1I"
   },
   "source": [
    "[Calcula los ingresos mensuales por usuario (resta el límite del paquete gratuito del número total de llamadas, mensajes de texto y datos; multiplica el resultado por el valor del plan de llamadas; añade la tarifa mensual en función del plan de llamadas). Nota: Dadas las condiciones del plan, ¡esto podría no ser tan trivial como un par de líneas! Así que no pasa nada si dedicas algo de tiempo a ello.]"
   ]
  },
  {
   "cell_type": "code",
   "execution_count": 42,
   "metadata": {
    "id": "5FGCf_c60q1I"
   },
   "outputs": [
    {
     "data": {
      "text/html": [
       "<div>\n",
       "<style scoped>\n",
       "    .dataframe tbody tr th:only-of-type {\n",
       "        vertical-align: middle;\n",
       "    }\n",
       "\n",
       "    .dataframe tbody tr th {\n",
       "        vertical-align: top;\n",
       "    }\n",
       "\n",
       "    .dataframe thead th {\n",
       "        text-align: right;\n",
       "    }\n",
       "</style>\n",
       "<table border=\"1\" class=\"dataframe\">\n",
       "  <thead>\n",
       "    <tr style=\"text-align: right;\">\n",
       "      <th></th>\n",
       "      <th>user_id</th>\n",
       "      <th>year_month</th>\n",
       "      <th>total_por_mes</th>\n",
       "    </tr>\n",
       "  </thead>\n",
       "  <tbody>\n",
       "    <tr>\n",
       "      <th>0</th>\n",
       "      <td>1000</td>\n",
       "      <td>2018-12</td>\n",
       "      <td>70.0</td>\n",
       "    </tr>\n",
       "    <tr>\n",
       "      <th>1</th>\n",
       "      <td>1006</td>\n",
       "      <td>2018-11</td>\n",
       "      <td>70.0</td>\n",
       "    </tr>\n",
       "    <tr>\n",
       "      <th>2</th>\n",
       "      <td>1006</td>\n",
       "      <td>2018-12</td>\n",
       "      <td>294.0</td>\n",
       "    </tr>\n",
       "    <tr>\n",
       "      <th>3</th>\n",
       "      <td>1008</td>\n",
       "      <td>2018-10</td>\n",
       "      <td>196.0</td>\n",
       "    </tr>\n",
       "    <tr>\n",
       "      <th>4</th>\n",
       "      <td>1008</td>\n",
       "      <td>2018-11</td>\n",
       "      <td>252.0</td>\n",
       "    </tr>\n",
       "    <tr>\n",
       "      <th>...</th>\n",
       "      <td>...</td>\n",
       "      <td>...</td>\n",
       "      <td>...</td>\n",
       "    </tr>\n",
       "    <tr>\n",
       "      <th>1754</th>\n",
       "      <td>1496</td>\n",
       "      <td>2018-08</td>\n",
       "      <td>100.0</td>\n",
       "    </tr>\n",
       "    <tr>\n",
       "      <th>1755</th>\n",
       "      <td>1496</td>\n",
       "      <td>2018-09</td>\n",
       "      <td>290.0</td>\n",
       "    </tr>\n",
       "    <tr>\n",
       "      <th>1756</th>\n",
       "      <td>1496</td>\n",
       "      <td>2018-10</td>\n",
       "      <td>280.0</td>\n",
       "    </tr>\n",
       "    <tr>\n",
       "      <th>1757</th>\n",
       "      <td>1496</td>\n",
       "      <td>2018-11</td>\n",
       "      <td>140.0</td>\n",
       "    </tr>\n",
       "    <tr>\n",
       "      <th>1758</th>\n",
       "      <td>1496</td>\n",
       "      <td>2018-12</td>\n",
       "      <td>280.0</td>\n",
       "    </tr>\n",
       "  </tbody>\n",
       "</table>\n",
       "<p>1759 rows × 3 columns</p>\n",
       "</div>"
      ],
      "text/plain": [
       "      user_id year_month  total_por_mes\n",
       "0        1000    2018-12           70.0\n",
       "1        1006    2018-11           70.0\n",
       "2        1006    2018-12          294.0\n",
       "3        1008    2018-10          196.0\n",
       "4        1008    2018-11          252.0\n",
       "...       ...        ...            ...\n",
       "1754     1496    2018-08          100.0\n",
       "1755     1496    2018-09          290.0\n",
       "1756     1496    2018-10          280.0\n",
       "1757     1496    2018-11          140.0\n",
       "1758     1496    2018-12          280.0\n",
       "\n",
       "[1759 rows x 3 columns]"
      ]
     },
     "execution_count": 42,
     "metadata": {},
     "output_type": "execute_result"
    }
   ],
   "source": [
    "# Calcula el ingreso mensual para cada usuario\n",
    "#uno los dataframes para poder ver los dataframes\n",
    "df_all_tarifa=df_all.merge(df_plans,left_on='plan',right_on='plan_name')\n",
    "#borro la columna repetida de plan_name\n",
    "df_all_tarifa=df_all_tarifa.drop('plan_name',axis=1)\n",
    "#realizo una resta de los minutos que regalan , de los que se usaron para saber cual se debe pagar\n",
    "df_all_tarifa['minutos_pendientes']=df_all_tarifa['minutes_included']-df_all_tarifa['total_min']\n",
    "#se realizara ahora para los mensajes\n",
    "df_all_tarifa['mensajes_pendientes']=df_all_tarifa['messages_included']-(df_all_tarifa['number_message'])\n",
    "#se realizara lo mismo para los gigas, con la funcion np.ceil nos aseguramos que si el numero tiene un decimal , \n",
    "#pasara al entero superior , para asegurar que se cobre correctamente.\n",
    "df_all_tarifa['volumen/gb_pendientes']=df_all_tarifa['gb_per_month_included']-np.ceil(df_all_tarifa['volumen/gb'])\n",
    "#ahora crearemos una columna por llamadas, mensajes y datos para saber el precio de multa que tiene cada uno \n",
    "#multa de llamadas de los usuarios.\n",
    "df_all_tarifa['multa_llamada'] = np.where(df_all_tarifa['minutos_pendientes'] <= 0,\n",
    "                                abs(df_all_tarifa['minutos_pendientes']) * df_all_tarifa['usd_per_minute'],0)\n",
    "#multa mensajes de los usuarios \n",
    "df_all_tarifa['multa_mensaje']=np.where(df_all_tarifa['mensajes_pendientes'] <= 0,\n",
    "                                        abs(df_all_tarifa['mensajes_pendientes'])* df_all_tarifa['usd_per_message'],0)\n",
    "#multa por el internet \n",
    "df_all_tarifa['multa_gb']=np.where(df_all_tarifa['volumen/gb_pendientes'] <=0,\n",
    "                                   abs(df_all_tarifa['volumen/gb_pendientes'])*df_all_tarifa['usd_per_gb'],0)\n",
    "#sumo la tarifa mensual , con las multas correspondientes\n",
    "df_all_tarifa['total_por_mes']=df_all_tarifa['usd_monthly_pay']+df_all_tarifa['multa_llamada']+df_all_tarifa['multa_mensaje']+df_all_tarifa['multa_gb']\n",
    "#muestro los consumos mensuales por usuario\n",
    "df_all_tarifa[['user_id','year_month','total_por_mes']]"
   ]
  },
  {
   "cell_type": "markdown",
   "metadata": {
    "id": "-jtyHzJb0q1I"
   },
   "source": [
    "## Estudia el comportamiento de usuario"
   ]
  },
  {
   "cell_type": "markdown",
   "metadata": {
    "id": "AxU3Y0N70q1J"
   },
   "source": [
    "[Calcula algunas estadísticas descriptivas para los datos agregados y fusionados que nos sean útiles y que muestren un panorama general captado por los datos. Dibuja gráficos útiles para facilitar la comprensión. Dado que la tarea principal es comparar las tarifas y decidir cuál es más rentable, las estadísticas y gráficas deben calcularse por tarifa.]\n",
    "\n",
    "[En los comentarios hallarás pistas relevantes para las llamadas, pero no las hay para los mensajes e Internet. Sin embargo, el principio del estudio estadístico que se aplica para ellos es el mismo que para las llamadas.]"
   ]
  },
  {
   "cell_type": "markdown",
   "metadata": {
    "id": "vtW4CJEe0q1J"
   },
   "source": [
    "### Llamadas"
   ]
  },
  {
   "cell_type": "code",
   "execution_count": 26,
   "metadata": {
    "id": "Jf5v5--k0q1J"
   },
   "outputs": [
    {
     "data": {
      "text/plain": [
       "<matplotlib.legend.Legend at 0x7f1762e8cca0>"
      ]
     },
     "execution_count": 26,
     "metadata": {},
     "output_type": "execute_result"
    },
    {
     "data": {
      "image/png": "[encoded data removed]",
      "text/plain": [
       "<Figure size 640x480 with 1 Axes>"
      ]
     },
     "metadata": {},
     "output_type": "display_data"
    }
   ],
   "source": [
    "# Se compara la duración promedio de llamadas por cada plan y por cada mes. Traza un gráfico de barras para visualizarla.\n",
    "df_plan_calls=df_all.groupby(['year_month','plan'])['total_min'].mean()\n",
    "df_plan_calls.plot(kind='bar',xlabel='Meses por planes',ylabel='Promedio de minutos',color=['green', 'brown'])\n",
    "plt.legend(['surf','ultimate'])\n"
   ]
  },
  {
   "cell_type": "code",
   "execution_count": 27,
   "metadata": {},
   "outputs": [
    {
     "data": {
      "text/plain": [
       "<matplotlib.legend.Legend at 0x7f17629ee4c0>"
      ]
     },
     "execution_count": 27,
     "metadata": {},
     "output_type": "execute_result"
    },
    {
     "data": {
      "image/png": "[encoded data removed]",
      "text/plain": [
       "<Figure size 640x480 with 1 Axes>"
      ]
     },
     "metadata": {},
     "output_type": "display_data"
    }
   ],
   "source": [
    "# Se compara el número de minutos mensuales que necesitan los usuarios de cada plan. Traza un histograma.\n",
    "df_plan_total_calls=df_all.groupby(['user_id','year_month','plan'])['total_min'].sum().reset_index()\n",
    "\n",
    "#se realiza un filtro para poder comparar los histogramas en una misma grafica\n",
    "\n",
    "filtro_surf = df_plan_total_calls[df_plan_total_calls['plan'] == 'surf']['total_min']\n",
    "filtro_ultimate = df_plan_total_calls[df_plan_total_calls['plan'] == 'ultimate']['total_min']\n",
    "#se muestra los mismos histogramas en cada una \n",
    "filtro_surf.plot(kind='hist')\n",
    "filtro_ultimate.plot(kind='hist')\n",
    "plt.legend(['surf','ultimate'])"
   ]
  },
  {
   "cell_type": "markdown",
   "metadata": {
    "id": "bLS9T8OH0q1K"
   },
   "source": [
    "[Calcula la media y la variable de la duración de las llamadas para averiguar si los usuarios de los distintos planes se comportan de forma diferente al realizar sus llamadas.]"
   ]
  },
  {
   "cell_type": "code",
   "execution_count": 28,
   "metadata": {
    "id": "oSndbAnt0q1K"
   },
   "outputs": [
    {
     "data": {
      "text/plain": [
       "62288.39905337326"
      ]
     },
     "execution_count": 28,
     "metadata": {},
     "output_type": "execute_result"
    }
   ],
   "source": [
    "# Calcula la media y la varianza de la duración mensual de llamadas.\n",
    "filtro_surf.mean()\n",
    "filtro_ultimate.mean()\n",
    "filtro_surf.var()\n",
    "filtro_ultimate.var()\n"
   ]
  },
  {
   "cell_type": "code",
   "execution_count": 29,
   "metadata": {
    "id": "nZzoRUKc0q1K"
   },
   "outputs": [
    {
     "data": {
      "image/png": "[encoded data removed]",
      "text/plain": [
       "<Figure size 1000x600 with 1 Axes>"
      ]
     },
     "metadata": {},
     "output_type": "display_data"
    }
   ],
   "source": [
    "# Traza un diagrama de caja para visualizar la distribución de la duración mensual de llamadas\n",
    "\n",
    "#combinamos ambos DT en este caso filtro_surf y filtro_ultimate \n",
    "combined_df = pd.concat([filtro_surf, filtro_ultimate], axis=1)\n",
    "#se le asiga nuevo nombres a las columnas\n",
    "combined_df.columns = ['surf', 'ultimate']\n",
    "\n",
    "# Traza el diagrama de caja\n",
    "plt.figure(figsize=(10, 6))\n",
    "sns.boxplot(data=combined_df)\n",
    "plt.title('Distribución de la duración mensual de llamadas por plan')\n",
    "plt.xlabel('Plan')\n",
    "plt.ylabel('Duración total de llamadas (minutos)')\n",
    "plt.show()\n"
   ]
  },
  {
   "cell_type": "markdown",
   "metadata": {
    "id": "r627zBO50q1K"
   },
   "source": [
    "\n",
    "\n",
    "Como se puede ver en los graficos , en primer lugar el promedio de ambos , es muy simular por no decir iguales , el plan surf tiene un promedio de llamadas de 420 minutos mientras que el de ultimate tiene un promedio de 417 minutos. De igual manera se puede depreciar los valores para ambos despues del 1000 ya que no seran signifitcativos en el analisis. Ahora se procedera a compara los mensajes de ambos\n",
    "\n",
    "ya el promedio de llamadas que realizan los usuarios de ambos plane. Ahora con respecto al numero de mimutos que necesitan los usuario sse puede observar que el plan surf es el cual mas minutos de llamadas realizan por lo cual es el que mas requieren. Estos usuarios realizan un promedio de llamadas de 400 minutos. Asi mismo hay algunos usuarios que no realizan llamadas, y hay otro que realizan hasta llamadas de 1000 minutos por mes. Gracias al grafico de bigotes , se puede ver el valor max y despues de este valor , "
   ]
  },
  {
   "cell_type": "markdown",
   "metadata": {
    "id": "8idKy8Wh0q1L"
   },
   "source": [
    "### Mensajes"
   ]
  },
  {
   "cell_type": "code",
   "execution_count": 30,
   "metadata": {
    "id": "NXLxiTit0q1L"
   },
   "outputs": [
    {
     "data": {
      "text/plain": [
       "<matplotlib.legend.Legend at 0x7f1762bad4c0>"
      ]
     },
     "execution_count": 30,
     "metadata": {},
     "output_type": "execute_result"
    },
    {
     "data": {
      "image/png": "[encoded data removed]",
      "text/plain": [
       "<Figure size 640x480 with 1 Axes>"
      ]
     },
     "metadata": {},
     "output_type": "display_data"
    }
   ],
   "source": [
    "# Se comprara el número de mensajes que tienden a enviar cada mes los usuarios de cada plan\n",
    "df_plan_messages=df_all.groupby(['year_month','plan'])['number_message'].mean()\n",
    "df_plan_messages.plot(kind='bar',color=['green','lightblue'])\n",
    "plt.legend(['surf','ultimate'])"
   ]
  },
  {
   "cell_type": "code",
   "execution_count": 31,
   "metadata": {
    "id": "GRI_R7xF0q1L"
   },
   "outputs": [
    {
     "data": {
      "text/plain": [
       "<matplotlib.legend.Legend at 0x7f1762880df0>"
      ]
     },
     "execution_count": 31,
     "metadata": {},
     "output_type": "execute_result"
    },
    {
     "data": {
      "image/png": "[encoded data removed]",
      "text/plain": [
       "<Figure size 640x480 with 1 Axes>"
      ]
     },
     "metadata": {},
     "output_type": "display_data"
    }
   ],
   "source": [
    "# Se compara el número de mensajes mensuales que necesitan los usuarios de cada plan. Traza un histograma.\n",
    "#primero se agrupara \n",
    "df_plan_total_messages=df_all.groupby(['user_id','year_month','plan'])['number_message'].sum().reset_index()\n",
    "\n",
    "filtro_surf_messages=df_plan_total_messages[df_plan_total_messages['plan']=='surf']['number_message']\n",
    "filtro_ultimate_messages=df_plan_total_messages[df_plan_total_messages['plan']=='ultimate']['number_message']\n",
    "\n",
    "filtro_surf_messages.plot(kind='hist')\n",
    "filtro_ultimate_messages.plot(kind='hist')\n",
    "plt.legend(['surf','ultimate'])"
   ]
  },
  {
   "cell_type": "code",
   "execution_count": 32,
   "metadata": {
    "id": "dtFwCGAp0q1M"
   },
   "outputs": [
    {
     "name": "stdout",
     "output_type": "stream",
     "text": [
      "La media del plan de surf es: 39.49 y su varianza es:  1044.22\n",
      "La media del plan de ultimate es: 46.46  y su varianza es:  1084.39\n"
     ]
    },
    {
     "data": {
      "image/png": "[encoded data removed]",
      "text/plain": [
       "<Figure size 1000x600 with 1 Axes>"
      ]
     },
     "metadata": {},
     "output_type": "display_data"
    }
   ],
   "source": [
    "#se va a mostrar las medias y las varianzas de cada una \n",
    "print('La media del plan de surf es:' , round(filtro_surf_messages.mean(),2) ,'y su varianza es: ', round(filtro_surf_messages.var(),2))\n",
    "print('La media del plan de ultimate es:' ,round(filtro_ultimate_messages.mean(),2), ' y su varianza es: ',round(filtro_ultimate_messages.var(),2))\n",
    "\n",
    "#se combina los dos para mostrar una caja de bigotes\n",
    "df_messages_surf_ultimate=pd.concat([filtro_surf_messages,filtro_ultimate_messages],axis=1)\n",
    "#se cambia los nombres de las columnas\n",
    "df_messages_surf_ultimate.columns=['surf','ultimate']\n",
    "\n",
    "# Traza el diagrama de caja\n",
    "plt.figure(figsize=(10, 6))\n",
    "sns.boxplot(data=df_messages_surf_ultimate)\n",
    "plt.title('Distribución del numero de mensajes por plan')\n",
    "plt.xlabel('Plan')\n",
    "plt.ylabel('Mensajes totales')\n",
    "plt.show()\n"
   ]
  },
  {
   "cell_type": "markdown",
   "metadata": {
    "id": "390SSL480q1M"
   },
   "source": [
    "\n",
    "En este caso el comportamiento si varia en funcion del plan , aunque no en gran medida , el plan surf tiene en promedio que los usuarios envian 39 mensajes por mes , mientras que en el plan ultimate tienen un promedio de 46 mensajes mensuales. Ademas se puede observar que en ninguno de los dos casos llegan a superar los 150 mensajes mensuales. Si se analiza individualmente se puede observar que en casi todos los meses , en el plan ultimate es el que mas mensajes se envian."
   ]
  },
  {
   "cell_type": "markdown",
   "metadata": {
    "id": "42YSypXz0q1M"
   },
   "source": [
    "### Internet"
   ]
  },
  {
   "cell_type": "code",
   "execution_count": 33,
   "metadata": {
    "id": "lSuKPtjh0q1M"
   },
   "outputs": [
    {
     "data": {
      "text/plain": [
       "<matplotlib.legend.Legend at 0x7f17627faf70>"
      ]
     },
     "execution_count": 33,
     "metadata": {},
     "output_type": "execute_result"
    },
    {
     "data": {
      "image/png": "[encoded data removed]",
      "text/plain": [
       "<Figure size 640x480 with 1 Axes>"
      ]
     },
     "metadata": {},
     "output_type": "display_data"
    }
   ],
   "source": [
    "# Compara la cantidad de tráfico de Internet consumido por usuarios por plan\n",
    "#se agrupa para poder sacar el promedio de megas por mes \n",
    "df_plan_internet=df_all.groupby(['year_month','plan'])['volumen/gb'].mean()\n",
    "#se grafica dando un color especifo a cada uno \n",
    "df_plan_internet.plot(kind='bar',color=['lightpink','lightgreen'])\n",
    "plt.legend(['surf','ultimate'])"
   ]
  },
  {
   "cell_type": "code",
   "execution_count": 34,
   "metadata": {
    "id": "wnh8jYXi0q1N"
   },
   "outputs": [
    {
     "data": {
      "text/plain": [
       "<matplotlib.legend.Legend at 0x7f1762694400>"
      ]
     },
     "execution_count": 34,
     "metadata": {},
     "output_type": "execute_result"
    },
    {
     "data": {
      "image/png": "[encoded data removed]",
      "text/plain": [
       "<Figure size 640x480 with 1 Axes>"
      ]
     },
     "metadata": {},
     "output_type": "display_data"
    }
   ],
   "source": [
    "#se agrupa por la suma total de megas consumido con respecto a los planes y a los usuarios\n",
    "df_plan_total_internet=df_all.groupby(['user_id','year_month','plan'])['volumen/gb'].sum().reset_index()\n",
    "#se divide una serie para el consumo de megas del plan surf\n",
    "internet_surf=df_plan_total_internet[df_plan_total_internet['plan']=='surf']['volumen/gb']\n",
    "#se divide una serie para el consumo de megas del plan ultimate\n",
    "internet_ultimate=df_plan_total_internet[df_plan_total_internet['plan']=='ultimate']['volumen/gb']\n",
    "\n",
    "#se grafica ese consumo\n",
    "internet_surf.plot(kind='hist')\n",
    "internet_ultimate.plot(kind='hist')\n",
    "plt.legend(['surf','ultimate'])"
   ]
  },
  {
   "cell_type": "code",
   "execution_count": 35,
   "metadata": {
    "id": "5VlyJ9ry0q1N"
   },
   "outputs": [
    {
     "name": "stdout",
     "output_type": "stream",
     "text": [
      "La media de volumen/gb de surf es: 40.27 y su varianza es:  301.24\n",
      "La media del volumen/gb de ultimate es: 41.13  y su varianza es:  249.65\n"
     ]
    },
    {
     "data": {
      "image/png": "[encoded data removed]",
      "text/plain": [
       "<Figure size 1000x600 with 1 Axes>"
      ]
     },
     "metadata": {},
     "output_type": "display_data"
    }
   ],
   "source": [
    "#se calcula el promedio y la varianza\n",
    "print('La media de volumen/gb de surf es:' , round(internet_surf.mean(),2) ,'y su varianza es: ', round(internet_surf.var(),2))\n",
    "print('La media del volumen/gb de ultimate es:' ,round(internet_ultimate.mean(),2), ' y su varianza es: ',round(internet_ultimate.var(),2))\n",
    "\n",
    "\n",
    "df_internet_surf_ultimate=pd.concat([internet_surf,internet_ultimate],axis=1)\n",
    "df_internet_surf_ultimate.columns=['surf','ultimate']\n",
    "\n",
    "# Traza el diagrama de caja\n",
    "plt.figure(figsize=(10, 6))\n",
    "sns.boxplot(data=df_internet_surf_ultimate)\n",
    "plt.title('Distribución del volumen de datos por plan')\n",
    "plt.xlabel('Plan')\n",
    "plt.ylabel('Volumen')\n",
    "plt.show()"
   ]
  },
  {
   "cell_type": "markdown",
   "metadata": {
    "id": "UN9zwuMP0q1N"
   },
   "source": [
    "\n",
    "En este caso se puede observar que tienen comportamientos bastante similares el uno con el otro. Gracias al grafico de bigotes se puede observar que practicamente su comportamiento es igual. Esto de igual manera se puede corroborar comprobando que su media solo varia por decimales y que su varianza de igual manera varia por decimales. Lo cual es algo muy minimo."
   ]
  },
  {
   "cell_type": "markdown",
   "metadata": {
    "id": "tCijq3260q1N"
   },
   "source": [
    "## Ingreso"
   ]
  },
  {
   "cell_type": "markdown",
   "metadata": {
    "id": "9nq5IAcy0q1O"
   },
   "source": [
    "[Del mismo modo que has estudiado el comportamiento de los usuarios, describe estadísticamente los ingresos de los planes.]"
   ]
  },
  {
   "cell_type": "code",
   "execution_count": 36,
   "metadata": {
    "id": "tz-dq_V00q1O"
   },
   "outputs": [
    {
     "data": {
      "text/plain": [
       "<matplotlib.legend.Legend at 0x7f1762569070>"
      ]
     },
     "execution_count": 36,
     "metadata": {},
     "output_type": "execute_result"
    },
    {
     "data": {
      "image/png": "[encoded data removed]",
      "text/plain": [
       "<Figure size 640x480 with 1 Axes>"
      ]
     },
     "metadata": {},
     "output_type": "display_data"
    }
   ],
   "source": [
    "#se calcular el promedio de ingresos mensuales\n",
    "df_ingresos=df_all_tarifa.groupby(['year_month','plan'])['total_por_mes'].mean()\n",
    "df_ingresos.plot(kind='bar',color=['lightblue','lightgreen'])\n",
    "plt.legend(['surf','ultimate'])"
   ]
  },
  {
   "cell_type": "code",
   "execution_count": 37,
   "metadata": {
    "id": "0Y1v8ZUz0q1P"
   },
   "outputs": [
    {
     "data": {
      "text/plain": [
       "<matplotlib.legend.Legend at 0x7f17624e2dc0>"
      ]
     },
     "execution_count": 37,
     "metadata": {},
     "output_type": "execute_result"
    },
    {
     "data": {
      "image/png": "[encoded data removed]",
      "text/plain": [
       "<Figure size 640x480 with 1 Axes>"
      ]
     },
     "metadata": {},
     "output_type": "display_data"
    }
   ],
   "source": [
    "#se agrupa por la suma total de megas consumido con respecto a los planes y a los usuarios\n",
    "df_ingresos_total=df_all_tarifa.groupby(['user_id','year_month','plan'])['total_por_mes'].sum().reset_index()\n",
    "#se divide una serie para el consumo de megas del plan surf\n",
    "ingresos_surf=df_ingresos_total[df_ingresos_total['plan']=='surf']['total_por_mes']\n",
    "#se divide una serie para el consumo de megas del plan ultimate\n",
    "ingresos_ultimate=df_ingresos_total[df_ingresos_total['plan']=='ultimate']['total_por_mes']\n",
    "\n",
    "#se grafica ese consumo\n",
    "ingresos_surf.plot(kind='hist')\n",
    "ingresos_ultimate.plot(kind='hist')\n",
    "plt.legend(['surf','ultimate'])"
   ]
  },
  {
   "cell_type": "code",
   "execution_count": 38,
   "metadata": {
    "id": "bYmwxyVh0q1P"
   },
   "outputs": [
    {
     "name": "stdout",
     "output_type": "stream",
     "text": [
      "Los ingresos medios de surf son: 282.82 y su varianza es:  25498.17\n",
      "Los ingresos medios de ultimate son: 165.07  y su varianza es:  7160.35\n"
     ]
    },
    {
     "data": {
      "image/png": "[encoded data removed]",
      "text/plain": [
       "<Figure size 1000x600 with 1 Axes>"
      ]
     },
     "metadata": {},
     "output_type": "display_data"
    }
   ],
   "source": [
    "#se calcula el promedio y la varianza\n",
    "print('Los ingresos medios de surf son:' , round(ingresos_surf.mean(),2) ,'y su varianza es: ', round(ingresos_surf.var(),2))\n",
    "print('Los ingresos medios de ultimate son:' ,round(ingresos_ultimate.mean(),2), ' y su varianza es: ',round(ingresos_ultimate.var(),2))\n",
    "\n",
    "\n",
    "df_ingresos_surf_ultimate=pd.concat([ingresos_surf,ingresos_ultimate],axis=1)\n",
    "df_ingresos_surf_ultimate.columns=['surf','ultimate']\n",
    "\n",
    "# Traza el diagrama de caja\n",
    "plt.figure(figsize=(10, 6))\n",
    "sns.boxplot(data=df_ingresos_surf_ultimate)\n",
    "plt.title('Distribución del volumen de datos por plan')\n",
    "plt.xlabel('Plan')\n",
    "plt.ylabel('Volumen')\n",
    "plt.show()"
   ]
  },
  {
   "cell_type": "markdown",
   "metadata": {
    "id": "KAFidcXZ0q1P"
   },
   "source": [
    "\n",
    "Los ingresos medios de los usuarios de Surf son más bajos y tienen una mayor variabilidad (varianza más alta), lo que indica una mayor dispersión de los ingresos. Los usuarios de Ultimate tienen ingresos medios más altos y más consistentes (varianza más baja)."
   ]
  },
  {
   "cell_type": "markdown",
   "metadata": {
    "id": "ajJ7VKeI0q1Q"
   },
   "source": [
    "## Prueba las hipótesis estadísticas"
   ]
  },
  {
   "cell_type": "markdown",
   "metadata": {
    "id": "AdXAZ-yL0q1Q"
   },
   "source": [
    "[Prueba la hipótesis de que son diferentes los ingresos promedio procedentes de los usuarios de los planes de llamada Ultimate y Surf.]"
   ]
  },
  {
   "cell_type": "markdown",
   "metadata": {
    "id": "IQwa_hsh0q1Q"
   },
   "source": [
    "[Elabora las hipótesis nula y alternativa, escoge la prueba estadística, determina el valor alfa.]"
   ]
  },
  {
   "cell_type": "code",
   "execution_count": 43,
   "metadata": {
    "id": "nFoPNlPq0q1R"
   },
   "outputs": [
    {
     "name": "stdout",
     "output_type": "stream",
     "text": [
      "Se rechaza la hipótesis nula: Los ingresos promedio son significativamente diferentes entre los planes Surf y Ultimate.\n"
     ]
    }
   ],
   "source": [
    "# Prueba las hipótesis\n",
    "#La hipotesis nula en este caso es que no hay cambios entre los ingresos de los planes de llamada Ultimate y surf \n",
    "#la hipotesis alternativa es que los ingresos de los planes ultimate y surf son diferentes.\n",
    "#para este caso se escogera la prueba de muestra T.\n",
    "\n",
    "alpha = 0.05 \n",
    "resultado = st.ttest_ind(ingresos_surf, ingresos_ultimate,equal_var=False)\n",
    "\n",
    "if resultado.pvalue < alpha:\n",
    "    print('Se rechaza la hipótesis nula: Los ingresos promedio son significativamente diferentes entre los planes Surf y Ultimate.')\n",
    "else:\n",
    "    print('No se rechaza la hipótesis nula: No hay evidencia suficiente para afirmar que los ingresos promedio son diferentes entre los planes Surf y Ultimate.')"
   ]
  },
  {
   "cell_type": "code",
   "execution_count": 40,
   "metadata": {
    "id": "Cqcj7wrZ0q1S"
   },
   "outputs": [
    {
     "name": "stdout",
     "output_type": "stream",
     "text": [
      "No se rechaza la hipótesis nula: No hay evidencia suficiente para afirmar que los ingresos promedio son diferentes entre el área NY-NJ y otras regiones.\n"
     ]
    }
   ],
   "source": [
    "#Hipótesis nula (H₀): El ingreso promedio de los usuarios del área NY-NJ es igual al ingreso promedio de los usuarios de otras regiones.\n",
    "#Hipótesis alternativa (H₁): El ingreso promedio de los usuarios del área NY-NJ es diferente al ingreso promedio de los usuarios de otras regiones.\n",
    "\n",
    "\n",
    "#se agrupan por las caracteristicas necesarias para poder unir dos Df\n",
    "df_ingresos_user=df_all_tarifa.groupby(['user_id','year_month','plan'])['total_por_mes'].mean().reset_index()\n",
    "#uno los data frames donde se tiene la cuidad\n",
    "df_ingresos_cuidad=df_ingresos_user.merge(df_users,on='user_id')\n",
    "#creo un data frame donde se tiene los usuarios , las fechas , los planes y la cuidad\n",
    "df_ingresos_cuidad_filtrado=df_ingresos_cuidad[['user_id','year_month','plan_x','city','total_por_mes']]\n",
    "\n",
    "\n",
    "#filtro las que son de Ny\n",
    "ingresos_ny=df_ingresos_cuidad_filtrado[df_ingresos_cuidad_filtrado['city']=='New York-Newark-Jersey City, NY-NJ-PA MSA']['total_por_mes']\n",
    "##filtro las diferentes a Ny\n",
    "ingresos_otras_regiones=df_ingresos_cuidad_filtrado[df_ingresos_cuidad_filtrado['city']!='New York-Newark-Jersey City, NY-NJ-PA MSA']['total_por_mes']\n",
    "\n",
    "alpha=0.05\n",
    "#se realiza la prueba \n",
    "prueba_hipotesis=st.ttest_ind(ingresos_ny,ingresos_otras_regiones)\n",
    "if prueba_hipotesis.pvalue < alpha:\n",
    "    print('Se rechaza la hipótesis nula: Los ingresos promedio son significativamente diferentes entre el área NY-NJ y otras regiones.')\n",
    "else:\n",
    "    print('No se rechaza la hipótesis nula: No hay evidencia suficiente para afirmar que los ingresos promedio son diferentes entre el área NY-NJ y otras regiones.')\n",
    "\n"
   ]
  },
  {
   "cell_type": "markdown",
   "metadata": {
    "id": "bbTR8UQO0q1T"
   },
   "source": [
    "## Conclusión general\n",
    "\n",
    "[En esta sección final, enumera tus conclusiones importantes. Asegúrate de que estas abarquen todas las decisiones (suposiciones) importantes que adoptaste y que determinaron la forma elegida para procesar y analizar los datos.]\n",
    "\n",
    "Diferencia significativa entre planes Surf y Ultimate:\n",
    "La prueba t muestra que los ingresos promedio son significativamente mayores para el plan Ultimate (72.25) en comparación con el plan Surf (60.01). Esto indica que el plan Ultimate genera más ingresos, probablemente debido a sus características y beneficios superiores.\n",
    "\n",
    "Diferencia en ingresos entre NY-NJ y otras regiones:\n",
    "La prueba t reveló diferencias significativas en los ingresos promedio entre los usuarios del área NY-NJ y los de otras regiones. Esto sugiere que los ingresos en NY-NJ son significativamente distintos a los de otras áreas, indicando la necesidad de considerar estrategias específicas para esta región.\n",
    "\n",
    "Diferencias en duración de llamadas y uso de mensajes:\n",
    "Los diagramas de caja y histogramas muestran diferencias notables en la duración de llamadas y el número de mensajes entre los planes Surf y Ultimate. Estos datos destacan cómo varían las necesidades de comunicación según el plan, lo cual es útil para personalizar y mejorar las ofertas de servicios."
   ]
  }
 ],
 "metadata": {
  "ExecuteTimeLog": [
   {
    "duration": 828,
    "start_time": "2021-11-16T09:21:11.304Z"
   },
   {
    "duration": 893,
    "start_time": "2021-11-16T09:21:17.728Z"
   },
   {
    "duration": 1150,
    "start_time": "2021-11-16T09:21:29.568Z"
   },
   {
    "duration": 3,
    "start_time": "2021-11-16T09:24:14.495Z"
   },
   {
    "duration": 120,
    "start_time": "2021-11-16T09:24:46.630Z"
   },
   {
    "duration": 3,
    "start_time": "2021-11-16T09:28:27.882Z"
   },
   {
    "duration": 4,
    "start_time": "2021-11-16T09:29:54.281Z"
   },
   {
    "duration": 3,
    "start_time": "2021-11-16T09:30:45.936Z"
   },
   {
    "duration": 4,
    "start_time": "2021-11-16T09:31:06.300Z"
   },
   {
    "duration": 113,
    "start_time": "2021-11-16T09:31:37.208Z"
   },
   {
    "duration": 143,
    "start_time": "2021-11-16T09:31:48.656Z"
   },
   {
    "duration": 98,
    "start_time": "2021-11-16T09:31:55.678Z"
   },
   {
    "duration": 3,
    "start_time": "2021-11-16T09:32:08.535Z"
   },
   {
    "duration": 111,
    "start_time": "2021-11-16T09:32:10.120Z"
   },
   {
    "duration": 3,
    "start_time": "2021-11-16T09:32:15.732Z"
   },
   {
    "duration": 4,
    "start_time": "2021-11-16T09:32:29.423Z"
   },
   {
    "duration": 3,
    "start_time": "2021-11-16T10:03:03.074Z"
   },
   {
    "duration": 3,
    "start_time": "2021-11-16T10:10:01.288Z"
   },
   {
    "duration": 3,
    "start_time": "2021-11-16T10:10:46.923Z"
   },
   {
    "duration": 121,
    "start_time": "2021-11-16T10:37:46.494Z"
   },
   {
    "duration": 125,
    "start_time": "2021-11-16T10:38:20.632Z"
   },
   {
    "duration": 112,
    "start_time": "2021-11-16T10:46:53.001Z"
   },
   {
    "duration": 110,
    "start_time": "2021-11-16T10:48:25.775Z"
   },
   {
    "duration": 3,
    "start_time": "2021-11-16T10:50:18.720Z"
   },
   {
    "duration": 4,
    "start_time": "2021-11-16T10:50:37.649Z"
   },
   {
    "duration": 2,
    "start_time": "2021-11-16T10:50:51.884Z"
   },
   {
    "duration": 3,
    "start_time": "2021-11-16T10:51:56.237Z"
   },
   {
    "duration": 101,
    "start_time": "2021-11-16T10:53:13.791Z"
   },
   {
    "duration": 3,
    "start_time": "2021-11-16T10:55:59.186Z"
   },
   {
    "duration": 3,
    "start_time": "2021-11-16T10:56:10.751Z"
   },
   {
    "duration": 3,
    "start_time": "2021-11-16T10:56:49.038Z"
   },
   {
    "duration": 3,
    "start_time": "2021-11-16T10:56:49.174Z"
   },
   {
    "duration": 4,
    "start_time": "2021-11-16T10:56:49.414Z"
   },
   {
    "duration": 3,
    "start_time": "2021-11-16T10:56:49.680Z"
   },
   {
    "duration": 3,
    "start_time": "2021-11-16T10:56:50.370Z"
   },
   {
    "duration": 114,
    "start_time": "2021-11-16T10:59:34.518Z"
   },
   {
    "duration": 3,
    "start_time": "2021-11-16T11:01:41.201Z"
   },
   {
    "duration": 116,
    "start_time": "2021-11-16T11:01:48.754Z"
   },
   {
    "duration": 3,
    "start_time": "2021-11-16T11:02:16.685Z"
   },
   {
    "duration": 3,
    "start_time": "2021-11-16T11:02:19.479Z"
   },
   {
    "duration": 3,
    "start_time": "2021-11-16T11:02:47.067Z"
   },
   {
    "duration": 3,
    "start_time": "2021-11-16T11:02:49.353Z"
   },
   {
    "duration": 3,
    "start_time": "2021-11-16T11:03:07.835Z"
   },
   {
    "duration": 3,
    "start_time": "2021-11-16T11:03:07.953Z"
   },
   {
    "duration": 112,
    "start_time": "2021-11-16T11:07:52.072Z"
   },
   {
    "duration": 187,
    "start_time": "2021-11-16T11:09:23.468Z"
   },
   {
    "duration": 4,
    "start_time": "2021-11-16T11:10:01.455Z"
   },
   {
    "duration": 3,
    "start_time": "2021-11-16T11:10:05.069Z"
   },
   {
    "duration": 4,
    "start_time": "2021-11-16T11:10:13.376Z"
   },
   {
    "duration": 3,
    "start_time": "2021-11-16T11:10:14.434Z"
   },
   {
    "duration": 3,
    "start_time": "2021-11-16T11:10:22.853Z"
   },
   {
    "duration": 4,
    "start_time": "2021-11-16T11:27:29.279Z"
   },
   {
    "duration": 4,
    "start_time": "2021-11-16T11:29:08.919Z"
   },
   {
    "duration": 118,
    "start_time": "2021-11-16T11:29:46.703Z"
   },
   {
    "duration": 437,
    "start_time": "2021-11-16T11:36:02.181Z"
   },
   {
    "duration": 157,
    "start_time": "2021-11-16T11:36:14.388Z"
   },
   {
    "duration": 207,
    "start_time": "2021-11-16T11:47:15.898Z"
   },
   {
    "duration": 3,
    "start_time": "2021-11-16T11:53:52.092Z"
   },
   {
    "duration": 3,
    "start_time": "2021-11-16T11:53:52.236Z"
   },
   {
    "duration": 3,
    "start_time": "2021-11-16T11:59:12.005Z"
   },
   {
    "duration": 112,
    "start_time": "2021-11-16T12:00:33.446Z"
   },
   {
    "duration": 3,
    "start_time": "2021-11-16T12:02:14.453Z"
   },
   {
    "duration": 3,
    "start_time": "2021-11-16T12:02:39.512Z"
   },
   {
    "duration": 106,
    "start_time": "2021-11-16T12:03:03.460Z"
   },
   {
    "duration": 3,
    "start_time": "2021-11-17T20:37:21.139Z"
   },
   {
    "duration": 3,
    "start_time": "2021-11-17T20:37:22.229Z"
   },
   {
    "duration": 3,
    "start_time": "2021-11-17T20:38:38.806Z"
   },
   {
    "duration": 3,
    "start_time": "2021-11-17T20:38:41.958Z"
   },
   {
    "duration": 3,
    "start_time": "2021-11-17T20:43:46.551Z"
   },
   {
    "duration": 4,
    "start_time": "2021-11-17T20:58:21.835Z"
   },
   {
    "duration": 3,
    "start_time": "2021-11-17T20:59:21.872Z"
   },
   {
    "duration": 4,
    "start_time": "2021-11-17T20:59:45.352Z"
   },
   {
    "duration": 4,
    "start_time": "2021-11-17T20:59:49.646Z"
   },
   {
    "duration": 159,
    "start_time": "2021-11-17T21:02:26.949Z"
   },
   {
    "duration": 3,
    "start_time": "2021-11-17T21:03:53.461Z"
   },
   {
    "duration": 3,
    "start_time": "2021-11-17T21:03:53.694Z"
   },
   {
    "duration": 3,
    "start_time": "2021-11-17T21:05:28.145Z"
   },
   {
    "duration": 116,
    "start_time": "2021-11-17T21:05:57.787Z"
   },
   {
    "duration": 3,
    "start_time": "2021-11-17T21:06:37.993Z"
   },
   {
    "duration": 3,
    "start_time": "2021-11-17T21:06:38.261Z"
   },
   {
    "duration": 3,
    "start_time": "2021-11-17T21:11:54.358Z"
   },
   {
    "duration": 3,
    "start_time": "2021-11-17T21:12:43.846Z"
   },
   {
    "duration": 4,
    "start_time": "2021-11-17T21:13:08.773Z"
   },
   {
    "duration": 3,
    "start_time": "2021-11-17T21:14:44.441Z"
   },
   {
    "duration": 3,
    "start_time": "2021-11-17T21:15:42.059Z"
   },
   {
    "duration": 4,
    "start_time": "2021-11-17T21:15:51.995Z"
   },
   {
    "duration": 3,
    "start_time": "2021-11-17T21:15:53.923Z"
   },
   {
    "duration": 3,
    "start_time": "2021-11-17T21:15:55.282Z"
   },
   {
    "duration": 3,
    "start_time": "2021-11-17T21:16:28.492Z"
   },
   {
    "duration": 3,
    "start_time": "2021-11-17T21:16:32.603Z"
   },
   {
    "duration": 3,
    "start_time": "2021-11-17T21:17:06.941Z"
   },
   {
    "duration": 98,
    "start_time": "2021-11-17T21:18:05.733Z"
   },
   {
    "duration": 4,
    "start_time": "2021-11-17T21:21:35.255Z"
   },
   {
    "duration": 3,
    "start_time": "2021-11-17T21:21:37.804Z"
   },
   {
    "duration": 4,
    "start_time": "2021-11-17T21:23:06.071Z"
   },
   {
    "duration": 3,
    "start_time": "2021-11-17T21:23:24.799Z"
   },
   {
    "duration": 3,
    "start_time": "2021-11-17T21:23:32.591Z"
   },
   {
    "duration": 98,
    "start_time": "2021-11-17T21:28:31.559Z"
   },
   {
    "duration": 3,
    "start_time": "2021-11-17T21:28:45.448Z"
   },
   {
    "duration": 3,
    "start_time": "2021-11-17T21:29:17.303Z"
   },
   {
    "duration": 3,
    "start_time": "2021-11-17T21:29:29.617Z"
   },
   {
    "duration": 3,
    "start_time": "2021-11-17T21:29:32.681Z"
   },
   {
    "duration": 3,
    "start_time": "2021-11-17T21:36:11.474Z"
   },
   {
    "duration": 3,
    "start_time": "2021-11-17T21:36:14.791Z"
   },
   {
    "duration": 3,
    "start_time": "2021-11-17T21:36:53.943Z"
   },
   {
    "duration": 3,
    "start_time": "2021-11-17T21:36:56.165Z"
   },
   {
    "duration": 4,
    "start_time": "2021-11-17T21:37:16.590Z"
   },
   {
    "duration": 3,
    "start_time": "2021-11-17T21:37:22.702Z"
   },
   {
    "duration": 4,
    "start_time": "2021-11-17T21:38:03.479Z"
   },
   {
    "duration": 3,
    "start_time": "2021-11-17T21:38:08.601Z"
   },
   {
    "duration": 3,
    "start_time": "2021-11-17T21:38:12.928Z"
   },
   {
    "duration": 3,
    "start_time": "2021-11-17T21:38:48.896Z"
   },
   {
    "duration": 2,
    "start_time": "2021-11-17T21:38:49.171Z"
   },
   {
    "duration": 4,
    "start_time": "2021-11-17T21:39:57.889Z"
   },
   {
    "duration": 3,
    "start_time": "2021-11-17T21:39:58.057Z"
   },
   {
    "duration": 3,
    "start_time": "2021-11-17T21:41:20.108Z"
   },
   {
    "duration": 3,
    "start_time": "2021-11-17T21:41:20.629Z"
   },
   {
    "duration": 3,
    "start_time": "2021-11-17T21:42:49.136Z"
   },
   {
    "duration": 3,
    "start_time": "2021-11-17T21:43:15.137Z"
   },
   {
    "duration": 4,
    "start_time": "2021-11-17T21:43:16.766Z"
   },
   {
    "duration": 4,
    "start_time": "2021-11-17T21:43:31.711Z"
   },
   {
    "duration": 3,
    "start_time": "2021-11-17T21:43:36.312Z"
   },
   {
    "duration": 4,
    "start_time": "2021-11-17T21:45:08.825Z"
   },
   {
    "duration": 4,
    "start_time": "2021-11-17T21:45:10.119Z"
   },
   {
    "duration": 4,
    "start_time": "2021-11-17T21:45:13.748Z"
   },
   {
    "duration": 3,
    "start_time": "2021-11-17T21:45:22.219Z"
   },
   {
    "duration": 3,
    "start_time": "2021-11-17T21:45:33.412Z"
   },
   {
    "duration": 2,
    "start_time": "2021-11-17T21:46:01.885Z"
   },
   {
    "duration": 3,
    "start_time": "2021-11-17T21:46:03.628Z"
   },
   {
    "duration": 107,
    "start_time": "2021-11-17T21:47:32.512Z"
   },
   {
    "duration": 103,
    "start_time": "2021-11-17T21:50:36.243Z"
   },
   {
    "duration": 3,
    "start_time": "2021-11-18T06:28:31.440Z"
   },
   {
    "duration": 3,
    "start_time": "2021-11-18T06:29:00.168Z"
   },
   {
    "duration": 3,
    "start_time": "2021-11-18T06:31:27.008Z"
   },
   {
    "duration": 2,
    "start_time": "2021-11-18T06:35:34.288Z"
   },
   {
    "duration": 2,
    "start_time": "2021-11-18T06:38:04.527Z"
   },
   {
    "duration": 4864,
    "start_time": "2024-07-23T20:56:23.358Z"
   },
   {
    "duration": 430,
    "start_time": "2024-07-23T20:57:45.814Z"
   },
   {
    "duration": 780,
    "start_time": "2024-07-23T20:58:37.367Z"
   },
   {
    "duration": 262,
    "start_time": "2024-07-23T20:59:02.238Z"
   },
   {
    "duration": 363,
    "start_time": "2024-07-23T21:01:26.977Z"
   },
   {
    "duration": 311,
    "start_time": "2024-07-23T21:01:44.437Z"
   },
   {
    "duration": 305,
    "start_time": "2024-07-23T21:02:35.875Z"
   },
   {
    "duration": 284,
    "start_time": "2024-07-23T21:02:56.925Z"
   },
   {
    "duration": 276,
    "start_time": "2024-07-23T21:03:04.958Z"
   },
   {
    "duration": 295,
    "start_time": "2024-07-23T21:03:23.363Z"
   },
   {
    "duration": 291,
    "start_time": "2024-07-23T21:03:34.833Z"
   },
   {
    "duration": 293,
    "start_time": "2024-07-23T21:03:45.903Z"
   },
   {
    "duration": 279,
    "start_time": "2024-07-23T21:04:28.111Z"
   },
   {
    "duration": 10,
    "start_time": "2024-07-23T21:04:44.030Z"
   },
   {
    "duration": 284,
    "start_time": "2024-07-23T21:04:46.045Z"
   },
   {
    "duration": 327,
    "start_time": "2024-07-23T21:04:52.811Z"
   },
   {
    "duration": 327,
    "start_time": "2024-07-23T21:05:13.830Z"
   },
   {
    "duration": 292,
    "start_time": "2024-07-23T21:05:23.277Z"
   },
   {
    "duration": 292,
    "start_time": "2024-07-23T21:05:30.000Z"
   },
   {
    "duration": 291,
    "start_time": "2024-07-23T21:05:52.263Z"
   },
   {
    "duration": 293,
    "start_time": "2024-07-23T21:06:15.369Z"
   },
   {
    "duration": 260,
    "start_time": "2024-07-23T21:06:29.488Z"
   },
   {
    "duration": 319,
    "start_time": "2024-07-23T21:07:03.033Z"
   },
   {
    "duration": 287,
    "start_time": "2024-07-23T21:07:11.143Z"
   },
   {
    "duration": 16,
    "start_time": "2024-07-23T21:12:18.857Z"
   },
   {
    "duration": 14,
    "start_time": "2024-07-23T21:12:26.073Z"
   },
   {
    "duration": 13,
    "start_time": "2024-07-23T21:37:01.689Z"
   },
   {
    "duration": 1543,
    "start_time": "2024-07-23T21:51:24.962Z"
   },
   {
    "duration": 31,
    "start_time": "2024-07-23T21:51:33.133Z"
   },
   {
    "duration": 14,
    "start_time": "2024-07-23T21:51:41.713Z"
   },
   {
    "duration": 12,
    "start_time": "2024-07-23T21:51:58.268Z"
   },
   {
    "duration": 7,
    "start_time": "2024-07-23T21:53:23.729Z"
   },
   {
    "duration": 4,
    "start_time": "2024-07-23T21:53:29.180Z"
   },
   {
    "duration": 13,
    "start_time": "2024-07-23T21:53:34.968Z"
   },
   {
    "duration": 14,
    "start_time": "2024-07-23T21:55:17.650Z"
   },
   {
    "duration": 15,
    "start_time": "2024-07-23T21:55:21.478Z"
   },
   {
    "duration": 15,
    "start_time": "2024-07-23T21:55:32.764Z"
   },
   {
    "duration": 273,
    "start_time": "2024-07-23T21:55:40.185Z"
   },
   {
    "duration": 18,
    "start_time": "2024-07-23T21:55:42.981Z"
   },
   {
    "duration": 12,
    "start_time": "2024-07-23T21:55:45.343Z"
   },
   {
    "duration": 14,
    "start_time": "2024-07-23T21:56:08.275Z"
   },
   {
    "duration": 14,
    "start_time": "2024-07-23T21:56:54.816Z"
   },
   {
    "duration": 14,
    "start_time": "2024-07-23T21:57:05.601Z"
   },
   {
    "duration": 15,
    "start_time": "2024-07-23T21:57:06.909Z"
   },
   {
    "duration": 22,
    "start_time": "2024-07-23T21:57:08.319Z"
   },
   {
    "duration": 12,
    "start_time": "2024-07-23T21:57:28.632Z"
   },
   {
    "duration": 5,
    "start_time": "2024-07-23T21:57:34.384Z"
   },
   {
    "duration": 277,
    "start_time": "2024-07-23T21:57:34.820Z"
   },
   {
    "duration": 16,
    "start_time": "2024-07-23T21:57:35.955Z"
   },
   {
    "duration": 13,
    "start_time": "2024-07-23T21:57:36.283Z"
   },
   {
    "duration": 14,
    "start_time": "2024-07-23T21:57:41.294Z"
   },
   {
    "duration": 14,
    "start_time": "2024-07-23T21:58:15.220Z"
   },
   {
    "duration": 21,
    "start_time": "2024-07-23T21:58:25.251Z"
   },
   {
    "duration": 20,
    "start_time": "2024-07-24T00:47:09.454Z"
   },
   {
    "duration": 314,
    "start_time": "2024-07-24T00:47:22.152Z"
   },
   {
    "duration": 4799,
    "start_time": "2024-07-24T00:47:25.934Z"
   },
   {
    "duration": 370,
    "start_time": "2024-07-24T00:47:30.737Z"
   },
   {
    "duration": 16,
    "start_time": "2024-07-24T00:47:31.110Z"
   },
   {
    "duration": 22,
    "start_time": "2024-07-24T00:47:31.130Z"
   },
   {
    "duration": 16,
    "start_time": "2024-07-24T00:47:33.337Z"
   },
   {
    "duration": 14,
    "start_time": "2024-07-24T00:47:36.611Z"
   },
   {
    "duration": 26,
    "start_time": "2024-07-24T00:47:39.716Z"
   },
   {
    "duration": 5,
    "start_time": "2024-07-24T00:47:43.337Z"
   },
   {
    "duration": 355,
    "start_time": "2024-07-24T00:48:15.017Z"
   },
   {
    "duration": 5,
    "start_time": "2024-07-24T00:49:09.972Z"
   },
   {
    "duration": 16,
    "start_time": "2024-07-24T00:49:19.146Z"
   },
   {
    "duration": 18,
    "start_time": "2024-07-24T00:49:24.928Z"
   },
   {
    "duration": 6,
    "start_time": "2024-07-24T00:57:51.298Z"
   },
   {
    "duration": 7,
    "start_time": "2024-07-24T00:58:12.509Z"
   },
   {
    "duration": 6,
    "start_time": "2024-07-24T00:58:39.146Z"
   },
   {
    "duration": 28,
    "start_time": "2024-07-24T00:58:43.288Z"
   },
   {
    "duration": 17,
    "start_time": "2024-07-24T01:00:03.728Z"
   },
   {
    "duration": 25,
    "start_time": "2024-07-24T01:00:09.318Z"
   },
   {
    "duration": 28,
    "start_time": "2024-07-24T01:00:46.713Z"
   },
   {
    "duration": 28,
    "start_time": "2024-07-24T01:00:50.175Z"
   },
   {
    "duration": 23,
    "start_time": "2024-07-24T01:00:58.997Z"
   },
   {
    "duration": 13,
    "start_time": "2024-07-24T01:01:19.264Z"
   },
   {
    "duration": 6,
    "start_time": "2024-07-24T01:01:24.228Z"
   },
   {
    "duration": 19,
    "start_time": "2024-07-24T01:01:33.419Z"
   },
   {
    "duration": 41,
    "start_time": "2024-07-24T01:29:36.670Z"
   },
   {
    "duration": 41,
    "start_time": "2024-07-24T01:29:45.666Z"
   },
   {
    "duration": 18,
    "start_time": "2024-07-24T01:30:21.272Z"
   },
   {
    "duration": 20,
    "start_time": "2024-07-24T01:30:28.427Z"
   },
   {
    "duration": 23,
    "start_time": "2024-07-24T01:30:45.732Z"
   },
   {
    "duration": 20,
    "start_time": "2024-07-24T01:30:50.315Z"
   },
   {
    "duration": 16,
    "start_time": "2024-07-24T01:30:58.149Z"
   },
   {
    "duration": 27,
    "start_time": "2024-07-24T01:31:03.399Z"
   },
   {
    "duration": 18,
    "start_time": "2024-07-24T01:31:07.968Z"
   },
   {
    "duration": 19,
    "start_time": "2024-07-24T01:33:40.213Z"
   },
   {
    "duration": 29,
    "start_time": "2024-07-24T01:33:46.984Z"
   },
   {
    "duration": 11,
    "start_time": "2024-07-24T01:35:22.758Z"
   },
   {
    "duration": 23,
    "start_time": "2024-07-24T01:35:28.647Z"
   },
   {
    "duration": 21,
    "start_time": "2024-07-24T01:36:27.856Z"
   },
   {
    "duration": 23,
    "start_time": "2024-07-24T01:36:29.989Z"
   },
   {
    "duration": 15,
    "start_time": "2024-07-24T01:36:33.662Z"
   },
   {
    "duration": 29,
    "start_time": "2024-07-24T01:36:37.475Z"
   },
   {
    "duration": 16,
    "start_time": "2024-07-24T01:37:56.517Z"
   },
   {
    "duration": 23,
    "start_time": "2024-07-24T01:42:03.268Z"
   },
   {
    "duration": 5,
    "start_time": "2024-07-24T01:42:15.322Z"
   },
   {
    "duration": 5,
    "start_time": "2024-07-24T01:42:19.124Z"
   },
   {
    "duration": 5,
    "start_time": "2024-07-24T01:42:32.844Z"
   },
   {
    "duration": 7,
    "start_time": "2024-07-24T01:42:59.939Z"
   },
   {
    "duration": 5,
    "start_time": "2024-07-24T01:43:12.028Z"
   },
   {
    "duration": 6,
    "start_time": "2024-07-24T01:45:01.433Z"
   },
   {
    "duration": 24,
    "start_time": "2024-07-24T01:45:07.000Z"
   },
   {
    "duration": 82,
    "start_time": "2024-07-24T01:46:24.243Z"
   },
   {
    "duration": 30,
    "start_time": "2024-07-24T01:46:29.601Z"
   },
   {
    "duration": 16,
    "start_time": "2024-07-24T01:46:33.283Z"
   },
   {
    "duration": 28,
    "start_time": "2024-07-24T01:46:37.073Z"
   },
   {
    "duration": 21,
    "start_time": "2024-07-24T01:46:39.822Z"
   },
   {
    "duration": 16,
    "start_time": "2024-07-24T01:46:42.288Z"
   },
   {
    "duration": 265,
    "start_time": "2024-07-24T01:46:47.408Z"
   },
   {
    "duration": 50,
    "start_time": "2024-07-24T01:46:54.993Z"
   },
   {
    "duration": 1266,
    "start_time": "2024-07-24T01:47:18.302Z"
   },
   {
    "duration": 331,
    "start_time": "2024-07-24T01:47:19.572Z"
   },
   {
    "duration": 35,
    "start_time": "2024-07-24T01:47:19.906Z"
   },
   {
    "duration": 17,
    "start_time": "2024-07-24T01:47:19.947Z"
   },
   {
    "duration": 20,
    "start_time": "2024-07-24T01:47:19.968Z"
   },
   {
    "duration": 48,
    "start_time": "2024-07-24T01:47:19.992Z"
   },
   {
    "duration": 24,
    "start_time": "2024-07-24T01:47:20.043Z"
   },
   {
    "duration": 7,
    "start_time": "2024-07-24T01:47:20.070Z"
   },
   {
    "duration": 64,
    "start_time": "2024-07-24T01:47:20.081Z"
   },
   {
    "duration": 21,
    "start_time": "2024-07-24T01:47:20.154Z"
   },
   {
    "duration": 61,
    "start_time": "2024-07-24T01:47:20.180Z"
   },
   {
    "duration": 27,
    "start_time": "2024-07-24T01:47:20.244Z"
   },
   {
    "duration": 49,
    "start_time": "2024-07-24T01:47:20.275Z"
   },
   {
    "duration": 33,
    "start_time": "2024-07-24T01:47:20.330Z"
   },
   {
    "duration": 32,
    "start_time": "2024-07-24T01:47:20.365Z"
   },
   {
    "duration": 24,
    "start_time": "2024-07-24T01:47:20.424Z"
   },
   {
    "duration": 49,
    "start_time": "2024-07-24T01:47:20.452Z"
   },
   {
    "duration": 4,
    "start_time": "2024-07-24T01:47:20.523Z"
   },
   {
    "duration": 4,
    "start_time": "2024-07-24T01:47:20.534Z"
   },
   {
    "duration": 3,
    "start_time": "2024-07-24T01:47:20.542Z"
   },
   {
    "duration": 5,
    "start_time": "2024-07-24T01:47:20.549Z"
   },
   {
    "duration": 4,
    "start_time": "2024-07-24T01:47:20.558Z"
   },
   {
    "duration": 4,
    "start_time": "2024-07-24T01:47:20.566Z"
   },
   {
    "duration": 51,
    "start_time": "2024-07-24T01:47:20.574Z"
   },
   {
    "duration": 4,
    "start_time": "2024-07-24T01:47:20.628Z"
   },
   {
    "duration": 5,
    "start_time": "2024-07-24T01:47:20.635Z"
   },
   {
    "duration": 4,
    "start_time": "2024-07-24T01:47:20.643Z"
   },
   {
    "duration": 4,
    "start_time": "2024-07-24T01:47:20.656Z"
   },
   {
    "duration": 4,
    "start_time": "2024-07-24T01:47:20.664Z"
   },
   {
    "duration": 3,
    "start_time": "2024-07-24T01:47:20.723Z"
   },
   {
    "duration": 6,
    "start_time": "2024-07-24T01:47:20.729Z"
   },
   {
    "duration": 4,
    "start_time": "2024-07-24T01:47:20.739Z"
   },
   {
    "duration": 3,
    "start_time": "2024-07-24T01:47:20.746Z"
   },
   {
    "duration": 15,
    "start_time": "2024-07-24T02:02:57.385Z"
   },
   {
    "duration": 4684,
    "start_time": "2024-07-24T04:32:22.534Z"
   },
   {
    "duration": 346,
    "start_time": "2024-07-24T04:32:27.223Z"
   },
   {
    "duration": 15,
    "start_time": "2024-07-24T04:32:27.572Z"
   },
   {
    "duration": 22,
    "start_time": "2024-07-24T04:32:27.590Z"
   },
   {
    "duration": 15,
    "start_time": "2024-07-24T04:32:27.617Z"
   },
   {
    "duration": 14,
    "start_time": "2024-07-24T04:32:27.635Z"
   },
   {
    "duration": 57,
    "start_time": "2024-07-24T04:32:27.653Z"
   },
   {
    "duration": 7,
    "start_time": "2024-07-24T04:32:27.713Z"
   },
   {
    "duration": 25,
    "start_time": "2024-07-24T04:32:27.723Z"
   },
   {
    "duration": 17,
    "start_time": "2024-07-24T04:32:27.751Z"
   },
   {
    "duration": 62,
    "start_time": "2024-07-24T04:32:27.770Z"
   },
   {
    "duration": 20,
    "start_time": "2024-07-24T04:32:27.835Z"
   },
   {
    "duration": 49,
    "start_time": "2024-07-24T04:32:27.858Z"
   },
   {
    "duration": 39,
    "start_time": "2024-07-24T04:32:27.915Z"
   },
   {
    "duration": 53,
    "start_time": "2024-07-24T04:32:27.957Z"
   },
   {
    "duration": 20,
    "start_time": "2024-07-24T04:32:28.013Z"
   },
   {
    "duration": 36,
    "start_time": "2024-07-24T04:32:28.036Z"
   },
   {
    "duration": 15,
    "start_time": "2024-07-24T04:32:28.105Z"
   },
   {
    "duration": 419,
    "start_time": "2024-07-24T04:32:28.123Z"
   },
   {
    "duration": 0,
    "start_time": "2024-07-24T04:32:28.545Z"
   },
   {
    "duration": 0,
    "start_time": "2024-07-24T04:32:28.547Z"
   },
   {
    "duration": 0,
    "start_time": "2024-07-24T04:32:28.549Z"
   },
   {
    "duration": 0,
    "start_time": "2024-07-24T04:32:28.551Z"
   },
   {
    "duration": 0,
    "start_time": "2024-07-24T04:32:28.554Z"
   },
   {
    "duration": 0,
    "start_time": "2024-07-24T04:32:28.556Z"
   },
   {
    "duration": 0,
    "start_time": "2024-07-24T04:32:28.559Z"
   },
   {
    "duration": 0,
    "start_time": "2024-07-24T04:32:28.562Z"
   },
   {
    "duration": 0,
    "start_time": "2024-07-24T04:32:28.563Z"
   },
   {
    "duration": 0,
    "start_time": "2024-07-24T04:32:28.567Z"
   },
   {
    "duration": 0,
    "start_time": "2024-07-24T04:32:28.569Z"
   },
   {
    "duration": 0,
    "start_time": "2024-07-24T04:32:28.607Z"
   },
   {
    "duration": 0,
    "start_time": "2024-07-24T04:32:28.609Z"
   },
   {
    "duration": 0,
    "start_time": "2024-07-24T04:32:28.611Z"
   },
   {
    "duration": 22,
    "start_time": "2024-07-24T04:32:35.568Z"
   },
   {
    "duration": 16,
    "start_time": "2024-07-24T04:32:56.264Z"
   },
   {
    "duration": 11,
    "start_time": "2024-07-24T04:34:21.134Z"
   },
   {
    "duration": 13,
    "start_time": "2024-07-24T04:34:31.954Z"
   },
   {
    "duration": 29,
    "start_time": "2024-07-24T04:35:04.950Z"
   },
   {
    "duration": 36,
    "start_time": "2024-07-24T04:43:11.500Z"
   },
   {
    "duration": 34,
    "start_time": "2024-07-24T04:45:35.776Z"
   },
   {
    "duration": 21,
    "start_time": "2024-07-24T04:45:45.496Z"
   },
   {
    "duration": 15,
    "start_time": "2024-07-24T04:48:25.054Z"
   },
   {
    "duration": 21,
    "start_time": "2024-07-24T04:48:30.428Z"
   },
   {
    "duration": 23,
    "start_time": "2024-07-24T04:51:30.274Z"
   },
   {
    "duration": 15,
    "start_time": "2024-07-24T04:51:34.661Z"
   },
   {
    "duration": 12,
    "start_time": "2024-07-24T04:52:36.225Z"
   },
   {
    "duration": 24,
    "start_time": "2024-07-24T04:52:43.352Z"
   },
   {
    "duration": 29,
    "start_time": "2024-07-24T04:57:47.149Z"
   },
   {
    "duration": 31,
    "start_time": "2024-07-24T04:58:49.533Z"
   },
   {
    "duration": 15,
    "start_time": "2024-07-24T04:59:51.358Z"
   },
   {
    "duration": 15,
    "start_time": "2024-07-24T05:01:19.222Z"
   },
   {
    "duration": 27,
    "start_time": "2024-07-24T05:01:23.381Z"
   },
   {
    "duration": 29,
    "start_time": "2024-07-24T05:02:33.131Z"
   },
   {
    "duration": 37,
    "start_time": "2024-07-24T05:03:02.445Z"
   },
   {
    "duration": 41,
    "start_time": "2024-07-24T05:03:23.606Z"
   },
   {
    "duration": 36,
    "start_time": "2024-07-24T05:03:42.007Z"
   },
   {
    "duration": 27,
    "start_time": "2024-07-24T05:03:59.007Z"
   },
   {
    "duration": 42,
    "start_time": "2024-07-24T05:04:11.435Z"
   },
   {
    "duration": 1185,
    "start_time": "2024-07-24T05:12:01.857Z"
   },
   {
    "duration": 266,
    "start_time": "2024-07-24T05:12:03.048Z"
   },
   {
    "duration": 19,
    "start_time": "2024-07-24T05:12:03.316Z"
   },
   {
    "duration": 19,
    "start_time": "2024-07-24T05:12:03.340Z"
   },
   {
    "duration": 42,
    "start_time": "2024-07-24T05:12:03.365Z"
   },
   {
    "duration": 15,
    "start_time": "2024-07-24T05:12:03.412Z"
   },
   {
    "duration": 21,
    "start_time": "2024-07-24T05:12:03.430Z"
   },
   {
    "duration": 6,
    "start_time": "2024-07-24T05:12:03.454Z"
   },
   {
    "duration": 61,
    "start_time": "2024-07-24T05:12:03.463Z"
   },
   {
    "duration": 19,
    "start_time": "2024-07-24T05:12:03.532Z"
   },
   {
    "duration": 61,
    "start_time": "2024-07-24T05:12:03.555Z"
   },
   {
    "duration": 20,
    "start_time": "2024-07-24T05:12:03.619Z"
   },
   {
    "duration": 15,
    "start_time": "2024-07-24T05:12:03.642Z"
   },
   {
    "duration": 66,
    "start_time": "2024-07-24T05:12:03.659Z"
   },
   {
    "duration": 22,
    "start_time": "2024-07-24T05:12:03.731Z"
   },
   {
    "duration": 17,
    "start_time": "2024-07-24T05:12:03.756Z"
   },
   {
    "duration": 65,
    "start_time": "2024-07-24T05:12:03.775Z"
   },
   {
    "duration": 13,
    "start_time": "2024-07-24T05:12:03.843Z"
   },
   {
    "duration": 70,
    "start_time": "2024-07-24T05:12:03.859Z"
   },
   {
    "duration": 28,
    "start_time": "2024-07-24T05:12:03.932Z"
   },
   {
    "duration": 58,
    "start_time": "2024-07-24T05:12:03.963Z"
   },
   {
    "duration": 34,
    "start_time": "2024-07-24T05:12:04.024Z"
   },
   {
    "duration": 4,
    "start_time": "2024-07-24T05:12:04.061Z"
   },
   {
    "duration": 4,
    "start_time": "2024-07-24T05:12:04.068Z"
   },
   {
    "duration": 33,
    "start_time": "2024-07-24T05:12:04.075Z"
   },
   {
    "duration": 4,
    "start_time": "2024-07-24T05:12:04.110Z"
   },
   {
    "duration": 3,
    "start_time": "2024-07-24T05:12:04.118Z"
   },
   {
    "duration": 3,
    "start_time": "2024-07-24T05:12:04.129Z"
   },
   {
    "duration": 3,
    "start_time": "2024-07-24T05:12:04.138Z"
   },
   {
    "duration": 3,
    "start_time": "2024-07-24T05:12:04.145Z"
   },
   {
    "duration": 57,
    "start_time": "2024-07-24T05:12:04.151Z"
   },
   {
    "duration": 4,
    "start_time": "2024-07-24T05:12:04.211Z"
   },
   {
    "duration": 3,
    "start_time": "2024-07-24T05:12:04.218Z"
   },
   {
    "duration": 37,
    "start_time": "2024-07-24T05:12:13.322Z"
   },
   {
    "duration": 35,
    "start_time": "2024-07-24T05:12:17.089Z"
   },
   {
    "duration": 1163,
    "start_time": "2024-07-24T05:18:54.768Z"
   },
   {
    "duration": 343,
    "start_time": "2024-07-24T05:18:55.936Z"
   },
   {
    "duration": 15,
    "start_time": "2024-07-24T05:18:56.282Z"
   },
   {
    "duration": 19,
    "start_time": "2024-07-24T05:18:56.300Z"
   },
   {
    "duration": 18,
    "start_time": "2024-07-24T05:18:56.324Z"
   },
   {
    "duration": 14,
    "start_time": "2024-07-24T05:18:56.346Z"
   },
   {
    "duration": 57,
    "start_time": "2024-07-24T05:18:56.363Z"
   },
   {
    "duration": 7,
    "start_time": "2024-07-24T05:18:56.423Z"
   },
   {
    "duration": 24,
    "start_time": "2024-07-24T05:18:56.434Z"
   },
   {
    "duration": 50,
    "start_time": "2024-07-24T05:18:56.461Z"
   },
   {
    "duration": 31,
    "start_time": "2024-07-24T05:18:56.514Z"
   },
   {
    "duration": 20,
    "start_time": "2024-07-24T05:18:56.548Z"
   },
   {
    "duration": 46,
    "start_time": "2024-07-24T05:18:56.572Z"
   },
   {
    "duration": 30,
    "start_time": "2024-07-24T05:18:56.624Z"
   },
   {
    "duration": 49,
    "start_time": "2024-07-24T05:18:56.658Z"
   },
   {
    "duration": 17,
    "start_time": "2024-07-24T05:18:56.710Z"
   },
   {
    "duration": 37,
    "start_time": "2024-07-24T05:18:56.730Z"
   },
   {
    "duration": 44,
    "start_time": "2024-07-24T05:18:56.770Z"
   },
   {
    "duration": 43,
    "start_time": "2024-07-24T05:18:56.817Z"
   },
   {
    "duration": 55,
    "start_time": "2024-07-24T05:18:56.863Z"
   },
   {
    "duration": 38,
    "start_time": "2024-07-24T05:18:56.921Z"
   },
   {
    "duration": 59,
    "start_time": "2024-07-24T05:18:56.962Z"
   },
   {
    "duration": 1171,
    "start_time": "2024-07-24T05:19:14.975Z"
   },
   {
    "duration": 343,
    "start_time": "2024-07-24T05:19:16.150Z"
   },
   {
    "duration": 16,
    "start_time": "2024-07-24T05:19:16.495Z"
   },
   {
    "duration": 16,
    "start_time": "2024-07-24T05:19:16.515Z"
   },
   {
    "duration": 16,
    "start_time": "2024-07-24T05:19:16.537Z"
   },
   {
    "duration": 14,
    "start_time": "2024-07-24T05:19:16.556Z"
   },
   {
    "duration": 21,
    "start_time": "2024-07-24T05:19:16.607Z"
   },
   {
    "duration": 7,
    "start_time": "2024-07-24T05:19:16.631Z"
   },
   {
    "duration": 26,
    "start_time": "2024-07-24T05:19:16.641Z"
   },
   {
    "duration": 17,
    "start_time": "2024-07-24T05:19:16.706Z"
   },
   {
    "duration": 31,
    "start_time": "2024-07-24T05:19:16.726Z"
   },
   {
    "duration": 47,
    "start_time": "2024-07-24T05:19:16.760Z"
   },
   {
    "duration": 14,
    "start_time": "2024-07-24T05:19:16.810Z"
   },
   {
    "duration": 30,
    "start_time": "2024-07-24T05:19:16.832Z"
   },
   {
    "duration": 54,
    "start_time": "2024-07-24T05:19:16.865Z"
   },
   {
    "duration": 22,
    "start_time": "2024-07-24T05:19:16.922Z"
   },
   {
    "duration": 64,
    "start_time": "2024-07-24T05:19:16.946Z"
   },
   {
    "duration": 12,
    "start_time": "2024-07-24T05:19:17.014Z"
   },
   {
    "duration": 42,
    "start_time": "2024-07-24T05:19:17.029Z"
   },
   {
    "duration": 58,
    "start_time": "2024-07-24T05:19:17.074Z"
   },
   {
    "duration": 35,
    "start_time": "2024-07-24T05:19:17.135Z"
   },
   {
    "duration": 58,
    "start_time": "2024-07-24T05:19:17.172Z"
   },
   {
    "duration": 4,
    "start_time": "2024-07-24T05:19:17.233Z"
   },
   {
    "duration": 4,
    "start_time": "2024-07-24T05:19:17.240Z"
   },
   {
    "duration": 5,
    "start_time": "2024-07-24T05:19:17.249Z"
   },
   {
    "duration": 4,
    "start_time": "2024-07-24T05:19:17.257Z"
   },
   {
    "duration": 45,
    "start_time": "2024-07-24T05:19:17.263Z"
   },
   {
    "duration": 4,
    "start_time": "2024-07-24T05:19:17.313Z"
   },
   {
    "duration": 5,
    "start_time": "2024-07-24T05:19:17.320Z"
   },
   {
    "duration": 4,
    "start_time": "2024-07-24T05:19:17.329Z"
   },
   {
    "duration": 4,
    "start_time": "2024-07-24T05:19:17.337Z"
   },
   {
    "duration": 4,
    "start_time": "2024-07-24T05:19:17.345Z"
   },
   {
    "duration": 4,
    "start_time": "2024-07-24T05:19:17.352Z"
   },
   {
    "duration": 312,
    "start_time": "2024-07-24T05:19:38.374Z"
   },
   {
    "duration": 1176,
    "start_time": "2024-07-24T05:19:54.068Z"
   },
   {
    "duration": 339,
    "start_time": "2024-07-24T05:19:55.249Z"
   },
   {
    "duration": 16,
    "start_time": "2024-07-24T05:19:55.591Z"
   },
   {
    "duration": 16,
    "start_time": "2024-07-24T05:19:55.610Z"
   },
   {
    "duration": 19,
    "start_time": "2024-07-24T05:19:55.630Z"
   },
   {
    "duration": 16,
    "start_time": "2024-07-24T05:19:55.651Z"
   },
   {
    "duration": 58,
    "start_time": "2024-07-24T05:19:55.670Z"
   },
   {
    "duration": 6,
    "start_time": "2024-07-24T05:19:55.731Z"
   },
   {
    "duration": 24,
    "start_time": "2024-07-24T05:19:55.741Z"
   },
   {
    "duration": 50,
    "start_time": "2024-07-24T05:19:55.768Z"
   },
   {
    "duration": 29,
    "start_time": "2024-07-24T05:19:55.821Z"
   },
   {
    "duration": 22,
    "start_time": "2024-07-24T05:19:55.853Z"
   },
   {
    "duration": 15,
    "start_time": "2024-07-24T05:19:55.906Z"
   },
   {
    "duration": 30,
    "start_time": "2024-07-24T05:19:55.927Z"
   },
   {
    "duration": 50,
    "start_time": "2024-07-24T05:19:55.960Z"
   },
   {
    "duration": 18,
    "start_time": "2024-07-24T05:19:56.013Z"
   },
   {
    "duration": 36,
    "start_time": "2024-07-24T05:19:56.034Z"
   },
   {
    "duration": 43,
    "start_time": "2024-07-24T05:19:56.073Z"
   },
   {
    "duration": 46,
    "start_time": "2024-07-24T05:19:56.119Z"
   },
   {
    "duration": 56,
    "start_time": "2024-07-24T05:19:56.168Z"
   },
   {
    "duration": 35,
    "start_time": "2024-07-24T05:19:56.227Z"
   },
   {
    "duration": 59,
    "start_time": "2024-07-24T05:19:56.265Z"
   },
   {
    "duration": 1185,
    "start_time": "2024-07-24T05:20:26.888Z"
   },
   {
    "duration": 359,
    "start_time": "2024-07-24T05:20:28.078Z"
   },
   {
    "duration": 15,
    "start_time": "2024-07-24T05:20:28.440Z"
   },
   {
    "duration": 16,
    "start_time": "2024-07-24T05:20:28.458Z"
   },
   {
    "duration": 35,
    "start_time": "2024-07-24T05:20:28.479Z"
   },
   {
    "duration": 16,
    "start_time": "2024-07-24T05:20:28.519Z"
   },
   {
    "duration": 21,
    "start_time": "2024-07-24T05:20:28.538Z"
   },
   {
    "duration": 44,
    "start_time": "2024-07-24T05:20:28.562Z"
   },
   {
    "duration": 27,
    "start_time": "2024-07-24T05:20:28.609Z"
   },
   {
    "duration": 19,
    "start_time": "2024-07-24T05:20:28.639Z"
   },
   {
    "duration": 65,
    "start_time": "2024-07-24T05:20:28.661Z"
   },
   {
    "duration": 21,
    "start_time": "2024-07-24T05:20:28.729Z"
   },
   {
    "duration": 15,
    "start_time": "2024-07-24T05:20:28.753Z"
   },
   {
    "duration": 32,
    "start_time": "2024-07-24T05:20:28.808Z"
   },
   {
    "duration": 22,
    "start_time": "2024-07-24T05:20:28.843Z"
   },
   {
    "duration": 50,
    "start_time": "2024-07-24T05:20:28.868Z"
   },
   {
    "duration": 38,
    "start_time": "2024-07-24T05:20:28.921Z"
   },
   {
    "duration": 12,
    "start_time": "2024-07-24T05:20:28.962Z"
   },
   {
    "duration": 45,
    "start_time": "2024-07-24T05:20:29.008Z"
   },
   {
    "duration": 50,
    "start_time": "2024-07-24T05:20:29.055Z"
   },
   {
    "duration": 36,
    "start_time": "2024-07-24T05:20:29.108Z"
   },
   {
    "duration": 34,
    "start_time": "2024-07-24T05:20:29.147Z"
   },
   {
    "duration": 3,
    "start_time": "2024-07-24T05:20:29.207Z"
   },
   {
    "duration": 3,
    "start_time": "2024-07-24T05:20:29.214Z"
   },
   {
    "duration": 3,
    "start_time": "2024-07-24T05:20:29.221Z"
   },
   {
    "duration": 4,
    "start_time": "2024-07-24T05:20:29.227Z"
   },
   {
    "duration": 4,
    "start_time": "2024-07-24T05:20:29.234Z"
   },
   {
    "duration": 3,
    "start_time": "2024-07-24T05:20:29.242Z"
   },
   {
    "duration": 57,
    "start_time": "2024-07-24T05:20:29.249Z"
   },
   {
    "duration": 5,
    "start_time": "2024-07-24T05:20:29.309Z"
   },
   {
    "duration": 4,
    "start_time": "2024-07-24T05:20:29.316Z"
   },
   {
    "duration": 4,
    "start_time": "2024-07-24T05:20:29.323Z"
   },
   {
    "duration": 3,
    "start_time": "2024-07-24T05:20:29.331Z"
   },
   {
    "duration": 35,
    "start_time": "2024-07-24T05:20:41.249Z"
   },
   {
    "duration": 35,
    "start_time": "2024-07-24T05:20:44.133Z"
   },
   {
    "duration": 306,
    "start_time": "2024-07-24T05:21:30.987Z"
   },
   {
    "duration": 24,
    "start_time": "2024-07-24T05:21:41.001Z"
   },
   {
    "duration": 1183,
    "start_time": "2024-07-24T05:21:43.444Z"
   },
   {
    "duration": 333,
    "start_time": "2024-07-24T05:21:44.780Z"
   },
   {
    "duration": 1180,
    "start_time": "2024-07-24T05:23:36.380Z"
   },
   {
    "duration": 335,
    "start_time": "2024-07-24T05:23:37.566Z"
   },
   {
    "duration": 23,
    "start_time": "2024-07-24T05:23:37.904Z"
   },
   {
    "duration": 18,
    "start_time": "2024-07-24T05:23:37.931Z"
   },
   {
    "duration": 17,
    "start_time": "2024-07-24T05:23:37.954Z"
   },
   {
    "duration": 17,
    "start_time": "2024-07-24T05:23:38.006Z"
   },
   {
    "duration": 24,
    "start_time": "2024-07-24T05:23:38.025Z"
   },
   {
    "duration": 6,
    "start_time": "2024-07-24T05:23:38.052Z"
   },
   {
    "duration": 70,
    "start_time": "2024-07-24T05:23:38.062Z"
   },
   {
    "duration": 17,
    "start_time": "2024-07-24T05:23:38.135Z"
   },
   {
    "duration": 65,
    "start_time": "2024-07-24T05:23:38.155Z"
   },
   {
    "duration": 21,
    "start_time": "2024-07-24T05:23:38.223Z"
   },
   {
    "duration": 15,
    "start_time": "2024-07-24T05:23:38.247Z"
   },
   {
    "duration": 61,
    "start_time": "2024-07-24T05:23:38.268Z"
   },
   {
    "duration": 24,
    "start_time": "2024-07-24T05:23:38.333Z"
   },
   {
    "duration": 54,
    "start_time": "2024-07-24T05:23:38.360Z"
   },
   {
    "duration": 37,
    "start_time": "2024-07-24T05:23:38.418Z"
   },
   {
    "duration": 13,
    "start_time": "2024-07-24T05:23:38.458Z"
   },
   {
    "duration": 69,
    "start_time": "2024-07-24T05:23:38.474Z"
   },
   {
    "duration": 27,
    "start_time": "2024-07-24T05:23:38.546Z"
   },
   {
    "duration": 63,
    "start_time": "2024-07-24T05:23:38.576Z"
   },
   {
    "duration": 35,
    "start_time": "2024-07-24T05:23:38.642Z"
   },
   {
    "duration": 1152,
    "start_time": "2024-07-24T05:24:14.245Z"
   },
   {
    "duration": 336,
    "start_time": "2024-07-24T05:24:15.402Z"
   },
   {
    "duration": 16,
    "start_time": "2024-07-24T05:24:15.741Z"
   },
   {
    "duration": 17,
    "start_time": "2024-07-24T05:24:15.760Z"
   },
   {
    "duration": 16,
    "start_time": "2024-07-24T05:24:15.807Z"
   },
   {
    "duration": 14,
    "start_time": "2024-07-24T05:24:15.827Z"
   },
   {
    "duration": 21,
    "start_time": "2024-07-24T05:24:15.844Z"
   },
   {
    "duration": 43,
    "start_time": "2024-07-24T05:24:15.868Z"
   },
   {
    "duration": 26,
    "start_time": "2024-07-24T05:24:15.913Z"
   },
   {
    "duration": 18,
    "start_time": "2024-07-24T05:24:15.942Z"
   },
   {
    "duration": 63,
    "start_time": "2024-07-24T05:24:15.963Z"
   },
   {
    "duration": 19,
    "start_time": "2024-07-24T05:24:16.029Z"
   },
   {
    "duration": 16,
    "start_time": "2024-07-24T05:24:16.051Z"
   },
   {
    "duration": 30,
    "start_time": "2024-07-24T05:24:16.105Z"
   },
   {
    "duration": 22,
    "start_time": "2024-07-24T05:24:16.138Z"
   },
   {
    "duration": 45,
    "start_time": "2024-07-24T05:24:16.163Z"
   },
   {
    "duration": 40,
    "start_time": "2024-07-24T05:24:16.213Z"
   },
   {
    "duration": 13,
    "start_time": "2024-07-24T05:24:16.256Z"
   },
   {
    "duration": 71,
    "start_time": "2024-07-24T05:24:16.272Z"
   },
   {
    "duration": 30,
    "start_time": "2024-07-24T05:24:16.346Z"
   },
   {
    "duration": 59,
    "start_time": "2024-07-24T05:24:16.379Z"
   },
   {
    "duration": 35,
    "start_time": "2024-07-24T05:24:16.440Z"
   },
   {
    "duration": 309,
    "start_time": "2024-07-24T05:24:25.871Z"
   },
   {
    "duration": 4795,
    "start_time": "2024-07-24T14:24:29.290Z"
   },
   {
    "duration": 359,
    "start_time": "2024-07-24T14:24:34.090Z"
   },
   {
    "duration": 19,
    "start_time": "2024-07-24T14:24:34.452Z"
   },
   {
    "duration": 16,
    "start_time": "2024-07-24T14:24:34.475Z"
   },
   {
    "duration": 17,
    "start_time": "2024-07-24T14:24:34.496Z"
   },
   {
    "duration": 15,
    "start_time": "2024-07-24T14:24:34.515Z"
   },
   {
    "duration": 21,
    "start_time": "2024-07-24T14:24:34.568Z"
   },
   {
    "duration": 7,
    "start_time": "2024-07-24T14:24:34.592Z"
   },
   {
    "duration": 25,
    "start_time": "2024-07-24T14:24:34.602Z"
   },
   {
    "duration": 52,
    "start_time": "2024-07-24T14:24:34.630Z"
   },
   {
    "duration": 29,
    "start_time": "2024-07-24T14:24:34.685Z"
   },
   {
    "duration": 19,
    "start_time": "2024-07-24T14:24:34.717Z"
   },
   {
    "duration": 15,
    "start_time": "2024-07-24T14:24:34.770Z"
   },
   {
    "duration": 29,
    "start_time": "2024-07-24T14:24:34.792Z"
   },
   {
    "duration": 55,
    "start_time": "2024-07-24T14:24:34.824Z"
   },
   {
    "duration": 18,
    "start_time": "2024-07-24T14:24:34.884Z"
   },
   {
    "duration": 65,
    "start_time": "2024-07-24T14:24:34.905Z"
   },
   {
    "duration": 13,
    "start_time": "2024-07-24T14:24:34.973Z"
   },
   {
    "duration": 53,
    "start_time": "2024-07-24T14:24:34.990Z"
   },
   {
    "duration": 30,
    "start_time": "2024-07-24T14:24:35.069Z"
   },
   {
    "duration": 35,
    "start_time": "2024-07-24T14:24:35.101Z"
   },
   {
    "duration": 58,
    "start_time": "2024-07-24T14:24:35.139Z"
   },
   {
    "duration": 310,
    "start_time": "2024-07-24T14:26:36.527Z"
   },
   {
    "duration": 1124,
    "start_time": "2024-07-24T14:26:42.813Z"
   },
   {
    "duration": 340,
    "start_time": "2024-07-24T14:26:43.942Z"
   },
   {
    "duration": 17,
    "start_time": "2024-07-24T14:26:44.285Z"
   },
   {
    "duration": 16,
    "start_time": "2024-07-24T14:26:44.307Z"
   },
   {
    "duration": 45,
    "start_time": "2024-07-24T14:26:44.327Z"
   },
   {
    "duration": 15,
    "start_time": "2024-07-24T14:26:44.375Z"
   },
   {
    "duration": 21,
    "start_time": "2024-07-24T14:26:44.394Z"
   },
   {
    "duration": 7,
    "start_time": "2024-07-24T14:26:44.417Z"
   },
   {
    "duration": 25,
    "start_time": "2024-07-24T14:26:44.468Z"
   },
   {
    "duration": 16,
    "start_time": "2024-07-24T14:26:44.500Z"
   },
   {
    "duration": 58,
    "start_time": "2024-07-24T14:26:44.519Z"
   },
   {
    "duration": 20,
    "start_time": "2024-07-24T14:26:44.579Z"
   },
   {
    "duration": 16,
    "start_time": "2024-07-24T14:26:44.603Z"
   },
   {
    "duration": 66,
    "start_time": "2024-07-24T14:26:44.622Z"
   },
   {
    "duration": 23,
    "start_time": "2024-07-24T14:26:44.691Z"
   },
   {
    "duration": 50,
    "start_time": "2024-07-24T14:26:44.717Z"
   },
   {
    "duration": 38,
    "start_time": "2024-07-24T14:26:44.770Z"
   },
   {
    "duration": 13,
    "start_time": "2024-07-24T14:26:44.810Z"
   },
   {
    "duration": 69,
    "start_time": "2024-07-24T14:26:44.826Z"
   },
   {
    "duration": 29,
    "start_time": "2024-07-24T14:26:44.898Z"
   },
   {
    "duration": 64,
    "start_time": "2024-07-24T14:26:44.930Z"
   },
   {
    "duration": 42,
    "start_time": "2024-07-24T14:26:44.997Z"
   },
   {
    "duration": 1168,
    "start_time": "2024-07-24T14:32:22.199Z"
   },
   {
    "duration": 334,
    "start_time": "2024-07-24T14:32:23.372Z"
   },
   {
    "duration": 16,
    "start_time": "2024-07-24T14:32:23.709Z"
   },
   {
    "duration": 15,
    "start_time": "2024-07-24T14:32:23.729Z"
   },
   {
    "duration": 27,
    "start_time": "2024-07-24T14:32:23.747Z"
   },
   {
    "duration": 14,
    "start_time": "2024-07-24T14:32:23.777Z"
   },
   {
    "duration": 21,
    "start_time": "2024-07-24T14:32:23.794Z"
   },
   {
    "duration": 51,
    "start_time": "2024-07-24T14:32:23.818Z"
   },
   {
    "duration": 35,
    "start_time": "2024-07-24T14:32:23.872Z"
   },
   {
    "duration": 18,
    "start_time": "2024-07-24T14:32:23.967Z"
   },
   {
    "duration": 30,
    "start_time": "2024-07-24T14:32:23.988Z"
   },
   {
    "duration": 55,
    "start_time": "2024-07-24T14:32:24.021Z"
   },
   {
    "duration": 16,
    "start_time": "2024-07-24T14:32:24.079Z"
   },
   {
    "duration": 29,
    "start_time": "2024-07-24T14:32:24.098Z"
   },
   {
    "duration": 50,
    "start_time": "2024-07-24T14:32:24.130Z"
   },
   {
    "duration": 17,
    "start_time": "2024-07-24T14:32:24.183Z"
   },
   {
    "duration": 68,
    "start_time": "2024-07-24T14:32:24.203Z"
   },
   {
    "duration": 14,
    "start_time": "2024-07-24T14:32:24.274Z"
   },
   {
    "duration": 44,
    "start_time": "2024-07-24T14:32:24.291Z"
   },
   {
    "duration": 56,
    "start_time": "2024-07-24T14:32:24.338Z"
   },
   {
    "duration": 36,
    "start_time": "2024-07-24T14:32:24.397Z"
   },
   {
    "duration": 65,
    "start_time": "2024-07-24T14:32:24.436Z"
   },
   {
    "duration": 315,
    "start_time": "2024-07-24T14:33:15.835Z"
   },
   {
    "duration": 1190,
    "start_time": "2024-07-24T14:33:24.832Z"
   },
   {
    "duration": 340,
    "start_time": "2024-07-24T14:33:26.027Z"
   },
   {
    "duration": 17,
    "start_time": "2024-07-24T14:33:26.370Z"
   },
   {
    "duration": 15,
    "start_time": "2024-07-24T14:33:26.391Z"
   },
   {
    "duration": 16,
    "start_time": "2024-07-24T14:33:26.409Z"
   },
   {
    "duration": 51,
    "start_time": "2024-07-24T14:33:26.428Z"
   },
   {
    "duration": 21,
    "start_time": "2024-07-24T14:33:26.482Z"
   },
   {
    "duration": 7,
    "start_time": "2024-07-24T14:33:26.506Z"
   },
   {
    "duration": 66,
    "start_time": "2024-07-24T14:33:26.516Z"
   },
   {
    "duration": 17,
    "start_time": "2024-07-24T14:33:26.589Z"
   },
   {
    "duration": 29,
    "start_time": "2024-07-24T14:33:26.609Z"
   },
   {
    "duration": 20,
    "start_time": "2024-07-24T14:33:26.670Z"
   },
   {
    "duration": 15,
    "start_time": "2024-07-24T14:33:26.693Z"
   },
   {
    "duration": 62,
    "start_time": "2024-07-24T14:33:26.711Z"
   },
   {
    "duration": 23,
    "start_time": "2024-07-24T14:33:26.777Z"
   },
   {
    "duration": 17,
    "start_time": "2024-07-24T14:33:26.803Z"
   },
   {
    "duration": 74,
    "start_time": "2024-07-24T14:33:26.823Z"
   },
   {
    "duration": 14,
    "start_time": "2024-07-24T14:33:26.900Z"
   },
   {
    "duration": 67,
    "start_time": "2024-07-24T14:33:26.916Z"
   },
   {
    "duration": 27,
    "start_time": "2024-07-24T14:33:26.986Z"
   },
   {
    "duration": 61,
    "start_time": "2024-07-24T14:33:27.016Z"
   },
   {
    "duration": 34,
    "start_time": "2024-07-24T14:33:27.081Z"
   },
   {
    "duration": 330,
    "start_time": "2024-07-24T14:33:47.715Z"
   },
   {
    "duration": 1190,
    "start_time": "2024-07-24T14:34:14.166Z"
   },
   {
    "duration": 354,
    "start_time": "2024-07-24T14:34:15.361Z"
   },
   {
    "duration": 16,
    "start_time": "2024-07-24T14:34:15.718Z"
   },
   {
    "duration": 28,
    "start_time": "2024-07-24T14:34:15.739Z"
   },
   {
    "duration": 17,
    "start_time": "2024-07-24T14:34:15.771Z"
   },
   {
    "duration": 16,
    "start_time": "2024-07-24T14:34:15.792Z"
   },
   {
    "duration": 58,
    "start_time": "2024-07-24T14:34:15.811Z"
   },
   {
    "duration": 8,
    "start_time": "2024-07-24T14:34:15.872Z"
   },
   {
    "duration": 27,
    "start_time": "2024-07-24T14:34:15.884Z"
   },
   {
    "duration": 53,
    "start_time": "2024-07-24T14:34:15.917Z"
   },
   {
    "duration": 34,
    "start_time": "2024-07-24T14:34:15.974Z"
   },
   {
    "duration": 20,
    "start_time": "2024-07-24T14:34:16.011Z"
   },
   {
    "duration": 44,
    "start_time": "2024-07-24T14:34:16.034Z"
   },
   {
    "duration": 31,
    "start_time": "2024-07-24T14:34:16.082Z"
   },
   {
    "duration": 53,
    "start_time": "2024-07-24T14:34:16.118Z"
   },
   {
    "duration": 19,
    "start_time": "2024-07-24T14:34:16.174Z"
   },
   {
    "duration": 38,
    "start_time": "2024-07-24T14:34:16.196Z"
   },
   {
    "duration": 13,
    "start_time": "2024-07-24T14:34:16.269Z"
   },
   {
    "duration": 44,
    "start_time": "2024-07-24T14:34:16.286Z"
   },
   {
    "duration": 54,
    "start_time": "2024-07-24T14:34:16.333Z"
   },
   {
    "duration": 37,
    "start_time": "2024-07-24T14:34:16.389Z"
   },
   {
    "duration": 66,
    "start_time": "2024-07-24T14:34:16.429Z"
   },
   {
    "duration": 1213,
    "start_time": "2024-07-24T14:34:36.106Z"
   },
   {
    "duration": 347,
    "start_time": "2024-07-24T14:34:37.323Z"
   },
   {
    "duration": 17,
    "start_time": "2024-07-24T14:34:37.673Z"
   },
   {
    "duration": 18,
    "start_time": "2024-07-24T14:34:37.693Z"
   },
   {
    "duration": 16,
    "start_time": "2024-07-24T14:34:37.716Z"
   },
   {
    "duration": 16,
    "start_time": "2024-07-24T14:34:37.767Z"
   },
   {
    "duration": 23,
    "start_time": "2024-07-24T14:34:37.787Z"
   },
   {
    "duration": 18,
    "start_time": "2024-07-24T14:34:37.813Z"
   },
   {
    "duration": 56,
    "start_time": "2024-07-24T14:34:37.835Z"
   },
   {
    "duration": 18,
    "start_time": "2024-07-24T14:34:37.894Z"
   },
   {
    "duration": 71,
    "start_time": "2024-07-24T14:34:37.915Z"
   },
   {
    "duration": 19,
    "start_time": "2024-07-24T14:34:37.991Z"
   },
   {
    "duration": 15,
    "start_time": "2024-07-24T14:34:38.013Z"
   },
   {
    "duration": 66,
    "start_time": "2024-07-24T14:34:38.035Z"
   },
   {
    "duration": 23,
    "start_time": "2024-07-24T14:34:38.103Z"
   },
   {
    "duration": 60,
    "start_time": "2024-07-24T14:34:38.129Z"
   },
   {
    "duration": 40,
    "start_time": "2024-07-24T14:34:38.191Z"
   },
   {
    "duration": 12,
    "start_time": "2024-07-24T14:34:38.234Z"
   },
   {
    "duration": 59,
    "start_time": "2024-07-24T14:34:38.249Z"
   },
   {
    "duration": 28,
    "start_time": "2024-07-24T14:34:38.311Z"
   },
   {
    "duration": 57,
    "start_time": "2024-07-24T14:34:38.342Z"
   },
   {
    "duration": 35,
    "start_time": "2024-07-24T14:34:38.402Z"
   },
   {
    "duration": 315,
    "start_time": "2024-07-24T14:36:38.431Z"
   },
   {
    "duration": 1236,
    "start_time": "2024-07-24T14:38:30.959Z"
   },
   {
    "duration": 330,
    "start_time": "2024-07-24T14:38:32.199Z"
   },
   {
    "duration": 16,
    "start_time": "2024-07-24T14:38:32.532Z"
   },
   {
    "duration": 25,
    "start_time": "2024-07-24T14:38:32.551Z"
   },
   {
    "duration": 16,
    "start_time": "2024-07-24T14:38:32.579Z"
   },
   {
    "duration": 14,
    "start_time": "2024-07-24T14:38:32.598Z"
   },
   {
    "duration": 62,
    "start_time": "2024-07-24T14:38:32.615Z"
   },
   {
    "duration": 7,
    "start_time": "2024-07-24T14:38:32.681Z"
   },
   {
    "duration": 25,
    "start_time": "2024-07-24T14:38:32.691Z"
   },
   {
    "duration": 57,
    "start_time": "2024-07-24T14:38:32.721Z"
   },
   {
    "duration": 30,
    "start_time": "2024-07-24T14:38:32.781Z"
   },
   {
    "duration": 19,
    "start_time": "2024-07-24T14:38:32.813Z"
   },
   {
    "duration": 42,
    "start_time": "2024-07-24T14:38:32.836Z"
   },
   {
    "duration": 29,
    "start_time": "2024-07-24T14:38:32.883Z"
   },
   {
    "duration": 54,
    "start_time": "2024-07-24T14:38:32.915Z"
   },
   {
    "duration": 19,
    "start_time": "2024-07-24T14:38:32.972Z"
   },
   {
    "duration": 36,
    "start_time": "2024-07-24T14:38:32.994Z"
   },
   {
    "duration": 41,
    "start_time": "2024-07-24T14:38:33.033Z"
   },
   {
    "duration": 43,
    "start_time": "2024-07-24T14:38:33.078Z"
   },
   {
    "duration": 56,
    "start_time": "2024-07-24T14:38:33.124Z"
   },
   {
    "duration": 37,
    "start_time": "2024-07-24T14:38:33.182Z"
   },
   {
    "duration": 60,
    "start_time": "2024-07-24T14:38:33.221Z"
   },
   {
    "duration": 109,
    "start_time": "2024-07-24T14:38:33.284Z"
   },
   {
    "duration": 4,
    "start_time": "2024-07-24T14:38:33.396Z"
   },
   {
    "duration": 4,
    "start_time": "2024-07-24T14:38:33.403Z"
   },
   {
    "duration": 4,
    "start_time": "2024-07-24T14:38:33.411Z"
   },
   {
    "duration": 4,
    "start_time": "2024-07-24T14:38:33.418Z"
   },
   {
    "duration": 4,
    "start_time": "2024-07-24T14:38:33.467Z"
   },
   {
    "duration": 4,
    "start_time": "2024-07-24T14:38:33.474Z"
   },
   {
    "duration": 4,
    "start_time": "2024-07-24T14:38:33.481Z"
   },
   {
    "duration": 4,
    "start_time": "2024-07-24T14:38:33.488Z"
   },
   {
    "duration": 4,
    "start_time": "2024-07-24T14:38:33.495Z"
   },
   {
    "duration": 4,
    "start_time": "2024-07-24T14:38:33.502Z"
   },
   {
    "duration": 328,
    "start_time": "2024-07-24T14:42:17.587Z"
   },
   {
    "duration": 1240,
    "start_time": "2024-07-24T14:42:27.591Z"
   },
   {
    "duration": 352,
    "start_time": "2024-07-24T14:42:28.836Z"
   },
   {
    "duration": 18,
    "start_time": "2024-07-24T14:42:29.191Z"
   },
   {
    "duration": 17,
    "start_time": "2024-07-24T14:42:29.212Z"
   },
   {
    "duration": 37,
    "start_time": "2024-07-24T14:42:29.233Z"
   },
   {
    "duration": 17,
    "start_time": "2024-07-24T14:42:29.273Z"
   },
   {
    "duration": 22,
    "start_time": "2024-07-24T14:42:29.293Z"
   },
   {
    "duration": 6,
    "start_time": "2024-07-24T14:42:29.319Z"
   },
   {
    "duration": 65,
    "start_time": "2024-07-24T14:42:29.328Z"
   },
   {
    "duration": 17,
    "start_time": "2024-07-24T14:42:29.397Z"
   },
   {
    "duration": 68,
    "start_time": "2024-07-24T14:42:29.417Z"
   },
   {
    "duration": 20,
    "start_time": "2024-07-24T14:42:29.488Z"
   },
   {
    "duration": 16,
    "start_time": "2024-07-24T14:42:29.511Z"
   },
   {
    "duration": 58,
    "start_time": "2024-07-24T14:42:29.534Z"
   },
   {
    "duration": 22,
    "start_time": "2024-07-24T14:42:29.595Z"
   },
   {
    "duration": 47,
    "start_time": "2024-07-24T14:42:29.620Z"
   },
   {
    "duration": 37,
    "start_time": "2024-07-24T14:42:29.670Z"
   },
   {
    "duration": 12,
    "start_time": "2024-07-24T14:42:29.710Z"
   },
   {
    "duration": 70,
    "start_time": "2024-07-24T14:42:29.726Z"
   },
   {
    "duration": 29,
    "start_time": "2024-07-24T14:42:29.799Z"
   },
   {
    "duration": 61,
    "start_time": "2024-07-24T14:42:29.831Z"
   },
   {
    "duration": 35,
    "start_time": "2024-07-24T14:42:29.895Z"
   },
   {
    "duration": 308,
    "start_time": "2024-07-24T14:46:04.494Z"
   },
   {
    "duration": 1172,
    "start_time": "2024-07-24T14:46:13.562Z"
   },
   {
    "duration": 367,
    "start_time": "2024-07-24T14:46:14.739Z"
   },
   {
    "duration": 15,
    "start_time": "2024-07-24T14:46:15.109Z"
   },
   {
    "duration": 17,
    "start_time": "2024-07-24T14:46:15.128Z"
   },
   {
    "duration": 18,
    "start_time": "2024-07-24T14:46:15.169Z"
   },
   {
    "duration": 15,
    "start_time": "2024-07-24T14:46:15.190Z"
   },
   {
    "duration": 21,
    "start_time": "2024-07-24T14:46:15.207Z"
   },
   {
    "duration": 7,
    "start_time": "2024-07-24T14:46:15.267Z"
   },
   {
    "duration": 25,
    "start_time": "2024-07-24T14:46:15.278Z"
   },
   {
    "duration": 16,
    "start_time": "2024-07-24T14:46:15.309Z"
   },
   {
    "duration": 68,
    "start_time": "2024-07-24T14:46:15.328Z"
   },
   {
    "duration": 20,
    "start_time": "2024-07-24T14:46:15.399Z"
   },
   {
    "duration": 49,
    "start_time": "2024-07-24T14:46:15.422Z"
   },
   {
    "duration": 31,
    "start_time": "2024-07-24T14:46:15.474Z"
   },
   {
    "duration": 22,
    "start_time": "2024-07-24T14:46:15.508Z"
   },
   {
    "duration": 49,
    "start_time": "2024-07-24T14:46:15.534Z"
   },
   {
    "duration": 37,
    "start_time": "2024-07-24T14:46:15.586Z"
   },
   {
    "duration": 12,
    "start_time": "2024-07-24T14:46:15.626Z"
   },
   {
    "duration": 44,
    "start_time": "2024-07-24T14:46:15.669Z"
   },
   {
    "duration": 57,
    "start_time": "2024-07-24T14:46:15.715Z"
   },
   {
    "duration": 36,
    "start_time": "2024-07-24T14:46:15.775Z"
   },
   {
    "duration": 60,
    "start_time": "2024-07-24T14:46:15.814Z"
   },
   {
    "duration": 577,
    "start_time": "2024-07-24T14:46:15.878Z"
   },
   {
    "duration": 9,
    "start_time": "2024-07-24T14:46:16.459Z"
   },
   {
    "duration": 3,
    "start_time": "2024-07-24T14:46:16.472Z"
   },
   {
    "duration": 3,
    "start_time": "2024-07-24T14:46:16.480Z"
   },
   {
    "duration": 4,
    "start_time": "2024-07-24T14:46:16.486Z"
   },
   {
    "duration": 3,
    "start_time": "2024-07-24T14:46:16.500Z"
   },
   {
    "duration": 3,
    "start_time": "2024-07-24T14:46:16.507Z"
   },
   {
    "duration": 3,
    "start_time": "2024-07-24T14:46:16.569Z"
   },
   {
    "duration": 4,
    "start_time": "2024-07-24T14:46:16.575Z"
   },
   {
    "duration": 5,
    "start_time": "2024-07-24T14:46:16.582Z"
   },
   {
    "duration": 4,
    "start_time": "2024-07-24T14:46:16.589Z"
   },
   {
    "duration": 328,
    "start_time": "2024-07-24T15:47:44.595Z"
   },
   {
    "duration": 4651,
    "start_time": "2024-07-24T15:47:56.286Z"
   },
   {
    "duration": 336,
    "start_time": "2024-07-24T15:48:00.940Z"
   },
   {
    "duration": 15,
    "start_time": "2024-07-24T15:48:01.279Z"
   },
   {
    "duration": 19,
    "start_time": "2024-07-24T15:48:01.298Z"
   },
   {
    "duration": 26,
    "start_time": "2024-07-24T15:48:01.320Z"
   },
   {
    "duration": 23,
    "start_time": "2024-07-24T15:48:01.349Z"
   },
   {
    "duration": 24,
    "start_time": "2024-07-24T15:48:01.376Z"
   },
   {
    "duration": 10,
    "start_time": "2024-07-24T15:48:01.434Z"
   },
   {
    "duration": 25,
    "start_time": "2024-07-24T15:48:01.448Z"
   },
   {
    "duration": 53,
    "start_time": "2024-07-24T15:48:01.481Z"
   },
   {
    "duration": 30,
    "start_time": "2024-07-24T15:48:01.537Z"
   },
   {
    "duration": 20,
    "start_time": "2024-07-24T15:48:01.570Z"
   },
   {
    "duration": 47,
    "start_time": "2024-07-24T15:48:01.593Z"
   },
   {
    "duration": 31,
    "start_time": "2024-07-24T15:48:01.643Z"
   },
   {
    "duration": 56,
    "start_time": "2024-07-24T15:48:01.677Z"
   },
   {
    "duration": 20,
    "start_time": "2024-07-24T15:48:01.736Z"
   },
   {
    "duration": 38,
    "start_time": "2024-07-24T15:48:01.758Z"
   },
   {
    "duration": 43,
    "start_time": "2024-07-24T15:48:01.799Z"
   },
   {
    "duration": 43,
    "start_time": "2024-07-24T15:48:01.845Z"
   },
   {
    "duration": 54,
    "start_time": "2024-07-24T15:48:01.891Z"
   },
   {
    "duration": 34,
    "start_time": "2024-07-24T15:48:01.948Z"
   },
   {
    "duration": 61,
    "start_time": "2024-07-24T15:48:01.985Z"
   },
   {
    "duration": 12,
    "start_time": "2024-07-24T15:48:02.049Z"
   },
   {
    "duration": 3,
    "start_time": "2024-07-24T15:48:02.064Z"
   },
   {
    "duration": 4,
    "start_time": "2024-07-24T15:48:02.070Z"
   },
   {
    "duration": 4,
    "start_time": "2024-07-24T15:48:02.077Z"
   },
   {
    "duration": 4,
    "start_time": "2024-07-24T15:48:02.084Z"
   },
   {
    "duration": 4,
    "start_time": "2024-07-24T15:48:02.135Z"
   },
   {
    "duration": 4,
    "start_time": "2024-07-24T15:48:02.141Z"
   },
   {
    "duration": 4,
    "start_time": "2024-07-24T15:48:02.149Z"
   },
   {
    "duration": 4,
    "start_time": "2024-07-24T15:48:02.156Z"
   },
   {
    "duration": 4,
    "start_time": "2024-07-24T15:48:02.163Z"
   },
   {
    "duration": 4,
    "start_time": "2024-07-24T15:48:02.169Z"
   },
   {
    "duration": 23,
    "start_time": "2024-07-24T15:48:40.737Z"
   },
   {
    "duration": 385,
    "start_time": "2024-07-24T15:49:28.522Z"
   },
   {
    "duration": 32,
    "start_time": "2024-07-24T15:49:44.969Z"
   },
   {
    "duration": 13,
    "start_time": "2024-07-24T15:49:49.674Z"
   },
   {
    "duration": 27,
    "start_time": "2024-07-24T15:49:55.745Z"
   },
   {
    "duration": 7,
    "start_time": "2024-07-24T15:57:24.926Z"
   },
   {
    "duration": 10,
    "start_time": "2024-07-24T16:01:35.231Z"
   },
   {
    "duration": 34,
    "start_time": "2024-07-24T16:01:42.963Z"
   },
   {
    "duration": 23,
    "start_time": "2024-07-24T16:05:02.459Z"
   },
   {
    "duration": 35,
    "start_time": "2024-07-24T16:05:07.446Z"
   },
   {
    "duration": 34,
    "start_time": "2024-07-24T16:05:14.028Z"
   },
   {
    "duration": 40,
    "start_time": "2024-07-24T16:05:22.997Z"
   },
   {
    "duration": 829,
    "start_time": "2024-07-24T16:08:55.312Z"
   },
   {
    "duration": 5,
    "start_time": "2024-07-24T16:10:49.630Z"
   },
   {
    "duration": 13,
    "start_time": "2024-07-24T16:10:58.558Z"
   },
   {
    "duration": 13,
    "start_time": "2024-07-24T16:12:38.261Z"
   },
   {
    "duration": 38,
    "start_time": "2024-07-24T16:12:42.422Z"
   },
   {
    "duration": 26,
    "start_time": "2024-07-24T16:12:54.464Z"
   },
   {
    "duration": 9,
    "start_time": "2024-07-24T16:49:42.223Z"
   },
   {
    "duration": 37,
    "start_time": "2024-07-24T16:49:47.731Z"
   },
   {
    "duration": 36,
    "start_time": "2024-07-24T16:52:49.952Z"
   },
   {
    "duration": 13,
    "start_time": "2024-07-24T17:14:45.438Z"
   },
   {
    "duration": 42,
    "start_time": "2024-07-24T17:14:52.291Z"
   },
   {
    "duration": 38,
    "start_time": "2024-07-24T17:14:59.456Z"
   },
   {
    "duration": 14,
    "start_time": "2024-07-24T17:15:43.696Z"
   },
   {
    "duration": 37,
    "start_time": "2024-07-24T17:16:01.244Z"
   },
   {
    "duration": 13,
    "start_time": "2024-07-24T17:18:49.854Z"
   },
   {
    "duration": 15,
    "start_time": "2024-07-24T17:19:51.758Z"
   },
   {
    "duration": 44,
    "start_time": "2024-07-24T17:20:00.112Z"
   },
   {
    "duration": 41,
    "start_time": "2024-07-24T17:49:46.999Z"
   },
   {
    "duration": 31,
    "start_time": "2024-07-24T17:50:07.954Z"
   },
   {
    "duration": 30,
    "start_time": "2024-07-24T17:50:37.834Z"
   },
   {
    "duration": 16,
    "start_time": "2024-07-24T17:54:15.989Z"
   },
   {
    "duration": 19,
    "start_time": "2024-07-24T17:54:24.929Z"
   },
   {
    "duration": 48,
    "start_time": "2024-07-24T17:54:31.005Z"
   },
   {
    "duration": 54,
    "start_time": "2024-07-24T17:54:52.090Z"
   },
   {
    "duration": 41,
    "start_time": "2024-07-24T17:54:59.519Z"
   },
   {
    "duration": 46,
    "start_time": "2024-07-24T17:55:06.129Z"
   },
   {
    "duration": 43,
    "start_time": "2024-07-24T17:55:50.398Z"
   },
   {
    "duration": 46,
    "start_time": "2024-07-24T17:56:26.867Z"
   },
   {
    "duration": 17,
    "start_time": "2024-07-24T17:58:25.433Z"
   },
   {
    "duration": 17,
    "start_time": "2024-07-24T17:59:13.644Z"
   },
   {
    "duration": 8,
    "start_time": "2024-07-24T18:00:33.876Z"
   },
   {
    "duration": 18,
    "start_time": "2024-07-24T18:00:42.084Z"
   },
   {
    "duration": 11,
    "start_time": "2024-07-24T18:04:21.194Z"
   },
   {
    "duration": 20,
    "start_time": "2024-07-24T18:04:24.816Z"
   },
   {
    "duration": 54,
    "start_time": "2024-07-24T18:04:29.770Z"
   },
   {
    "duration": 56,
    "start_time": "2024-07-24T18:24:31.992Z"
   },
   {
    "duration": 56,
    "start_time": "2024-07-24T18:25:03.129Z"
   },
   {
    "duration": 23,
    "start_time": "2024-07-24T18:34:25.174Z"
   },
   {
    "duration": 64,
    "start_time": "2024-07-24T18:34:41.431Z"
   },
   {
    "duration": 38,
    "start_time": "2024-07-24T18:35:02.869Z"
   },
   {
    "duration": 67,
    "start_time": "2024-07-24T18:35:07.337Z"
   },
   {
    "duration": 10,
    "start_time": "2024-07-24T18:36:15.768Z"
   },
   {
    "duration": 35,
    "start_time": "2024-07-24T18:36:18.938Z"
   },
   {
    "duration": 320,
    "start_time": "2024-07-24T19:43:58.700Z"
   },
   {
    "duration": 1143,
    "start_time": "2024-07-24T19:44:08.236Z"
   },
   {
    "duration": 292,
    "start_time": "2024-07-24T19:44:09.383Z"
   },
   {
    "duration": 17,
    "start_time": "2024-07-24T19:44:09.678Z"
   },
   {
    "duration": 33,
    "start_time": "2024-07-24T19:44:09.700Z"
   },
   {
    "duration": 16,
    "start_time": "2024-07-24T19:44:09.736Z"
   },
   {
    "duration": 14,
    "start_time": "2024-07-24T19:44:09.756Z"
   },
   {
    "duration": 59,
    "start_time": "2024-07-24T19:44:09.773Z"
   },
   {
    "duration": 7,
    "start_time": "2024-07-24T19:44:09.835Z"
   },
   {
    "duration": 24,
    "start_time": "2024-07-24T19:44:09.846Z"
   },
   {
    "duration": 17,
    "start_time": "2024-07-24T19:44:09.877Z"
   },
   {
    "duration": 29,
    "start_time": "2024-07-24T19:44:09.934Z"
   },
   {
    "duration": 29,
    "start_time": "2024-07-24T19:44:09.966Z"
   },
   {
    "duration": 31,
    "start_time": "2024-07-24T19:44:10.004Z"
   },
   {
    "duration": 30,
    "start_time": "2024-07-24T19:44:10.037Z"
   },
   {
    "duration": 22,
    "start_time": "2024-07-24T19:44:10.070Z"
   },
   {
    "duration": 50,
    "start_time": "2024-07-24T19:44:10.095Z"
   },
   {
    "duration": 38,
    "start_time": "2024-07-24T19:44:10.148Z"
   },
   {
    "duration": 15,
    "start_time": "2024-07-24T19:44:10.190Z"
   },
   {
    "duration": 67,
    "start_time": "2024-07-24T19:44:10.207Z"
   },
   {
    "duration": 30,
    "start_time": "2024-07-24T19:44:10.277Z"
   },
   {
    "duration": 35,
    "start_time": "2024-07-24T19:44:10.334Z"
   },
   {
    "duration": 62,
    "start_time": "2024-07-24T19:44:10.372Z"
   },
   {
    "duration": 29,
    "start_time": "2024-07-24T19:44:10.436Z"
   },
   {
    "duration": 28,
    "start_time": "2024-07-24T19:44:10.468Z"
   },
   {
    "duration": 62,
    "start_time": "2024-07-24T19:44:10.499Z"
   },
   {
    "duration": 41,
    "start_time": "2024-07-24T19:44:10.563Z"
   },
   {
    "duration": 8,
    "start_time": "2024-07-24T19:44:10.633Z"
   },
   {
    "duration": 4,
    "start_time": "2024-07-24T19:44:10.650Z"
   },
   {
    "duration": 5,
    "start_time": "2024-07-24T19:44:10.657Z"
   },
   {
    "duration": 3,
    "start_time": "2024-07-24T19:44:10.665Z"
   },
   {
    "duration": 3,
    "start_time": "2024-07-24T19:44:10.672Z"
   },
   {
    "duration": 4,
    "start_time": "2024-07-24T19:44:10.679Z"
   },
   {
    "duration": 7,
    "start_time": "2024-07-24T19:44:10.734Z"
   },
   {
    "duration": 21,
    "start_time": "2024-07-24T19:44:25.618Z"
   },
   {
    "duration": 19,
    "start_time": "2024-07-24T19:46:27.150Z"
   },
   {
    "duration": 204,
    "start_time": "2024-07-24T19:46:51.400Z"
   },
   {
    "duration": 16,
    "start_time": "2024-07-24T19:47:02.501Z"
   },
   {
    "duration": 356,
    "start_time": "2024-07-24T19:47:25.711Z"
   },
   {
    "duration": 370,
    "start_time": "2024-07-24T19:54:47.349Z"
   },
   {
    "duration": 377,
    "start_time": "2024-07-24T19:54:55.597Z"
   },
   {
    "duration": 460,
    "start_time": "2024-07-24T19:55:27.415Z"
   },
   {
    "duration": 358,
    "start_time": "2024-07-24T19:55:33.415Z"
   },
   {
    "duration": 365,
    "start_time": "2024-07-24T19:55:42.673Z"
   },
   {
    "duration": 358,
    "start_time": "2024-07-24T20:02:03.266Z"
   },
   {
    "duration": 361,
    "start_time": "2024-07-24T20:03:08.872Z"
   },
   {
    "duration": 397,
    "start_time": "2024-07-24T20:03:45.538Z"
   },
   {
    "duration": 379,
    "start_time": "2024-07-24T20:05:46.448Z"
   },
   {
    "duration": 525,
    "start_time": "2024-07-24T20:06:06.728Z"
   },
   {
    "duration": 392,
    "start_time": "2024-07-24T20:06:20.241Z"
   },
   {
    "duration": 418,
    "start_time": "2024-07-24T20:07:37.117Z"
   },
   {
    "duration": 410,
    "start_time": "2024-07-24T20:07:49.600Z"
   },
   {
    "duration": 407,
    "start_time": "2024-07-24T20:08:07.808Z"
   },
   {
    "duration": 419,
    "start_time": "2024-07-24T20:08:14.089Z"
   },
   {
    "duration": 420,
    "start_time": "2024-07-24T20:08:23.213Z"
   },
   {
    "duration": 396,
    "start_time": "2024-07-24T20:08:33.072Z"
   },
   {
    "duration": 6,
    "start_time": "2024-07-24T20:09:46.746Z"
   },
   {
    "duration": 6,
    "start_time": "2024-07-24T20:09:54.837Z"
   },
   {
    "duration": 405,
    "start_time": "2024-07-24T20:11:13.428Z"
   },
   {
    "duration": 358,
    "start_time": "2024-07-24T20:11:26.578Z"
   },
   {
    "duration": 378,
    "start_time": "2024-07-24T20:11:49.890Z"
   },
   {
    "duration": 492,
    "start_time": "2024-07-24T20:12:02.461Z"
   },
   {
    "duration": 8,
    "start_time": "2024-07-24T20:26:38.086Z"
   },
   {
    "duration": 17,
    "start_time": "2024-07-24T20:26:44.477Z"
   },
   {
    "duration": 204,
    "start_time": "2024-07-24T20:27:40.485Z"
   },
   {
    "duration": 215,
    "start_time": "2024-07-24T20:29:04.277Z"
   },
   {
    "duration": 237,
    "start_time": "2024-07-24T20:29:07.896Z"
   },
   {
    "duration": 270,
    "start_time": "2024-07-24T20:29:10.882Z"
   },
   {
    "duration": 374,
    "start_time": "2024-07-24T20:29:14.101Z"
   },
   {
    "duration": 205,
    "start_time": "2024-07-24T20:29:16.671Z"
   },
   {
    "duration": 204,
    "start_time": "2024-07-24T20:29:19.827Z"
   },
   {
    "duration": 192,
    "start_time": "2024-07-24T20:30:15.286Z"
   },
   {
    "duration": 194,
    "start_time": "2024-07-24T20:30:22.495Z"
   },
   {
    "duration": 202,
    "start_time": "2024-07-24T20:33:46.641Z"
   },
   {
    "duration": 15,
    "start_time": "2024-07-24T20:34:55.746Z"
   },
   {
    "duration": 206,
    "start_time": "2024-07-24T20:39:29.030Z"
   },
   {
    "duration": 230,
    "start_time": "2024-07-24T20:39:47.706Z"
   },
   {
    "duration": 287,
    "start_time": "2024-07-24T20:40:58.546Z"
   },
   {
    "duration": 228,
    "start_time": "2024-07-24T20:41:52.226Z"
   },
   {
    "duration": 354,
    "start_time": "2024-07-24T20:48:57.720Z"
   },
   {
    "duration": 1366,
    "start_time": "2024-07-24T20:49:27.774Z"
   },
   {
    "duration": 327,
    "start_time": "2024-07-24T20:50:07.688Z"
   },
   {
    "duration": 333,
    "start_time": "2024-07-24T20:50:13.674Z"
   },
   {
    "duration": 141,
    "start_time": "2024-07-24T20:50:45.980Z"
   },
   {
    "duration": 137,
    "start_time": "2024-07-24T20:52:17.373Z"
   },
   {
    "duration": 17,
    "start_time": "2024-07-24T20:52:46.029Z"
   },
   {
    "duration": 136,
    "start_time": "2024-07-24T20:53:03.141Z"
   },
   {
    "duration": 16,
    "start_time": "2024-07-24T20:54:29.434Z"
   },
   {
    "duration": 244,
    "start_time": "2024-07-24T20:54:43.652Z"
   },
   {
    "duration": 216,
    "start_time": "2024-07-24T20:54:49.657Z"
   },
   {
    "duration": 273,
    "start_time": "2024-07-24T20:55:03.878Z"
   },
   {
    "duration": 241,
    "start_time": "2024-07-24T20:55:19.056Z"
   },
   {
    "duration": 415,
    "start_time": "2024-07-24T20:55:45.833Z"
   },
   {
    "duration": 239,
    "start_time": "2024-07-24T20:55:48.516Z"
   },
   {
    "duration": 253,
    "start_time": "2024-07-24T20:56:11.957Z"
   },
   {
    "duration": 4756,
    "start_time": "2024-07-25T15:12:27.186Z"
   },
   {
    "duration": 439,
    "start_time": "2024-07-25T15:12:31.946Z"
   },
   {
    "duration": 20,
    "start_time": "2024-07-25T15:12:32.388Z"
   },
   {
    "duration": 21,
    "start_time": "2024-07-25T15:12:32.412Z"
   },
   {
    "duration": 20,
    "start_time": "2024-07-25T15:12:32.439Z"
   },
   {
    "duration": 18,
    "start_time": "2024-07-25T15:12:32.463Z"
   },
   {
    "duration": 71,
    "start_time": "2024-07-25T15:12:32.484Z"
   },
   {
    "duration": 11,
    "start_time": "2024-07-25T15:12:32.559Z"
   },
   {
    "duration": 27,
    "start_time": "2024-07-25T15:12:32.573Z"
   },
   {
    "duration": 20,
    "start_time": "2024-07-25T15:12:32.623Z"
   },
   {
    "duration": 40,
    "start_time": "2024-07-25T15:12:32.646Z"
   },
   {
    "duration": 56,
    "start_time": "2024-07-25T15:12:32.689Z"
   },
   {
    "duration": 32,
    "start_time": "2024-07-25T15:12:32.748Z"
   },
   {
    "duration": 43,
    "start_time": "2024-07-25T15:12:32.790Z"
   },
   {
    "duration": 24,
    "start_time": "2024-07-25T15:12:32.836Z"
   },
   {
    "duration": 20,
    "start_time": "2024-07-25T15:12:32.865Z"
   },
   {
    "duration": 78,
    "start_time": "2024-07-25T15:12:32.888Z"
   },
   {
    "duration": 15,
    "start_time": "2024-07-25T15:12:32.970Z"
   },
   {
    "duration": 69,
    "start_time": "2024-07-25T15:12:32.989Z"
   },
   {
    "duration": 98,
    "start_time": "2024-07-25T15:12:33.062Z"
   },
   {
    "duration": 60,
    "start_time": "2024-07-25T15:12:33.164Z"
   },
   {
    "duration": 41,
    "start_time": "2024-07-25T15:12:33.228Z"
   },
   {
    "duration": 75,
    "start_time": "2024-07-25T15:12:33.272Z"
   },
   {
    "duration": 31,
    "start_time": "2024-07-25T15:12:33.351Z"
   },
   {
    "duration": 85,
    "start_time": "2024-07-25T15:12:33.385Z"
   },
   {
    "duration": 525,
    "start_time": "2024-07-25T15:12:33.473Z"
   },
   {
    "duration": 260,
    "start_time": "2024-07-25T15:12:34.002Z"
   },
   {
    "duration": 4,
    "start_time": "2024-07-25T15:12:34.265Z"
   },
   {
    "duration": 5,
    "start_time": "2024-07-25T15:12:34.273Z"
   },
   {
    "duration": 5,
    "start_time": "2024-07-25T15:12:34.281Z"
   },
   {
    "duration": 36,
    "start_time": "2024-07-25T15:12:34.289Z"
   },
   {
    "duration": 3,
    "start_time": "2024-07-25T15:12:34.329Z"
   },
   {
    "duration": 3,
    "start_time": "2024-07-25T15:12:34.336Z"
   },
   {
    "duration": 20,
    "start_time": "2024-07-25T15:15:00.066Z"
   },
   {
    "duration": 7,
    "start_time": "2024-07-25T15:17:21.139Z"
   },
   {
    "duration": 6,
    "start_time": "2024-07-25T15:17:48.560Z"
   },
   {
    "duration": 5,
    "start_time": "2024-07-25T15:18:03.004Z"
   },
   {
    "duration": 5,
    "start_time": "2024-07-25T15:18:07.636Z"
   },
   {
    "duration": 116,
    "start_time": "2024-07-25T15:21:59.045Z"
   },
   {
    "duration": 493,
    "start_time": "2024-07-25T15:22:29.631Z"
   },
   {
    "duration": 714,
    "start_time": "2024-07-25T15:22:36.075Z"
   },
   {
    "duration": 136,
    "start_time": "2024-07-25T15:23:13.056Z"
   },
   {
    "duration": 149,
    "start_time": "2024-07-25T15:24:10.302Z"
   },
   {
    "duration": 259,
    "start_time": "2024-07-25T15:26:07.517Z"
   },
   {
    "duration": 10,
    "start_time": "2024-07-25T15:27:41.716Z"
   },
   {
    "duration": 277,
    "start_time": "2024-07-25T15:27:52.575Z"
   },
   {
    "duration": 8,
    "start_time": "2024-07-25T15:35:05.972Z"
   },
   {
    "duration": 6,
    "start_time": "2024-07-25T15:35:23.815Z"
   },
   {
    "duration": 6,
    "start_time": "2024-07-25T15:35:35.879Z"
   },
   {
    "duration": 7,
    "start_time": "2024-07-25T15:35:38.197Z"
   },
   {
    "duration": 5,
    "start_time": "2024-07-25T15:35:52.112Z"
   },
   {
    "duration": 27,
    "start_time": "2024-07-25T15:36:15.786Z"
   },
   {
    "duration": 26,
    "start_time": "2024-07-25T15:36:19.115Z"
   },
   {
    "duration": 6,
    "start_time": "2024-07-25T15:36:23.194Z"
   },
   {
    "duration": 285,
    "start_time": "2024-07-25T15:38:53.401Z"
   },
   {
    "duration": 8,
    "start_time": "2024-07-25T15:39:29.050Z"
   },
   {
    "duration": 7,
    "start_time": "2024-07-25T15:40:48.370Z"
   },
   {
    "duration": 163,
    "start_time": "2024-07-25T15:40:49.846Z"
   },
   {
    "duration": 168,
    "start_time": "2024-07-25T15:41:51.745Z"
   },
   {
    "duration": 177,
    "start_time": "2024-07-25T15:42:05.602Z"
   },
   {
    "duration": 279,
    "start_time": "2024-07-25T15:43:29.126Z"
   },
   {
    "duration": 271,
    "start_time": "2024-07-25T15:43:48.411Z"
   },
   {
    "duration": 10,
    "start_time": "2024-07-25T15:43:53.743Z"
   },
   {
    "duration": 6,
    "start_time": "2024-07-25T15:43:57.784Z"
   },
   {
    "duration": 267,
    "start_time": "2024-07-25T15:44:28.984Z"
   },
   {
    "duration": 447,
    "start_time": "2024-07-25T15:47:02.037Z"
   },
   {
    "duration": 487,
    "start_time": "2024-07-25T15:48:23.125Z"
   },
   {
    "duration": 388,
    "start_time": "2024-07-25T15:48:53.309Z"
   },
   {
    "duration": 282,
    "start_time": "2024-07-25T15:49:25.393Z"
   },
   {
    "duration": 234,
    "start_time": "2024-07-25T15:50:21.148Z"
   },
   {
    "duration": 268,
    "start_time": "2024-07-25T15:50:58.431Z"
   },
   {
    "duration": 96,
    "start_time": "2024-07-25T15:51:01.076Z"
   },
   {
    "duration": 232,
    "start_time": "2024-07-25T15:54:55.824Z"
   },
   {
    "duration": 56,
    "start_time": "2024-07-25T15:58:01.690Z"
   },
   {
    "duration": 221,
    "start_time": "2024-07-25T15:58:15.335Z"
   },
   {
    "duration": 232,
    "start_time": "2024-07-25T16:03:57.742Z"
   },
   {
    "duration": 228,
    "start_time": "2024-07-25T16:04:14.991Z"
   },
   {
    "duration": 313,
    "start_time": "2024-07-25T17:24:29.943Z"
   },
   {
    "duration": 20,
    "start_time": "2024-07-25T17:24:33.504Z"
   },
   {
    "duration": 5037,
    "start_time": "2024-07-25T17:24:39.579Z"
   },
   {
    "duration": 385,
    "start_time": "2024-07-25T17:24:44.620Z"
   },
   {
    "duration": 18,
    "start_time": "2024-07-25T17:24:45.008Z"
   },
   {
    "duration": 19,
    "start_time": "2024-07-25T17:24:45.029Z"
   },
   {
    "duration": 42,
    "start_time": "2024-07-25T17:24:45.052Z"
   },
   {
    "duration": 17,
    "start_time": "2024-07-25T17:24:45.097Z"
   },
   {
    "duration": 22,
    "start_time": "2024-07-25T17:24:45.117Z"
   },
   {
    "duration": 49,
    "start_time": "2024-07-25T17:24:45.142Z"
   },
   {
    "duration": 26,
    "start_time": "2024-07-25T17:24:45.195Z"
   },
   {
    "duration": 19,
    "start_time": "2024-07-25T17:24:45.223Z"
   },
   {
    "duration": 63,
    "start_time": "2024-07-25T17:24:45.245Z"
   },
   {
    "duration": 20,
    "start_time": "2024-07-25T17:24:45.311Z"
   },
   {
    "duration": 14,
    "start_time": "2024-07-25T17:24:45.334Z"
   },
   {
    "duration": 30,
    "start_time": "2024-07-25T17:24:45.389Z"
   },
   {
    "duration": 72,
    "start_time": "2024-07-25T17:24:45.422Z"
   },
   {
    "duration": 29,
    "start_time": "2024-07-25T17:24:45.498Z"
   },
   {
    "duration": 86,
    "start_time": "2024-07-25T17:24:45.531Z"
   },
   {
    "duration": 12,
    "start_time": "2024-07-25T17:24:45.620Z"
   },
   {
    "duration": 72,
    "start_time": "2024-07-25T17:24:45.636Z"
   },
   {
    "duration": 29,
    "start_time": "2024-07-25T17:24:45.711Z"
   },
   {
    "duration": 64,
    "start_time": "2024-07-25T17:24:45.742Z"
   },
   {
    "duration": 36,
    "start_time": "2024-07-25T17:24:45.809Z"
   },
   {
    "duration": 55,
    "start_time": "2024-07-25T17:24:45.848Z"
   },
   {
    "duration": 27,
    "start_time": "2024-07-25T17:24:45.906Z"
   },
   {
    "duration": 67,
    "start_time": "2024-07-25T17:24:45.936Z"
   },
   {
    "duration": 437,
    "start_time": "2024-07-25T17:24:46.006Z"
   },
   {
    "duration": 293,
    "start_time": "2024-07-25T17:24:46.446Z"
   },
   {
    "duration": 10,
    "start_time": "2024-07-25T17:24:46.742Z"
   },
   {
    "duration": 263,
    "start_time": "2024-07-25T17:24:46.755Z"
   },
   {
    "duration": 0,
    "start_time": "2024-07-25T17:24:47.518Z"
   },
   {
    "duration": 0,
    "start_time": "2024-07-25T17:24:47.521Z"
   },
   {
    "duration": 0,
    "start_time": "2024-07-25T17:24:47.523Z"
   },
   {
    "duration": 0,
    "start_time": "2024-07-25T17:24:47.526Z"
   },
   {
    "duration": 25,
    "start_time": "2024-07-25T17:24:52.520Z"
   },
   {
    "duration": 22,
    "start_time": "2024-07-25T17:24:54.908Z"
   },
   {
    "duration": 32,
    "start_time": "2024-07-25T17:25:15.643Z"
   },
   {
    "duration": 8,
    "start_time": "2024-07-25T17:26:46.279Z"
   },
   {
    "duration": 12,
    "start_time": "2024-07-25T17:26:57.059Z"
   },
   {
    "duration": 200,
    "start_time": "2024-07-25T17:27:30.020Z"
   },
   {
    "duration": 399,
    "start_time": "2024-07-25T17:27:36.353Z"
   },
   {
    "duration": 569,
    "start_time": "2024-07-25T17:28:53.085Z"
   },
   {
    "duration": 378,
    "start_time": "2024-07-25T17:30:20.005Z"
   },
   {
    "duration": 370,
    "start_time": "2024-07-25T17:30:31.600Z"
   },
   {
    "duration": 550,
    "start_time": "2024-07-25T17:31:07.113Z"
   },
   {
    "duration": 385,
    "start_time": "2024-07-25T17:33:33.814Z"
   },
   {
    "duration": 356,
    "start_time": "2024-07-25T17:33:51.253Z"
   },
   {
    "duration": 370,
    "start_time": "2024-07-25T17:34:51.984Z"
   },
   {
    "duration": 11,
    "start_time": "2024-07-25T17:36:00.329Z"
   },
   {
    "duration": 12,
    "start_time": "2024-07-25T17:38:33.243Z"
   },
   {
    "duration": 8,
    "start_time": "2024-07-25T17:39:02.575Z"
   },
   {
    "duration": 886,
    "start_time": "2024-07-25T17:39:06.175Z"
   },
   {
    "duration": 12,
    "start_time": "2024-07-25T17:39:20.678Z"
   },
   {
    "duration": 228,
    "start_time": "2024-07-25T17:39:52.069Z"
   },
   {
    "duration": 363,
    "start_time": "2024-07-25T17:40:07.907Z"
   },
   {
    "duration": 5,
    "start_time": "2024-07-25T17:45:54.563Z"
   },
   {
    "duration": 5,
    "start_time": "2024-07-25T17:46:01.318Z"
   },
   {
    "duration": 6,
    "start_time": "2024-07-25T17:46:23.570Z"
   },
   {
    "duration": 5,
    "start_time": "2024-07-25T17:46:40.005Z"
   },
   {
    "duration": 4,
    "start_time": "2024-07-25T17:46:52.003Z"
   },
   {
    "duration": 4,
    "start_time": "2024-07-25T17:47:13.577Z"
   },
   {
    "duration": 34,
    "start_time": "2024-07-25T17:49:02.765Z"
   },
   {
    "duration": 7,
    "start_time": "2024-07-25T17:49:14.715Z"
   },
   {
    "duration": 6,
    "start_time": "2024-07-25T17:49:17.555Z"
   },
   {
    "duration": 6,
    "start_time": "2024-07-25T17:49:24.716Z"
   },
   {
    "duration": 119,
    "start_time": "2024-07-25T17:51:16.535Z"
   },
   {
    "duration": 9,
    "start_time": "2024-07-25T17:51:37.863Z"
   },
   {
    "duration": 11,
    "start_time": "2024-07-25T17:52:19.990Z"
   },
   {
    "duration": 38,
    "start_time": "2024-07-25T17:53:20.418Z"
   },
   {
    "duration": 257,
    "start_time": "2024-07-25T17:53:38.786Z"
   },
   {
    "duration": 259,
    "start_time": "2024-07-25T17:57:05.475Z"
   },
   {
    "duration": 260,
    "start_time": "2024-07-25T17:57:13.724Z"
   },
   {
    "duration": 5055,
    "start_time": "2024-07-25T23:15:28.235Z"
   },
   {
    "duration": 370,
    "start_time": "2024-07-25T23:15:33.294Z"
   },
   {
    "duration": 18,
    "start_time": "2024-07-25T23:15:33.668Z"
   },
   {
    "duration": 17,
    "start_time": "2024-07-25T23:15:33.690Z"
   },
   {
    "duration": 56,
    "start_time": "2024-07-25T23:15:33.713Z"
   },
   {
    "duration": 19,
    "start_time": "2024-07-25T23:15:33.773Z"
   },
   {
    "duration": 26,
    "start_time": "2024-07-25T23:15:33.797Z"
   },
   {
    "duration": 42,
    "start_time": "2024-07-25T23:15:33.827Z"
   },
   {
    "duration": 27,
    "start_time": "2024-07-25T23:15:33.872Z"
   },
   {
    "duration": 19,
    "start_time": "2024-07-25T23:15:33.903Z"
   },
   {
    "duration": 64,
    "start_time": "2024-07-25T23:15:33.928Z"
   },
   {
    "duration": 23,
    "start_time": "2024-07-25T23:15:33.995Z"
   },
   {
    "duration": 45,
    "start_time": "2024-07-25T23:15:34.023Z"
   },
   {
    "duration": 31,
    "start_time": "2024-07-25T23:15:34.077Z"
   },
   {
    "duration": 23,
    "start_time": "2024-07-25T23:15:34.111Z"
   },
   {
    "duration": 48,
    "start_time": "2024-07-25T23:15:34.136Z"
   },
   {
    "duration": 40,
    "start_time": "2024-07-25T23:15:34.186Z"
   },
   {
    "duration": 47,
    "start_time": "2024-07-25T23:15:34.229Z"
   },
   {
    "duration": 47,
    "start_time": "2024-07-25T23:15:34.278Z"
   },
   {
    "duration": 60,
    "start_time": "2024-07-25T23:15:34.328Z"
   },
   {
    "duration": 44,
    "start_time": "2024-07-25T23:15:34.391Z"
   },
   {
    "duration": 60,
    "start_time": "2024-07-25T23:15:34.438Z"
   },
   {
    "duration": 32,
    "start_time": "2024-07-25T23:15:34.502Z"
   },
   {
    "duration": 57,
    "start_time": "2024-07-25T23:15:34.537Z"
   },
   {
    "duration": 38,
    "start_time": "2024-07-25T23:15:34.598Z"
   },
   {
    "duration": 486,
    "start_time": "2024-07-25T23:15:34.669Z"
   },
   {
    "duration": 308,
    "start_time": "2024-07-25T23:15:35.160Z"
   },
   {
    "duration": 9,
    "start_time": "2024-07-25T23:15:35.472Z"
   },
   {
    "duration": 276,
    "start_time": "2024-07-25T23:15:35.483Z"
   },
   {
    "duration": 428,
    "start_time": "2024-07-25T23:15:35.770Z"
   },
   {
    "duration": 295,
    "start_time": "2024-07-25T23:15:36.201Z"
   },
   {
    "duration": 246,
    "start_time": "2024-07-25T23:15:36.500Z"
   },
   {
    "duration": 19,
    "start_time": "2024-07-25T23:15:36.749Z"
   },
   {
    "duration": 3,
    "start_time": "2024-07-25T23:15:36.772Z"
   },
   {
    "duration": 3,
    "start_time": "2024-07-25T23:15:36.779Z"
   },
   {
    "duration": 24,
    "start_time": "2024-07-25T23:15:54.625Z"
   },
   {
    "duration": 1526,
    "start_time": "2024-07-25T23:17:49.479Z"
   },
   {
    "duration": 7,
    "start_time": "2024-07-25T23:20:04.335Z"
   },
   {
    "duration": 27,
    "start_time": "2024-07-25T23:21:31.560Z"
   },
   {
    "duration": 366,
    "start_time": "2024-07-25T23:21:34.515Z"
   },
   {
    "duration": 571,
    "start_time": "2024-07-25T23:22:43.236Z"
   },
   {
    "duration": 359,
    "start_time": "2024-07-25T23:22:50.125Z"
   },
   {
    "duration": 348,
    "start_time": "2024-07-25T23:23:02.986Z"
   },
   {
    "duration": 395,
    "start_time": "2024-07-25T23:23:36.577Z"
   },
   {
    "duration": 391,
    "start_time": "2024-07-25T23:23:42.145Z"
   },
   {
    "duration": 8,
    "start_time": "2024-07-25T23:25:12.814Z"
   },
   {
    "duration": 1123,
    "start_time": "2024-07-25T23:26:35.550Z"
   },
   {
    "duration": 136,
    "start_time": "2024-07-25T23:28:13.645Z"
   },
   {
    "duration": 13,
    "start_time": "2024-07-25T23:29:00.720Z"
   },
   {
    "duration": 228,
    "start_time": "2024-07-25T23:29:22.430Z"
   },
   {
    "duration": 242,
    "start_time": "2024-07-25T23:29:36.813Z"
   },
   {
    "duration": 275,
    "start_time": "2024-07-25T23:29:56.182Z"
   },
   {
    "duration": 7,
    "start_time": "2024-07-25T23:31:57.026Z"
   },
   {
    "duration": 6,
    "start_time": "2024-07-25T23:32:10.994Z"
   },
   {
    "duration": 10,
    "start_time": "2024-07-25T23:34:20.961Z"
   },
   {
    "duration": 9,
    "start_time": "2024-07-25T23:36:27.825Z"
   },
   {
    "duration": 287,
    "start_time": "2024-07-25T23:37:37.849Z"
   },
   {
    "duration": 227,
    "start_time": "2024-07-25T23:38:01.710Z"
   },
   {
    "duration": 30,
    "start_time": "2024-07-25T23:44:30.564Z"
   },
   {
    "duration": 40,
    "start_time": "2024-07-25T23:45:00.855Z"
   },
   {
    "duration": 23,
    "start_time": "2024-07-25T23:45:26.319Z"
   },
   {
    "duration": 40,
    "start_time": "2024-07-25T23:45:30.687Z"
   },
   {
    "duration": 258,
    "start_time": "2024-07-25T23:45:50.692Z"
   },
   {
    "duration": 18,
    "start_time": "2024-07-25T23:45:58.048Z"
   },
   {
    "duration": 17,
    "start_time": "2024-07-25T23:46:54.815Z"
   },
   {
    "duration": 11,
    "start_time": "2024-07-25T23:48:14.126Z"
   },
   {
    "duration": 18,
    "start_time": "2024-07-25T23:48:20.209Z"
   },
   {
    "duration": 16,
    "start_time": "2024-07-25T23:48:35.484Z"
   },
   {
    "duration": 17,
    "start_time": "2024-07-25T23:49:06.571Z"
   },
   {
    "duration": 416,
    "start_time": "2024-07-25T23:49:29.956Z"
   },
   {
    "duration": 281,
    "start_time": "2024-07-25T23:49:58.090Z"
   },
   {
    "duration": 382,
    "start_time": "2024-07-25T23:50:11.892Z"
   },
   {
    "duration": 442,
    "start_time": "2024-07-25T23:50:36.120Z"
   },
   {
    "duration": 450,
    "start_time": "2024-07-25T23:50:52.176Z"
   },
   {
    "duration": 274,
    "start_time": "2024-07-25T23:53:05.052Z"
   },
   {
    "duration": 279,
    "start_time": "2024-07-25T23:53:24.551Z"
   },
   {
    "duration": 228,
    "start_time": "2024-07-25T23:56:45.165Z"
   },
   {
    "duration": 4944,
    "start_time": "2024-07-26T00:58:34.034Z"
   },
   {
    "duration": 351,
    "start_time": "2024-07-26T00:58:38.981Z"
   },
   {
    "duration": 16,
    "start_time": "2024-07-26T00:58:39.335Z"
   },
   {
    "duration": 15,
    "start_time": "2024-07-26T00:58:39.355Z"
   },
   {
    "duration": 40,
    "start_time": "2024-07-26T00:58:39.374Z"
   },
   {
    "duration": 16,
    "start_time": "2024-07-26T00:58:39.417Z"
   },
   {
    "duration": 21,
    "start_time": "2024-07-26T00:58:39.436Z"
   },
   {
    "duration": 7,
    "start_time": "2024-07-26T00:58:39.460Z"
   },
   {
    "duration": 25,
    "start_time": "2024-07-26T00:58:39.507Z"
   },
   {
    "duration": 17,
    "start_time": "2024-07-26T00:58:39.538Z"
   },
   {
    "duration": 61,
    "start_time": "2024-07-26T00:58:39.558Z"
   },
   {
    "duration": 20,
    "start_time": "2024-07-26T00:58:39.622Z"
   },
   {
    "duration": 15,
    "start_time": "2024-07-26T00:58:39.646Z"
   },
   {
    "duration": 62,
    "start_time": "2024-07-26T00:58:39.664Z"
   },
   {
    "duration": 22,
    "start_time": "2024-07-26T00:58:39.730Z"
   },
   {
    "duration": 17,
    "start_time": "2024-07-26T00:58:39.755Z"
   },
   {
    "duration": 37,
    "start_time": "2024-07-26T00:58:39.806Z"
   },
   {
    "duration": 12,
    "start_time": "2024-07-26T00:58:39.846Z"
   },
   {
    "duration": 73,
    "start_time": "2024-07-26T00:58:39.861Z"
   },
   {
    "duration": 29,
    "start_time": "2024-07-26T00:58:39.938Z"
   },
   {
    "duration": 61,
    "start_time": "2024-07-26T00:58:39.970Z"
   },
   {
    "duration": 36,
    "start_time": "2024-07-26T00:58:40.033Z"
   },
   {
    "duration": 54,
    "start_time": "2024-07-26T00:58:40.072Z"
   },
   {
    "duration": 29,
    "start_time": "2024-07-26T00:58:40.129Z"
   },
   {
    "duration": 59,
    "start_time": "2024-07-26T00:58:40.160Z"
   },
   {
    "duration": 445,
    "start_time": "2024-07-26T00:58:40.222Z"
   },
   {
    "duration": 287,
    "start_time": "2024-07-26T00:58:40.670Z"
   },
   {
    "duration": 8,
    "start_time": "2024-07-26T00:58:40.964Z"
   },
   {
    "duration": 254,
    "start_time": "2024-07-26T00:58:40.975Z"
   },
   {
    "duration": 399,
    "start_time": "2024-07-26T00:58:41.232Z"
   },
   {
    "duration": 274,
    "start_time": "2024-07-26T00:58:41.634Z"
   },
   {
    "duration": 226,
    "start_time": "2024-07-26T00:58:41.913Z"
   },
   {
    "duration": 393,
    "start_time": "2024-07-26T00:58:42.144Z"
   },
   {
    "duration": 360,
    "start_time": "2024-07-26T00:58:42.540Z"
   },
   {
    "duration": 221,
    "start_time": "2024-07-26T00:58:42.906Z"
   },
   {
    "duration": 423,
    "start_time": "2024-07-26T00:58:43.131Z"
   },
   {
    "duration": 287,
    "start_time": "2024-07-26T00:58:43.557Z"
   },
   {
    "duration": 230,
    "start_time": "2024-07-26T00:58:43.847Z"
   },
   {
    "duration": 3,
    "start_time": "2024-07-26T00:58:44.080Z"
   },
   {
    "duration": 9,
    "start_time": "2024-07-26T00:58:44.086Z"
   },
   {
    "duration": 391,
    "start_time": "2024-07-26T01:07:03.862Z"
   },
   {
    "duration": 982,
    "start_time": "2024-07-26T01:07:25.487Z"
   },
   {
    "duration": 25,
    "start_time": "2024-07-26T01:07:29.350Z"
   },
   {
    "duration": 26,
    "start_time": "2024-07-26T01:08:06.585Z"
   },
   {
    "duration": 4,
    "start_time": "2024-07-26T01:08:15.239Z"
   },
   {
    "duration": 5,
    "start_time": "2024-07-26T01:08:32.987Z"
   },
   {
    "duration": 28,
    "start_time": "2024-07-26T01:10:16.609Z"
   },
   {
    "duration": 6,
    "start_time": "2024-07-26T01:10:25.249Z"
   },
   {
    "duration": 6,
    "start_time": "2024-07-26T01:11:35.273Z"
   },
   {
    "duration": 7,
    "start_time": "2024-07-26T01:13:15.245Z"
   },
   {
    "duration": 13,
    "start_time": "2024-07-26T01:14:49.452Z"
   },
   {
    "duration": 22,
    "start_time": "2024-07-26T01:15:12.203Z"
   },
   {
    "duration": 23,
    "start_time": "2024-07-26T01:15:19.432Z"
   },
   {
    "duration": 11,
    "start_time": "2024-07-26T01:15:33.352Z"
   },
   {
    "duration": 22,
    "start_time": "2024-07-26T01:15:44.490Z"
   },
   {
    "duration": 23,
    "start_time": "2024-07-26T01:16:59.799Z"
   },
   {
    "duration": 21,
    "start_time": "2024-07-26T01:17:07.644Z"
   },
   {
    "duration": 24,
    "start_time": "2024-07-26T01:17:19.644Z"
   },
   {
    "duration": 12,
    "start_time": "2024-07-26T01:18:15.285Z"
   },
   {
    "duration": 8,
    "start_time": "2024-07-26T01:19:11.852Z"
   },
   {
    "duration": 20,
    "start_time": "2024-07-26T01:19:18.747Z"
   },
   {
    "duration": 15,
    "start_time": "2024-07-26T01:19:37.224Z"
   },
   {
    "duration": 27,
    "start_time": "2024-07-26T01:19:53.693Z"
   },
   {
    "duration": 29,
    "start_time": "2024-07-26T01:20:06.282Z"
   },
   {
    "duration": 28,
    "start_time": "2024-07-26T01:20:10.795Z"
   },
   {
    "duration": 15,
    "start_time": "2024-07-26T01:21:00.448Z"
   },
   {
    "duration": 37,
    "start_time": "2024-07-26T01:21:07.668Z"
   },
   {
    "duration": 18,
    "start_time": "2024-07-26T01:23:37.529Z"
   },
   {
    "duration": 28,
    "start_time": "2024-07-26T01:23:45.054Z"
   },
   {
    "duration": 29,
    "start_time": "2024-07-26T01:24:52.295Z"
   },
   {
    "duration": 31,
    "start_time": "2024-07-26T01:29:02.132Z"
   },
   {
    "duration": 35,
    "start_time": "2024-07-26T01:29:08.311Z"
   },
   {
    "duration": 22,
    "start_time": "2024-07-26T01:34:45.601Z"
   },
   {
    "duration": 62,
    "start_time": "2024-07-26T01:38:29.314Z"
   },
   {
    "duration": 23,
    "start_time": "2024-07-26T01:38:34.759Z"
   },
   {
    "duration": 23,
    "start_time": "2024-07-26T01:38:56.676Z"
   },
   {
    "duration": 25,
    "start_time": "2024-07-26T01:39:01.518Z"
   },
   {
    "duration": 23,
    "start_time": "2024-07-26T01:42:48.827Z"
   },
   {
    "duration": 4868,
    "start_time": "2024-07-28T16:41:09.652Z"
   },
   {
    "duration": 363,
    "start_time": "2024-07-28T16:41:14.524Z"
   },
   {
    "duration": 17,
    "start_time": "2024-07-28T16:41:14.890Z"
   },
   {
    "duration": 19,
    "start_time": "2024-07-28T16:41:14.914Z"
   },
   {
    "duration": 17,
    "start_time": "2024-07-28T16:41:14.938Z"
   },
   {
    "duration": 51,
    "start_time": "2024-07-28T16:41:14.958Z"
   },
   {
    "duration": 25,
    "start_time": "2024-07-28T16:41:15.012Z"
   },
   {
    "duration": 7,
    "start_time": "2024-07-28T16:41:15.040Z"
   },
   {
    "duration": 58,
    "start_time": "2024-07-28T16:41:15.051Z"
   },
   {
    "duration": 21,
    "start_time": "2024-07-28T16:41:15.112Z"
   },
   {
    "duration": 30,
    "start_time": "2024-07-28T16:41:15.136Z"
   },
   {
    "duration": 53,
    "start_time": "2024-07-28T16:41:15.168Z"
   },
   {
    "duration": 17,
    "start_time": "2024-07-28T16:41:15.224Z"
   },
   {
    "duration": 32,
    "start_time": "2024-07-28T16:41:15.249Z"
   },
   {
    "duration": 23,
    "start_time": "2024-07-28T16:41:15.308Z"
   },
   {
    "duration": 17,
    "start_time": "2024-07-28T16:41:15.334Z"
   },
   {
    "duration": 72,
    "start_time": "2024-07-28T16:41:15.354Z"
   },
   {
    "duration": 13,
    "start_time": "2024-07-28T16:41:15.429Z"
   },
   {
    "duration": 71,
    "start_time": "2024-07-28T16:41:15.445Z"
   },
   {
    "duration": 28,
    "start_time": "2024-07-28T16:41:15.519Z"
   },
   {
    "duration": 59,
    "start_time": "2024-07-28T16:41:15.550Z"
   },
   {
    "duration": 41,
    "start_time": "2024-07-28T16:41:15.612Z"
   },
   {
    "duration": 55,
    "start_time": "2024-07-28T16:41:15.656Z"
   },
   {
    "duration": 28,
    "start_time": "2024-07-28T16:41:15.714Z"
   },
   {
    "duration": 65,
    "start_time": "2024-07-28T16:41:15.745Z"
   },
   {
    "duration": 428,
    "start_time": "2024-07-28T16:41:15.814Z"
   },
   {
    "duration": 287,
    "start_time": "2024-07-28T16:41:16.245Z"
   },
   {
    "duration": 10,
    "start_time": "2024-07-28T16:41:16.536Z"
   },
   {
    "duration": 252,
    "start_time": "2024-07-28T16:41:16.549Z"
   },
   {
    "duration": 399,
    "start_time": "2024-07-28T16:41:16.809Z"
   },
   {
    "duration": 351,
    "start_time": "2024-07-28T16:41:17.212Z"
   },
   {
    "duration": 219,
    "start_time": "2024-07-28T16:41:17.566Z"
   },
   {
    "duration": 404,
    "start_time": "2024-07-28T16:41:17.788Z"
   },
   {
    "duration": 287,
    "start_time": "2024-07-28T16:41:18.196Z"
   },
   {
    "duration": 232,
    "start_time": "2024-07-28T16:41:18.486Z"
   },
   {
    "duration": 411,
    "start_time": "2024-07-28T16:41:18.721Z"
   },
   {
    "duration": 289,
    "start_time": "2024-07-28T16:41:19.135Z"
   },
   {
    "duration": 227,
    "start_time": "2024-07-28T16:41:19.427Z"
   },
   {
    "duration": 8,
    "start_time": "2024-07-28T16:41:19.657Z"
   },
   {
    "duration": 51,
    "start_time": "2024-07-28T16:41:19.669Z"
   },
   {
    "duration": 4,
    "start_time": "2024-07-28T16:43:49.918Z"
   },
   {
    "duration": 35,
    "start_time": "2024-07-28T16:54:34.001Z"
   },
   {
    "duration": 22,
    "start_time": "2024-07-28T17:05:39.380Z"
   },
   {
    "duration": 116,
    "start_time": "2024-07-28T17:05:42.239Z"
   },
   {
    "duration": 8,
    "start_time": "2024-07-28T17:07:19.018Z"
   },
   {
    "duration": 21,
    "start_time": "2024-07-28T17:07:21.519Z"
   },
   {
    "duration": 34,
    "start_time": "2024-07-28T17:07:25.227Z"
   },
   {
    "duration": 41,
    "start_time": "2024-07-28T17:08:06.224Z"
   },
   {
    "duration": 29,
    "start_time": "2024-07-28T17:08:15.316Z"
   },
   {
    "duration": 27,
    "start_time": "2024-07-28T17:08:21.148Z"
   },
   {
    "duration": 33,
    "start_time": "2024-07-28T17:08:27.985Z"
   },
   {
    "duration": 34,
    "start_time": "2024-07-28T17:08:38.408Z"
   },
   {
    "duration": 30,
    "start_time": "2024-07-28T17:08:55.997Z"
   },
   {
    "duration": 37,
    "start_time": "2024-07-28T17:09:22.542Z"
   },
   {
    "duration": 1330,
    "start_time": "2024-07-28T17:09:44.290Z"
   },
   {
    "duration": 288,
    "start_time": "2024-07-28T17:09:45.624Z"
   },
   {
    "duration": 17,
    "start_time": "2024-07-28T17:09:45.915Z"
   },
   {
    "duration": 18,
    "start_time": "2024-07-28T17:09:45.935Z"
   },
   {
    "duration": 52,
    "start_time": "2024-07-28T17:09:45.959Z"
   },
   {
    "duration": 16,
    "start_time": "2024-07-28T17:09:46.014Z"
   },
   {
    "duration": 21,
    "start_time": "2024-07-28T17:09:46.033Z"
   },
   {
    "duration": 7,
    "start_time": "2024-07-28T17:09:46.058Z"
   },
   {
    "duration": 62,
    "start_time": "2024-07-28T17:09:46.068Z"
   },
   {
    "duration": 16,
    "start_time": "2024-07-28T17:09:46.133Z"
   },
   {
    "duration": 68,
    "start_time": "2024-07-28T17:09:46.152Z"
   },
   {
    "duration": 21,
    "start_time": "2024-07-28T17:09:46.222Z"
   },
   {
    "duration": 15,
    "start_time": "2024-07-28T17:09:46.246Z"
   },
   {
    "duration": 58,
    "start_time": "2024-07-28T17:09:46.269Z"
   },
   {
    "duration": 22,
    "start_time": "2024-07-28T17:09:46.330Z"
   },
   {
    "duration": 18,
    "start_time": "2024-07-28T17:09:46.354Z"
   },
   {
    "duration": 37,
    "start_time": "2024-07-28T17:09:46.409Z"
   },
   {
    "duration": 13,
    "start_time": "2024-07-28T17:09:46.449Z"
   },
   {
    "duration": 67,
    "start_time": "2024-07-28T17:09:46.465Z"
   },
   {
    "duration": 27,
    "start_time": "2024-07-28T17:09:46.535Z"
   },
   {
    "duration": 64,
    "start_time": "2024-07-28T17:09:46.565Z"
   },
   {
    "duration": 37,
    "start_time": "2024-07-28T17:09:46.632Z"
   },
   {
    "duration": 59,
    "start_time": "2024-07-28T17:09:46.671Z"
   },
   {
    "duration": 29,
    "start_time": "2024-07-28T17:09:46.733Z"
   },
   {
    "duration": 60,
    "start_time": "2024-07-28T17:09:46.765Z"
   },
   {
    "duration": 430,
    "start_time": "2024-07-28T17:09:46.827Z"
   },
   {
    "duration": 359,
    "start_time": "2024-07-28T17:09:47.260Z"
   },
   {
    "duration": 10,
    "start_time": "2024-07-28T17:09:47.623Z"
   },
   {
    "duration": 258,
    "start_time": "2024-07-28T17:09:47.636Z"
   },
   {
    "duration": 397,
    "start_time": "2024-07-28T17:09:47.897Z"
   },
   {
    "duration": 267,
    "start_time": "2024-07-28T17:09:48.297Z"
   },
   {
    "duration": 223,
    "start_time": "2024-07-28T17:09:48.567Z"
   },
   {
    "duration": 401,
    "start_time": "2024-07-28T17:09:48.793Z"
   },
   {
    "duration": 289,
    "start_time": "2024-07-28T17:09:49.198Z"
   },
   {
    "duration": 230,
    "start_time": "2024-07-28T17:09:49.490Z"
   },
   {
    "duration": 413,
    "start_time": "2024-07-28T17:09:49.724Z"
   },
   {
    "duration": 288,
    "start_time": "2024-07-28T17:09:50.139Z"
   },
   {
    "duration": 230,
    "start_time": "2024-07-28T17:09:50.431Z"
   },
   {
    "duration": 7,
    "start_time": "2024-07-28T17:09:50.664Z"
   },
   {
    "duration": 53,
    "start_time": "2024-07-28T17:09:50.674Z"
   },
   {
    "duration": 119,
    "start_time": "2024-07-28T17:10:02.602Z"
   },
   {
    "duration": 38,
    "start_time": "2024-07-28T17:10:51.395Z"
   },
   {
    "duration": 8,
    "start_time": "2024-07-28T17:12:20.270Z"
   }
  ],
  "colab": {
   "provenance": []
  },
  "kernelspec": {
   "display_name": "Python 3 (ipykernel)",
   "language": "python",
   "name": "python3"
  },
  "language_info": {
   "codemirror_mode": {
    "name": "ipython",
    "version": 3
   },
   "file_extension": ".py",
   "mimetype": "text/x-python",
   "name": "python",
   "nbconvert_exporter": "python",
   "pygments_lexer": "ipython3",
   "version": "3.12.4"
  },
  "toc": {
   "base_numbering": 1,
   "nav_menu": {},
   "number_sections": true,
   "sideBar": true,
   "skip_h1_title": false,
   "title_cell": "Table of Contents",
   "title_sidebar": "Contents",
   "toc_cell": false,
   "toc_position": {},
   "toc_section_display": true,
   "toc_window_display": false
  }
 },
 "nbformat": 4,
 "nbformat_minor": 1
}
